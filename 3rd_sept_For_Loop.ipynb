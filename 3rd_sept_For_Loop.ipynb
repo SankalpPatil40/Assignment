{
 "cells": [
  {
   "cell_type": "markdown",
   "id": "b4b1dbea",
   "metadata": {},
   "source": [
    "<div style=\"text-align: center; font-size: 2.5em;\">\n",
    "   For Loop\n",
    "</div>"
   ]
  },
  {
   "cell_type": "markdown",
   "id": "f6b510ab",
   "metadata": {},
   "source": [
    "<div style=\"text-align: center; font-size: 2em;\">\n",
    "   Assignment Questions\n",
    "</div>"
   ]
  },
  {
   "cell_type": "markdown",
   "id": "e831619e",
   "metadata": {},
   "source": [
    "<div style=\"text-align: center; font-size: 1.5em;\">\n",
    "   Basic Level:\n",
    "</div>"
   ]
  },
  {
   "cell_type": "markdown",
   "id": "8ba7ab11",
   "metadata": {},
   "source": [
    "1. Write a Python program to print the numbers from 1 to 10 using a `for` loop."
   ]
  },
  {
   "cell_type": "code",
   "execution_count": 1,
   "id": "907c6dff",
   "metadata": {},
   "outputs": [
    {
     "name": "stdout",
     "output_type": "stream",
     "text": [
      "1\n",
      "2\n",
      "3\n",
      "4\n",
      "5\n",
      "6\n",
      "7\n",
      "8\n",
      "9\n",
      "10\n"
     ]
    }
   ],
   "source": [
    "for i in range(1, 11):\n",
    "    print(i)"
   ]
  },
  {
   "cell_type": "code",
   "execution_count": 2,
   "id": "532aaf9c",
   "metadata": {},
   "outputs": [
    {
     "name": "stdout",
     "output_type": "stream",
     "text": [
      "The sum of numbers in the list is: 150\n"
     ]
    }
   ],
   "source": [
    "numbers = [10, 20, 30, 40, 50]\n",
    "\n",
    "total = 0\n",
    "\n",
    "for num in numbers:\n",
    "    total += num\n",
    "\n",
    "print(\"The sum of numbers in the list is:\", total)"
   ]
  },
  {
   "cell_type": "markdown",
   "id": "52a89dd3",
   "metadata": {},
   "source": [
    "3. Write a program to print the characters of a string in reverse order using a `for` loop."
   ]
  },
  {
   "cell_type": "code",
   "execution_count": 2,
   "id": "b177f93b",
   "metadata": {},
   "outputs": [
    {
     "name": "stdout",
     "output_type": "stream",
     "text": [
      "Enter a string: PWskills\n",
      "slliksWP"
     ]
    }
   ],
   "source": [
    "input_string = input(\"Enter a string: \")\n",
    "\n",
    "for i in range(len(input_string) - 1, -1, -1):\n",
    "    print(input_string[i], end=\"\")\n"
   ]
  },
  {
   "cell_type": "markdown",
   "id": "00c1790f",
   "metadata": {},
   "source": [
    "4. Develop a program that finds the factorial of a given number using a `for` loop."
   ]
  },
  {
   "cell_type": "code",
   "execution_count": 1,
   "id": "d8ac7045",
   "metadata": {},
   "outputs": [
    {
     "name": "stdout",
     "output_type": "stream",
     "text": [
      "Enter a number: 6\n"
     ]
    }
   ],
   "source": [
    "num = int(input(\"Enter a number: \"))"
   ]
  },
  {
   "cell_type": "code",
   "execution_count": 2,
   "id": "8b5b3677",
   "metadata": {},
   "outputs": [],
   "source": [
    "factorial = 1\n",
    "\n",
    "if num < 0:\n",
    "    print(\"Factorial is not defined for negative numbers.\")\n",
    "elif num == 0:\n",
    "    print(\"The factorial of 0 is 1.\")\n",
    "else:\n",
    "    \n",
    "    for i in range(1, num + 1):\n",
    "        factorial *= i"
   ]
  },
  {
   "cell_type": "code",
   "execution_count": 3,
   "id": "035fffe0",
   "metadata": {},
   "outputs": [
    {
     "name": "stdout",
     "output_type": "stream",
     "text": [
      "The factorial of 6 is 720\n"
     ]
    }
   ],
   "source": [
    "print(f\"The factorial of {num} is {factorial}\")"
   ]
  },
  {
   "cell_type": "markdown",
   "id": "e77a205d",
   "metadata": {},
   "source": [
    "5. Create a program to print the multiplication table of a given number using a `for` loop."
   ]
  },
  {
   "cell_type": "code",
   "execution_count": 4,
   "id": "24c38edb",
   "metadata": {},
   "outputs": [
    {
     "name": "stdout",
     "output_type": "stream",
     "text": [
      "Enter a number: 7\n"
     ]
    }
   ],
   "source": [
    "num = int(input(\"Enter a number: \"))"
   ]
  },
  {
   "cell_type": "code",
   "execution_count": 5,
   "id": "92ef05dc",
   "metadata": {},
   "outputs": [
    {
     "name": "stdout",
     "output_type": "stream",
     "text": [
      "Multiplication table for 7:\n",
      "7 x 1 = 7\n",
      "7 x 2 = 14\n",
      "7 x 3 = 21\n",
      "7 x 4 = 28\n",
      "7 x 5 = 35\n",
      "7 x 6 = 42\n",
      "7 x 7 = 49\n",
      "7 x 8 = 56\n",
      "7 x 9 = 63\n",
      "7 x 10 = 70\n"
     ]
    }
   ],
   "source": [
    "if num < 0:\n",
    "    print(\"Multiplication table is not defined for negative numbers.\")\n",
    "else:\n",
    "    \n",
    "    print(f\"Multiplication table for {num}:\")\n",
    "\n",
    "    for i in range(1, 11):  \n",
    "        result = num * i\n",
    "        print(f\"{num} x {i} = {result}\")"
   ]
  },
  {
   "cell_type": "markdown",
   "id": "d8e988a6",
   "metadata": {},
   "source": [
    "6. Write a program that counts the number of even and odd numbers in a list using a `for` loop."
   ]
  },
  {
   "cell_type": "code",
   "execution_count": 7,
   "id": "b69d5f41",
   "metadata": {},
   "outputs": [
    {
     "name": "stdout",
     "output_type": "stream",
     "text": [
      "Enter a list of numbers separated by spaces: 2 17 31 44 75 6 3 10 5 34 69 99\n"
     ]
    }
   ],
   "source": [
    "num_list = input(\"Enter a list of numbers separated by spaces: \").split()"
   ]
  },
  {
   "cell_type": "code",
   "execution_count": 8,
   "id": "dfa0cd51",
   "metadata": {},
   "outputs": [],
   "source": [
    "numbers = [int(num) for num in num_list] # converting the inputs to int"
   ]
  },
  {
   "cell_type": "code",
   "execution_count": 9,
   "id": "a4a9eb97",
   "metadata": {},
   "outputs": [],
   "source": [
    "even_count = 0\n",
    "odd_count = 0\n",
    "\n",
    "for num in numbers:\n",
    "    if num % 2 == 0:\n",
    "        even_count += 1  \n",
    "    else:\n",
    "        odd_count += 1   "
   ]
  },
  {
   "cell_type": "code",
   "execution_count": 10,
   "id": "245c50f5",
   "metadata": {},
   "outputs": [
    {
     "name": "stdout",
     "output_type": "stream",
     "text": [
      "Number of even numbers: 5\n",
      "Number of odd numbers: 7\n"
     ]
    }
   ],
   "source": [
    "print(\"Number of even numbers:\", even_count)\n",
    "print(\"Number of odd numbers:\", odd_count)"
   ]
  },
  {
   "cell_type": "markdown",
   "id": "a856d0a8",
   "metadata": {},
   "source": [
    "7. Develop a program that prints the squares of numbers from 1 to 5 using a `for` loop."
   ]
  },
  {
   "cell_type": "code",
   "execution_count": 12,
   "id": "524aa180",
   "metadata": {},
   "outputs": [
    {
     "name": "stdout",
     "output_type": "stream",
     "text": [
      "The square of 1 is 1\n",
      "The square of 2 is 4\n",
      "The square of 3 is 9\n",
      "The square of 4 is 16\n",
      "The square of 5 is 25\n"
     ]
    }
   ],
   "source": [
    "for num in range(1, 6):\n",
    "    square = num * num\n",
    "    print(f\"The square of {num} is {square}\")"
   ]
  },
  {
   "cell_type": "markdown",
   "id": "a80c533c",
   "metadata": {},
   "source": [
    "8. Create a program to find the length of a string without using the `len()` function."
   ]
  },
  {
   "cell_type": "code",
   "execution_count": 13,
   "id": "6be78c43",
   "metadata": {},
   "outputs": [
    {
     "name": "stdout",
     "output_type": "stream",
     "text": [
      "Enter a string: This is my third assignment\n"
     ]
    }
   ],
   "source": [
    "input_string = input(\"Enter a string: \")"
   ]
  },
  {
   "cell_type": "code",
   "execution_count": 14,
   "id": "851e1952",
   "metadata": {},
   "outputs": [],
   "source": [
    "length = 0\n",
    "\n",
    "for char in input_string:\n",
    "    length += 1  "
   ]
  },
  {
   "cell_type": "code",
   "execution_count": 15,
   "id": "45ff693f",
   "metadata": {},
   "outputs": [
    {
     "name": "stdout",
     "output_type": "stream",
     "text": [
      "The length of the string is 27\n"
     ]
    }
   ],
   "source": [
    "print(f\"The length of the string is {length}\")"
   ]
  },
  {
   "cell_type": "markdown",
   "id": "45d93a25",
   "metadata": {},
   "source": [
    "9. Write a program that calculates the average of a list of numbers using a `for` loop."
   ]
  },
  {
   "cell_type": "code",
   "execution_count": 16,
   "id": "39693d24",
   "metadata": {},
   "outputs": [
    {
     "name": "stdout",
     "output_type": "stream",
     "text": [
      "Enter a list of numbers separated by spaces: 78 4 5 67 69 54 41 55 34 99\n"
     ]
    }
   ],
   "source": [
    "num_list = input(\"Enter a list of numbers separated by spaces: \").split()"
   ]
  },
  {
   "cell_type": "code",
   "execution_count": 17,
   "id": "e60d37d3",
   "metadata": {},
   "outputs": [],
   "source": [
    "numbers = [float(num) for num in num_list]"
   ]
  },
  {
   "cell_type": "code",
   "execution_count": 18,
   "id": "997e2b36",
   "metadata": {},
   "outputs": [],
   "source": [
    "total = 0\n",
    "count = 0\n",
    "\n",
    "for num in numbers:\n",
    "    total += num  \n",
    "    count += 1    "
   ]
  },
  {
   "cell_type": "code",
   "execution_count": 19,
   "id": "2f07af1b",
   "metadata": {},
   "outputs": [
    {
     "name": "stdout",
     "output_type": "stream",
     "text": [
      "The average of the numbers is: 50.6\n"
     ]
    }
   ],
   "source": [
    "if count == 0:\n",
    "    print(\"The list is empty. Cannot calculate the average.\")\n",
    "else:\n",
    "    \n",
    "    average = total / count\n",
    "\n",
    "    print(\"The average of the numbers is:\", average)"
   ]
  },
  {
   "cell_type": "markdown",
   "id": "b80d42c4",
   "metadata": {},
   "source": [
    "10. Develop a program that prints the first `n` Fibonacci numbers using a `for` loop."
   ]
  },
  {
   "cell_type": "code",
   "execution_count": 20,
   "id": "07b13077",
   "metadata": {},
   "outputs": [
    {
     "name": "stdout",
     "output_type": "stream",
     "text": [
      "Enter the number of Fibonacci numbers to generate: 10\n"
     ]
    }
   ],
   "source": [
    "n = int(input(\"Enter the number of Fibonacci numbers to generate: \"))"
   ]
  },
  {
   "cell_type": "code",
   "execution_count": 27,
   "id": "3853793a",
   "metadata": {},
   "outputs": [],
   "source": [
    "fibonacci_sequence = []"
   ]
  },
  {
   "cell_type": "code",
   "execution_count": 28,
   "id": "170012c2",
   "metadata": {},
   "outputs": [
    {
     "name": "stdout",
     "output_type": "stream",
     "text": [
      "The first 10 Fibonacci numbers are:\n",
      "0 1 1 2 3 5 8 13 21 34 "
     ]
    }
   ],
   "source": [
    "if n <= 0:\n",
    "    print(\"Please enter a positive integer.\")\n",
    "else:\n",
    "    # Add the first two Fibonacci numbers to the sequence\n",
    "    a, b = 0, 1\n",
    "    fibonacci_sequence.append(a)\n",
    "    if n > 1:\n",
    "        fibonacci_sequence.append(b)\n",
    "\n",
    "    \n",
    "    for i in range(2, n):\n",
    "        next_fib = a + b\n",
    "        fibonacci_sequence.append(next_fib)\n",
    "        a, b = b, next_fib\n",
    "\n",
    "    \n",
    "    print(\"The first\", n, \"Fibonacci numbers are:\")\n",
    "    for num in fibonacci_sequence:\n",
    "        print(num, end=\" \")"
   ]
  },
  {
   "cell_type": "markdown",
   "id": "ddf5310b",
   "metadata": {},
   "source": [
    "<div style=\"text-align: center; font-size: 1.5em;\">\n",
    "   Intermediate Level:\n",
    "</div>"
   ]
  },
  {
   "cell_type": "markdown",
   "id": "51717f98",
   "metadata": {},
   "source": [
    "11. Write a program to check if a given list contains any duplicates using a `for` loop."
   ]
  },
  {
   "cell_type": "code",
   "execution_count": 1,
   "id": "43bb2750",
   "metadata": {},
   "outputs": [
    {
     "name": "stdout",
     "output_type": "stream",
     "text": [
      "Enter a list of numbers separated by spaces: 1 2 3 4 5 5 6 7 8\n"
     ]
    }
   ],
   "source": [
    "input_str = input(\"Enter a list of numbers separated by spaces: \")\n",
    "input_list = [int(x) for x in input_str.split()]"
   ]
  },
  {
   "cell_type": "code",
   "execution_count": 2,
   "id": "5eb3b784",
   "metadata": {},
   "outputs": [],
   "source": [
    "has_duplicates = False\n",
    "\n",
    "for i in range(len(input_list)):\n",
    "    for j in range(i + 1, len(input_list)):\n",
    "        if input_list[i] == input_list[j]:\n",
    "            has_duplicates = True\n",
    "            break  \n",
    "    if has_duplicates:\n",
    "        break  "
   ]
  },
  {
   "cell_type": "code",
   "execution_count": 3,
   "id": "c45d6d8c",
   "metadata": {},
   "outputs": [
    {
     "name": "stdout",
     "output_type": "stream",
     "text": [
      "The list contains duplicates.\n"
     ]
    }
   ],
   "source": [
    "if has_duplicates:\n",
    "    print(\"The list contains duplicates.\")\n",
    "else:\n",
    "    print(\"The list does not contain duplicates.\")"
   ]
  },
  {
   "cell_type": "markdown",
   "id": "2e1c7181",
   "metadata": {},
   "source": [
    "12. Create a program that prints the prime numbers in a given range using a `for` loop."
   ]
  },
  {
   "cell_type": "code",
   "execution_count": 4,
   "id": "7b853e8f",
   "metadata": {},
   "outputs": [
    {
     "name": "stdout",
     "output_type": "stream",
     "text": [
      "Enter the start of the range: 6\n",
      "Enter the end of the range: 200\n"
     ]
    }
   ],
   "source": [
    "start = int(input(\"Enter the start of the range: \"))\n",
    "end = int(input(\"Enter the end of the range: \"))"
   ]
  },
  {
   "cell_type": "code",
   "execution_count": 5,
   "id": "76ba239b",
   "metadata": {},
   "outputs": [
    {
     "name": "stdout",
     "output_type": "stream",
     "text": [
      "Prime numbers in the range 6 to 200: \n",
      "7\n",
      "11\n",
      "13\n",
      "17\n",
      "19\n",
      "23\n",
      "29\n",
      "31\n",
      "37\n",
      "41\n",
      "43\n",
      "47\n",
      "53\n",
      "59\n",
      "61\n",
      "67\n",
      "71\n",
      "73\n",
      "79\n",
      "83\n",
      "89\n",
      "97\n",
      "101\n",
      "103\n",
      "107\n",
      "109\n",
      "113\n",
      "127\n",
      "131\n",
      "137\n",
      "139\n",
      "149\n",
      "151\n",
      "157\n",
      "163\n",
      "167\n",
      "173\n",
      "179\n",
      "181\n",
      "191\n",
      "193\n",
      "197\n",
      "199\n"
     ]
    }
   ],
   "source": [
    "print(f\"Prime numbers in the range {start} to {end}: \")\n",
    "\n",
    "for num in range(start, end + 1):\n",
    "    if num > 1:\n",
    "        is_prime = True\n",
    "        for i in range(2, int(num ** 0.5) + 1):\n",
    "            if num % i == 0:\n",
    "                is_prime = False\n",
    "                break\n",
    "        if is_prime:\n",
    "            print(num)"
   ]
  },
  {
   "cell_type": "markdown",
   "id": "e4d4dc09",
   "metadata": {},
   "source": [
    "13. Develop a program that counts the number of vowels in a string using a `for` loop."
   ]
  },
  {
   "cell_type": "code",
   "execution_count": 1,
   "id": "28133eee",
   "metadata": {},
   "outputs": [
    {
     "name": "stdout",
     "output_type": "stream",
     "text": [
      "Enter a string: This is my third assignment\n"
     ]
    }
   ],
   "source": [
    "input_string = input(\"Enter a string: \")\n",
    "\n",
    "vowel_count = 0\n",
    "\n",
    "input_string = input_string.lower()"
   ]
  },
  {
   "cell_type": "code",
   "execution_count": 2,
   "id": "ada5b292",
   "metadata": {},
   "outputs": [],
   "source": [
    "vowels = set(\"aeiou\")"
   ]
  },
  {
   "cell_type": "code",
   "execution_count": 3,
   "id": "593f45f3",
   "metadata": {},
   "outputs": [],
   "source": [
    "for char in input_string:\n",
    "    if char in vowels:\n",
    "        vowel_count += 1"
   ]
  },
  {
   "cell_type": "code",
   "execution_count": 4,
   "id": "64ad69da",
   "metadata": {},
   "outputs": [
    {
     "name": "stdout",
     "output_type": "stream",
     "text": [
      "Number of vowels in the string: 6\n"
     ]
    }
   ],
   "source": [
    "print(f\"Number of vowels in the string: {vowel_count}\")"
   ]
  },
  {
   "cell_type": "markdown",
   "id": "78517693",
   "metadata": {},
   "source": [
    "14. Write a program to find the maximum element in a 2D list using a nested `for` loop."
   ]
  },
  {
   "cell_type": "code",
   "execution_count": 5,
   "id": "c270ad57",
   "metadata": {},
   "outputs": [],
   "source": [
    "matrix = [\n",
    "    [12, 45, 67, 23],\n",
    "    [56, 34, 12, 90],\n",
    "    [45, 78, 23, 89],\n",
    "    [67, 12, 56, 43]\n",
    "]\n",
    "\n",
    "max_element = matrix[0][0]"
   ]
  },
  {
   "cell_type": "code",
   "execution_count": 6,
   "id": "fbb7824d",
   "metadata": {},
   "outputs": [],
   "source": [
    "for row in matrix:\n",
    "    \n",
    "    for element in row:\n",
    "        \n",
    "        if element > max_element:\n",
    "            max_element = element"
   ]
  },
  {
   "cell_type": "code",
   "execution_count": 7,
   "id": "6615d36f",
   "metadata": {},
   "outputs": [
    {
     "name": "stdout",
     "output_type": "stream",
     "text": [
      "The maximum element in the 2D list is: 90\n"
     ]
    }
   ],
   "source": [
    "print(f\"The maximum element in the 2D list is: {max_element}\")"
   ]
  },
  {
   "cell_type": "markdown",
   "id": "33d30f52",
   "metadata": {},
   "source": [
    "15. Create a program that removes all occurrences of a specific element from a list using a `for` loop."
   ]
  },
  {
   "cell_type": "code",
   "execution_count": 8,
   "id": "fdf7897f",
   "metadata": {},
   "outputs": [
    {
     "name": "stdout",
     "output_type": "stream",
     "text": [
      "Enter a list of numbers separated by spaces:  7 41 2 4 5 61 2 10\n"
     ]
    }
   ],
   "source": [
    "input_str = input(\"Enter a list of numbers separated by spaces: \")\n",
    "my_list = [int(x) for x in input_str.split()]"
   ]
  },
  {
   "cell_type": "code",
   "execution_count": 9,
   "id": "9a5af1b8",
   "metadata": {},
   "outputs": [
    {
     "name": "stdout",
     "output_type": "stream",
     "text": [
      "Enter the element to remove: 2\n"
     ]
    }
   ],
   "source": [
    "element_to_remove = int(input(\"Enter the element to remove: \"))\n",
    "\n",
    "\n",
    "for i in range(len(my_list) - 1, -1, -1):\n",
    "    if my_list[i] == element_to_remove:\n",
    "        \n",
    "        my_list.pop(i)"
   ]
  },
  {
   "cell_type": "code",
   "execution_count": 10,
   "id": "ef521ef5",
   "metadata": {},
   "outputs": [
    {
     "name": "stdout",
     "output_type": "stream",
     "text": [
      "List after removing all occurrences of 2 : [7, 41, 4, 5, 61, 10]\n"
     ]
    }
   ],
   "source": [
    "print(\"List after removing all occurrences of\", element_to_remove, \":\", my_list)"
   ]
  },
  {
   "cell_type": "markdown",
   "id": "2496927a",
   "metadata": {},
   "source": [
    "16. Develop a program that generates a multiplication table for numbers from 1 to 5 using a nested `for` loop."
   ]
  },
  {
   "cell_type": "code",
   "execution_count": 11,
   "id": "e5f73399",
   "metadata": {},
   "outputs": [],
   "source": [
    "start = 1\n",
    "end = 5"
   ]
  },
  {
   "cell_type": "code",
   "execution_count": 12,
   "id": "7ddf20dc",
   "metadata": {},
   "outputs": [
    {
     "name": "stdout",
     "output_type": "stream",
     "text": [
      "Multiplication table for 1:\n",
      "1 x 1 = 1\n",
      "1 x 2 = 2\n",
      "1 x 3 = 3\n",
      "1 x 4 = 4\n",
      "1 x 5 = 5\n",
      "1 x 6 = 6\n",
      "1 x 7 = 7\n",
      "1 x 8 = 8\n",
      "1 x 9 = 9\n",
      "1 x 10 = 10\n",
      "\n",
      "Multiplication table for 2:\n",
      "2 x 1 = 2\n",
      "2 x 2 = 4\n",
      "2 x 3 = 6\n",
      "2 x 4 = 8\n",
      "2 x 5 = 10\n",
      "2 x 6 = 12\n",
      "2 x 7 = 14\n",
      "2 x 8 = 16\n",
      "2 x 9 = 18\n",
      "2 x 10 = 20\n",
      "\n",
      "Multiplication table for 3:\n",
      "3 x 1 = 3\n",
      "3 x 2 = 6\n",
      "3 x 3 = 9\n",
      "3 x 4 = 12\n",
      "3 x 5 = 15\n",
      "3 x 6 = 18\n",
      "3 x 7 = 21\n",
      "3 x 8 = 24\n",
      "3 x 9 = 27\n",
      "3 x 10 = 30\n",
      "\n",
      "Multiplication table for 4:\n",
      "4 x 1 = 4\n",
      "4 x 2 = 8\n",
      "4 x 3 = 12\n",
      "4 x 4 = 16\n",
      "4 x 5 = 20\n",
      "4 x 6 = 24\n",
      "4 x 7 = 28\n",
      "4 x 8 = 32\n",
      "4 x 9 = 36\n",
      "4 x 10 = 40\n",
      "\n",
      "Multiplication table for 5:\n",
      "5 x 1 = 5\n",
      "5 x 2 = 10\n",
      "5 x 3 = 15\n",
      "5 x 4 = 20\n",
      "5 x 5 = 25\n",
      "5 x 6 = 30\n",
      "5 x 7 = 35\n",
      "5 x 8 = 40\n",
      "5 x 9 = 45\n",
      "5 x 10 = 50\n",
      "\n"
     ]
    }
   ],
   "source": [
    "for i in range(start, end + 1):\n",
    "    \n",
    "    print(f\"Multiplication table for {i}:\")\n",
    "    \n",
    "   \n",
    "    for j in range(1, 11):\n",
    "        \n",
    "        product = i * j\n",
    "        print(f\"{i} x {j} = {product}\")\n",
    "    \n",
    "    \n",
    "    print()"
   ]
  },
  {
   "cell_type": "markdown",
   "id": "e13b98ca",
   "metadata": {},
   "source": [
    "17. Write a program that converts a list of Fahrenheit temperatures to Celsius using a `for` loop."
   ]
  },
  {
   "cell_type": "code",
   "execution_count": 1,
   "id": "33423b49",
   "metadata": {},
   "outputs": [],
   "source": [
    "fahrenheit_temperatures = [32, 68, 100, 212, 0]"
   ]
  },
  {
   "cell_type": "code",
   "execution_count": 2,
   "id": "4af9efc7",
   "metadata": {},
   "outputs": [],
   "source": [
    "celsius_temperatures = []\n",
    "\n",
    "for fahrenheit in fahrenheit_temperatures:\n",
    "    \n",
    "    celsius = (fahrenheit - 32) * 5/9\n",
    "    \n",
    "    \n",
    "    celsius_temperatures.append(celsius)"
   ]
  },
  {
   "cell_type": "code",
   "execution_count": 3,
   "id": "065352c3",
   "metadata": {},
   "outputs": [
    {
     "name": "stdout",
     "output_type": "stream",
     "text": [
      "Fahrenheit temperatures: [32, 68, 100, 212, 0]\n",
      "Celsius temperatures: [0.0, 20.0, 37.77777777777778, 100.0, -17.77777777777778]\n"
     ]
    }
   ],
   "source": [
    "print(\"Fahrenheit temperatures:\", fahrenheit_temperatures)\n",
    "print(\"Celsius temperatures:\", celsius_temperatures)"
   ]
  },
  {
   "cell_type": "markdown",
   "id": "63e4c5e4",
   "metadata": {},
   "source": [
    "18. Create a program to print the common elements from two lists using a `for` loop."
   ]
  },
  {
   "cell_type": "code",
   "execution_count": 4,
   "id": "78d53d5e",
   "metadata": {},
   "outputs": [
    {
     "name": "stdout",
     "output_type": "stream",
     "text": [
      "Enter the first list of elements separated by spaces: 2 5 6 9 17 15 21 77 99 51\n",
      "Enter the second list of elements separated by spaces: 41 51 9 15 99 73 45\n"
     ]
    }
   ],
   "source": [
    "input_str1 = input(\"Enter the first list of elements separated by spaces: \")\n",
    "list1 = [int(x) for x in input_str1.split()]\n",
    "\n",
    "input_str2 = input(\"Enter the second list of elements separated by spaces: \")\n",
    "list2 = [int(x) for x in input_str2.split()]"
   ]
  },
  {
   "cell_type": "code",
   "execution_count": 5,
   "id": "818cf0e6",
   "metadata": {},
   "outputs": [],
   "source": [
    "common_elements = []\n",
    "\n",
    "for element1 in list1:\n",
    "    \n",
    "    for element2 in list2:\n",
    "        \n",
    "        if element1 == element2:\n",
    "            common_elements.append(element1)\n",
    "            break  "
   ]
  },
  {
   "cell_type": "code",
   "execution_count": 6,
   "id": "7687d4ba",
   "metadata": {},
   "outputs": [
    {
     "name": "stdout",
     "output_type": "stream",
     "text": [
      "Common elements: [9, 15, 99, 51]\n"
     ]
    }
   ],
   "source": [
    "if common_elements:\n",
    "    print(\"Common elements:\", common_elements)\n",
    "else:\n",
    "    print(\"There are no common elements between the two lists.\")"
   ]
  },
  {
   "cell_type": "markdown",
   "id": "c6feb1be",
   "metadata": {},
   "source": [
    "19. Develop a program that prints the pattern of right-angled triangles using a `for` loop. Use ‘*’ to draw the\n",
    "pattern"
   ]
  },
  {
   "cell_type": "code",
   "execution_count": 7,
   "id": "4294e134",
   "metadata": {},
   "outputs": [
    {
     "name": "stdout",
     "output_type": "stream",
     "text": [
      "Enter the number of rows for the pattern: 5\n"
     ]
    }
   ],
   "source": [
    "num_rows = int(input(\"Enter the number of rows for the pattern: \"))"
   ]
  },
  {
   "cell_type": "code",
   "execution_count": 8,
   "id": "ea5ef665",
   "metadata": {},
   "outputs": [
    {
     "name": "stdout",
     "output_type": "stream",
     "text": [
      "* \n",
      "* * \n",
      "* * * \n",
      "* * * * \n",
      "* * * * * \n",
      "\n"
     ]
    }
   ],
   "source": [
    "for i in range(1, num_rows + 1):\n",
    "    \n",
    "    for j in range(1, i + 1):\n",
    "        print(\"*\", end=\" \")\n",
    "    print()  \n",
    "    \n",
    "print()"
   ]
  },
  {
   "cell_type": "code",
   "execution_count": 9,
   "id": "a5b6e28e",
   "metadata": {},
   "outputs": [
    {
     "name": "stdout",
     "output_type": "stream",
     "text": [
      "* * * * * \n",
      "* * * * \n",
      "* * * \n",
      "* * \n",
      "* \n"
     ]
    }
   ],
   "source": [
    "for i in range(num_rows, 0, -1):\n",
    "    # Print descending right-angled triangles\n",
    "    for j in range(1, i + 1):\n",
    "        print(\"*\", end=\" \")\n",
    "    print()"
   ]
  },
  {
   "cell_type": "markdown",
   "id": "63f052ce",
   "metadata": {},
   "source": [
    "20. Write a program to find the greatest common divisor (GCD) of two numbers using a `for` loop."
   ]
  },
  {
   "cell_type": "code",
   "execution_count": 11,
   "id": "1c45c45f",
   "metadata": {},
   "outputs": [
    {
     "name": "stdout",
     "output_type": "stream",
     "text": [
      "Enter the first number: 30\n",
      "Enter the second number: 35\n"
     ]
    }
   ],
   "source": [
    "num1 = int(input(\"Enter the first number: \"))\n",
    "num2 = int(input(\"Enter the second number: \"))\n",
    "\n",
    "min_num = min(num1, num2)"
   ]
  },
  {
   "cell_type": "code",
   "execution_count": 12,
   "id": "f160e8f3",
   "metadata": {},
   "outputs": [],
   "source": [
    "gcd = 1\n",
    "for i in range(1, min_num + 1):\n",
    "    if num1 % i == 0 and num2 % i == 0:\n",
    "        gcd = i"
   ]
  },
  {
   "cell_type": "code",
   "execution_count": 13,
   "id": "d77619d3",
   "metadata": {},
   "outputs": [
    {
     "name": "stdout",
     "output_type": "stream",
     "text": [
      "The GCD of 30 and 35 is: 5\n"
     ]
    }
   ],
   "source": [
    "print(f\"The GCD of {num1} and {num2} is: {gcd}\")"
   ]
  },
  {
   "cell_type": "markdown",
   "id": "00523af2",
   "metadata": {},
   "source": [
    "<div style=\"text-align: center; font-size: 1.5em;\">\n",
    "   Advanced Level:\n",
    "</div>"
   ]
  },
  {
   "cell_type": "markdown",
   "id": "147878cb",
   "metadata": {},
   "source": [
    "21. Create a program that calculates the sum of the digits of numbers in a list using a list comprehension."
   ]
  },
  {
   "cell_type": "code",
   "execution_count": 1,
   "id": "bc89bfc9",
   "metadata": {},
   "outputs": [
    {
     "name": "stdout",
     "output_type": "stream",
     "text": [
      "Enter a list of numbers separated by spaces: 12 999 1111 1235 55\n"
     ]
    }
   ],
   "source": [
    "user_input = input(\"Enter a list of numbers separated by spaces: \")"
   ]
  },
  {
   "cell_type": "code",
   "execution_count": 2,
   "id": "b9be10a4",
   "metadata": {},
   "outputs": [],
   "source": [
    "number_strings = user_input.split()"
   ]
  },
  {
   "cell_type": "code",
   "execution_count": 3,
   "id": "b52bf3ca",
   "metadata": {},
   "outputs": [],
   "source": [
    "numbers = [int(num) for num in number_strings]"
   ]
  },
  {
   "cell_type": "code",
   "execution_count": 4,
   "id": "aa7a5314",
   "metadata": {},
   "outputs": [],
   "source": [
    "# Define a function to calculate the sum of digits for a number\n",
    "def digit_sum(number):\n",
    "    total = 0\n",
    "    while number > 0:\n",
    "        total += number % 10\n",
    "        number //= 10\n",
    "    return total"
   ]
  },
  {
   "cell_type": "code",
   "execution_count": 5,
   "id": "71205d37",
   "metadata": {},
   "outputs": [],
   "source": [
    "digit_sums = [digit_sum(number) for number in numbers]"
   ]
  },
  {
   "cell_type": "code",
   "execution_count": 6,
   "id": "3b414075",
   "metadata": {},
   "outputs": [
    {
     "name": "stdout",
     "output_type": "stream",
     "text": [
      "Sum of digits in 12 is 3\n",
      "Sum of digits in 999 is 27\n",
      "Sum of digits in 1111 is 4\n",
      "Sum of digits in 1235 is 11\n",
      "Sum of digits in 55 is 10\n"
     ]
    }
   ],
   "source": [
    "for i, number in enumerate(numbers):\n",
    "    print(f\"Sum of digits in {number} is {digit_sums[i]}\")"
   ]
  },
  {
   "cell_type": "markdown",
   "id": "2450dfac",
   "metadata": {},
   "source": [
    "22. Write a program to find the prime factors of a given number using a `for` loop and list comprehension."
   ]
  },
  {
   "cell_type": "code",
   "execution_count": null,
   "id": "fba8d05a",
   "metadata": {},
   "outputs": [],
   "source": []
  },
  {
   "cell_type": "markdown",
   "id": "8b4a6a6a",
   "metadata": {},
   "source": [
    "23. Develop a program that extracts unique elements from a list and stores them in a new list using a list\n",
    "comprehension."
   ]
  },
  {
   "cell_type": "code",
   "execution_count": 1,
   "id": "1fa9366e",
   "metadata": {},
   "outputs": [
    {
     "name": "stdout",
     "output_type": "stream",
     "text": [
      "Enter a list of elements separated by spaces: a 1 b 2 2 c 3 99 99 101 d d 2 3 f\n"
     ]
    }
   ],
   "source": [
    "input_str = input(\"Enter a list of elements separated by spaces: \")\n",
    "\n",
    "input_list = input_str.split()"
   ]
  },
  {
   "cell_type": "code",
   "execution_count": 2,
   "id": "791ce1c3",
   "metadata": {},
   "outputs": [],
   "source": [
    "unique_elements = []"
   ]
  },
  {
   "cell_type": "code",
   "execution_count": 3,
   "id": "273eec5a",
   "metadata": {},
   "outputs": [
    {
     "name": "stdout",
     "output_type": "stream",
     "text": [
      "Unique elements: ['a', '1', 'b', '2', 'c', '3', '99', '101', 'd', 'f']\n"
     ]
    }
   ],
   "source": [
    "[unique_elements.append(item) for item in input_list if item not in unique_elements]\n",
    "\n",
    "print(\"Unique elements:\", unique_elements)"
   ]
  },
  {
   "cell_type": "markdown",
   "id": "a70b4bd5",
   "metadata": {},
   "source": [
    "24. Create a program that generates a list of all palindromic numbers up to a specified limit using a list\r\n",
    "comprehension."
   ]
  },
  {
   "cell_type": "code",
   "execution_count": 1,
   "id": "32439640-f7a8-44cb-926d-3877c49004b9",
   "metadata": {},
   "outputs": [
    {
     "name": "stdin",
     "output_type": "stream",
     "text": [
      "Enter the limit:  10\n"
     ]
    }
   ],
   "source": [
    "limit = int(input(\"Enter the limit: \"))"
   ]
  },
  {
   "cell_type": "code",
   "execution_count": 2,
   "id": "0326fa1f-e13e-455d-bc6e-4c77b3888dd3",
   "metadata": {},
   "outputs": [],
   "source": [
    "palindromic_numbers = [num for num in range(limit + 1) if str(num) == str(num)[::-1]]"
   ]
  },
  {
   "cell_type": "code",
   "execution_count": 3,
   "id": "c1ebde7d-04f4-4726-8b09-61b98bcfdf69",
   "metadata": {},
   "outputs": [
    {
     "name": "stdout",
     "output_type": "stream",
     "text": [
      "Palindromic numbers up to 10 are: [0, 1, 2, 3, 4, 5, 6, 7, 8, 9]\n"
     ]
    }
   ],
   "source": [
    "print(\"Palindromic numbers up to\", limit, \"are:\", palindromic_numbers)"
   ]
  },
  {
   "cell_type": "markdown",
   "id": "687d080d-32fd-4765-9c1d-a0a534b7ce9b",
   "metadata": {},
   "source": [
    "25. Write a program to flatten a nested list using list comprehension."
   ]
  },
  {
   "cell_type": "code",
   "execution_count": 4,
   "id": "27f0a300-b173-4354-bbea-31c76efea564",
   "metadata": {},
   "outputs": [],
   "source": [
    "nested_list = [[1, 2, 3], [4, 5], [6, 7, 8, 9], [10]]"
   ]
  },
  {
   "cell_type": "code",
   "execution_count": 5,
   "id": "2a793439-dc8f-4f45-804f-467d8082395e",
   "metadata": {},
   "outputs": [],
   "source": [
    "flattened_list = [element for sublist in nested_list for element in sublist]"
   ]
  },
  {
   "cell_type": "code",
   "execution_count": 6,
   "id": "27ce818a-0885-4b05-8b21-defe21efa555",
   "metadata": {},
   "outputs": [
    {
     "name": "stdout",
     "output_type": "stream",
     "text": [
      "Flattened List: [1, 2, 3, 4, 5, 6, 7, 8, 9, 10]\n"
     ]
    }
   ],
   "source": [
    "print(\"Flattened List:\", flattened_list)"
   ]
  },
  {
   "cell_type": "markdown",
   "id": "43616543-25fc-421c-872e-f4e4dcd0cdd8",
   "metadata": {},
   "source": [
    "26. Develop a program that computes the sum of even and odd numbers in a list separately using list\r\n",
    "comprehension."
   ]
  },
  {
   "cell_type": "code",
   "execution_count": 7,
   "id": "7cc8abb2-e30c-43c6-933a-5170ab6d7987",
   "metadata": {},
   "outputs": [
    {
     "name": "stdin",
     "output_type": "stream",
     "text": [
      "Enter a list of numbers separated by spaces:  12 2 3 33 99 69 43 4 5 9 7 31\n"
     ]
    }
   ],
   "source": [
    "input_str = input(\"Enter a list of numbers separated by spaces: \")\n",
    "input_numbers = [int(num) for num in input_str.split()]"
   ]
  },
  {
   "cell_type": "code",
   "execution_count": 8,
   "id": "91fc9e79-28c7-4681-aaeb-fdb9d3d1dd05",
   "metadata": {},
   "outputs": [],
   "source": [
    "even_numbers = [num for num in input_numbers if num % 2 == 0]\n",
    "odd_numbers = [num for num in input_numbers if num % 2 != 0]"
   ]
  },
  {
   "cell_type": "code",
   "execution_count": 9,
   "id": "a626b68f-46c3-4e10-b013-97a955d94f91",
   "metadata": {},
   "outputs": [],
   "source": [
    "sum_even = sum(even_numbers)\n",
    "sum_odd = sum(odd_numbers)"
   ]
  },
  {
   "cell_type": "code",
   "execution_count": 10,
   "id": "f374e3c3-8cb8-4bfe-97cb-2f264432e0d9",
   "metadata": {},
   "outputs": [
    {
     "name": "stdout",
     "output_type": "stream",
     "text": [
      "Even numbers: [12, 2, 4]\n",
      "Sum of even numbers: 18\n",
      "Odd numbers: [3, 33, 99, 69, 43, 5, 9, 7, 31]\n",
      "Sum of odd numbers: 299\n"
     ]
    }
   ],
   "source": [
    "print(\"Even numbers:\", even_numbers)\n",
    "print(\"Sum of even numbers:\", sum_even)\n",
    "print(\"Odd numbers:\", odd_numbers)\n",
    "print(\"Sum of odd numbers:\", sum_odd)"
   ]
  },
  {
   "cell_type": "markdown",
   "id": "28b66d01-c0d6-4af7-a532-c1e35bef4a1f",
   "metadata": {},
   "source": [
    "27. Create a program that generates a list of squares of odd numbers between 1 and 10 using list\r\n",
    "comprehension."
   ]
  },
  {
   "cell_type": "code",
   "execution_count": 11,
   "id": "e42210ee-819c-4b99-8354-49c53008c9c3",
   "metadata": {},
   "outputs": [],
   "source": [
    "squares_of_odd_numbers = [x ** 2 for x in range(1, 11) if x % 2 != 0]"
   ]
  },
  {
   "cell_type": "code",
   "execution_count": 12,
   "id": "80446523-feee-4927-9415-a58c91b93a42",
   "metadata": {},
   "outputs": [
    {
     "name": "stdout",
     "output_type": "stream",
     "text": [
      "Squares of odd numbers between 1 and 10: [1, 9, 25, 49, 81]\n"
     ]
    }
   ],
   "source": [
    "print(\"Squares of odd numbers between 1 and 10:\", squares_of_odd_numbers)"
   ]
  },
  {
   "cell_type": "markdown",
   "id": "b77060aa-fa2f-4a4e-b5be-6a34e4fdbc13",
   "metadata": {},
   "source": [
    "28. Write a program that combines two lists into a dictionary using list comprehension."
   ]
  },
  {
   "cell_type": "code",
   "execution_count": 1,
   "id": "4cb7caa6-7f46-4f5a-a794-4cbd4740c2ee",
   "metadata": {},
   "outputs": [],
   "source": [
    "keys = ['a', 'b', 'c']\n",
    "values = [1, 2, 3]"
   ]
  },
  {
   "cell_type": "code",
   "execution_count": 3,
   "id": "81fe346c-a185-4a28-a4e3-5bf9ba0a5ec9",
   "metadata": {},
   "outputs": [],
   "source": [
    "combined_dict = {keys[i]: values[i] for i in range(min(len(keys), len(values)))}"
   ]
  },
  {
   "cell_type": "code",
   "execution_count": 4,
   "id": "9083a19c-f617-4a2c-ad30-995d364688b2",
   "metadata": {},
   "outputs": [
    {
     "name": "stdout",
     "output_type": "stream",
     "text": [
      "Combined Dictionary: {'a': 1, 'b': 2, 'c': 3}\n"
     ]
    }
   ],
   "source": [
    "print(\"Combined Dictionary:\", combined_dict)"
   ]
  },
  {
   "cell_type": "markdown",
   "id": "5858f768-e12d-4b96-84aa-9b7ad8ad2ed5",
   "metadata": {},
   "source": [
    "29. Develop a program that extracts the vowels from a string and stores them in a list using list comprehension."
   ]
  },
  {
   "cell_type": "code",
   "execution_count": 5,
   "id": "b4a6f3a4-be11-4478-807f-72994ec6c55c",
   "metadata": {},
   "outputs": [
    {
     "name": "stdin",
     "output_type": "stream",
     "text": [
      "Enter a string:  This is my fourth assignment\n"
     ]
    }
   ],
   "source": [
    "input_string = input(\"Enter a string: \")"
   ]
  },
  {
   "cell_type": "code",
   "execution_count": 6,
   "id": "e6d734c0-a466-4f43-9455-d90b279b9f32",
   "metadata": {},
   "outputs": [],
   "source": [
    "vowels = [char for char in input_string if char.lower() in 'aeiou']"
   ]
  },
  {
   "cell_type": "code",
   "execution_count": 7,
   "id": "68a221c9-1664-4c18-9455-3c5e9c2ca314",
   "metadata": {},
   "outputs": [
    {
     "name": "stdout",
     "output_type": "stream",
     "text": [
      "Vowels in the string: ['i', 'i', 'o', 'u', 'a', 'i', 'e']\n"
     ]
    }
   ],
   "source": [
    "print(\"Vowels in the string:\", vowels)"
   ]
  },
  {
   "cell_type": "markdown",
   "id": "7e87e72b-598e-4d96-ae4b-b0ded0e6ac7d",
   "metadata": {},
   "source": [
    "30. Create a program that removes all non-numeric characters from a list of strings using list comprehension."
   ]
  },
  {
   "cell_type": "code",
   "execution_count": 8,
   "id": "849e7933-c018-4899-9e4f-0291a56ea0c1",
   "metadata": {},
   "outputs": [],
   "source": [
    "strings = [\"abc123\", \"def456\", \"789xyz\", \"abc456def\"]"
   ]
  },
  {
   "cell_type": "code",
   "execution_count": 9,
   "id": "65638190-2c03-4f17-b117-16c54542a3f4",
   "metadata": {},
   "outputs": [],
   "source": [
    "numeric_strings = [''.join(char for char in s if char.isnumeric()) for s in strings]"
   ]
  },
  {
   "cell_type": "code",
   "execution_count": 10,
   "id": "182e3897-c07a-40c8-becc-e2b703fb4f74",
   "metadata": {},
   "outputs": [
    {
     "name": "stdout",
     "output_type": "stream",
     "text": [
      "Numeric strings: ['123', '456', '789', '456']\n"
     ]
    }
   ],
   "source": [
    "print(\"Numeric strings:\", numeric_strings)"
   ]
  },
  {
   "cell_type": "markdown",
   "id": "6c464086-9463-4e2f-aa38-fa3150228089",
   "metadata": {},
   "source": [
    "<div style=\"text-align: center; font-size: 1.5em;\">\n",
    "   Challenge Level:\n",
    "</div>"
   ]
  },
  {
   "cell_type": "markdown",
   "id": "becaeffe-5a9b-40f0-8f99-7baea27e9e6c",
   "metadata": {},
   "source": [
    "31. Write a program to generate a list of prime numbers using the Sieve of Eratosthenes algorithm and list\r\n",
    "comprehension."
   ]
  },
  {
   "cell_type": "code",
   "execution_count": 2,
   "id": "8ba5bd93-fcd2-4113-8b9d-78259176adf4",
   "metadata": {},
   "outputs": [
    {
     "name": "stdin",
     "output_type": "stream",
     "text": [
      "Enter the maximum number:  100\n"
     ]
    }
   ],
   "source": [
    "max_number = int(input(\"Enter the maximum number: \"))"
   ]
  },
  {
   "cell_type": "code",
   "execution_count": 3,
   "id": "e57351f5-0313-4030-90e4-5f1c72f3df11",
   "metadata": {},
   "outputs": [],
   "source": [
    "sieve = [True] * (max_number + 1)      # Initialize a list of boolean values to represent whether each number is prime or not\n",
    "sieve[0] = sieve[1] = False"
   ]
  },
  {
   "cell_type": "code",
   "execution_count": 5,
   "id": "2703802f-8364-46af-bfa0-a182482fddcd",
   "metadata": {},
   "outputs": [],
   "source": [
    "for current_num in range(2, int(max_number ** 0.5) + 1):\n",
    "    if sieve[current_num]:\n",
    "        for multiple in range(current_num * current_num, max_number + 1, current_num):\n",
    "            sieve[multiple] = False"
   ]
  },
  {
   "cell_type": "code",
   "execution_count": 6,
   "id": "9c9b3913-711b-4962-a564-ffea23a2c493",
   "metadata": {},
   "outputs": [],
   "source": [
    "prime_list = [num for num in range(2, max_number + 1) if sieve[num]]"
   ]
  },
  {
   "cell_type": "code",
   "execution_count": 7,
   "id": "c7ff112b-57f5-4b3e-ab4e-a3034eac6417",
   "metadata": {},
   "outputs": [
    {
     "name": "stdout",
     "output_type": "stream",
     "text": [
      "Prime numbers up to 100 are: [2, 3, 5, 7, 11, 13, 17, 19, 23, 29, 31, 37, 41, 43, 47, 53, 59, 61, 67, 71, 73, 79, 83, 89, 97]\n"
     ]
    }
   ],
   "source": [
    "print(\"Prime numbers up to\", max_number, \"are:\", prime_list)"
   ]
  },
  {
   "cell_type": "markdown",
   "id": "66552cb7-58bc-4290-b19f-32ca45c83956",
   "metadata": {},
   "source": [
    "32. Create a program that generates a list of all Pythagorean triplets up to a specified limit using list\r\n",
    "comprehension."
   ]
  },
  {
   "cell_type": "code",
   "execution_count": 9,
   "id": "a9e2e806-e06e-4dfe-8832-d26201e5a69f",
   "metadata": {},
   "outputs": [
    {
     "name": "stdin",
     "output_type": "stream",
     "text": [
      "Enter the maximum limit:  100\n"
     ]
    }
   ],
   "source": [
    "limit = int(input(\"Enter the maximum limit: \"))"
   ]
  },
  {
   "cell_type": "code",
   "execution_count": 10,
   "id": "629e3a9b-6fb5-4056-a0cb-97aaf269b8a3",
   "metadata": {},
   "outputs": [],
   "source": [
    "pythagorean_triplets = [(a, b, c) for a in range(1, limit + 1)\n",
    "                         for b in range(a, limit + 1)\n",
    "                         for c in range(b, limit + 1)\n",
    "                         if a**2 + b**2 == c**2]"
   ]
  },
  {
   "cell_type": "code",
   "execution_count": 11,
   "id": "066e94e1-62f8-49f6-9f86-325de5ae1e00",
   "metadata": {},
   "outputs": [],
   "source": [
    "unique_triplets = []\n",
    "for triplet in pythagorean_triplets:\n",
    "    if triplet not in unique_triplets:\n",
    "        unique_triplets.append(triplet)"
   ]
  },
  {
   "cell_type": "code",
   "execution_count": 12,
   "id": "91e7ab99-7721-4649-b183-7bb723a77ca9",
   "metadata": {},
   "outputs": [
    {
     "name": "stdout",
     "output_type": "stream",
     "text": [
      "Pythagorean triplets up to 100 are: [(3, 4, 5), (5, 12, 13), (6, 8, 10), (7, 24, 25), (8, 15, 17), (9, 12, 15), (9, 40, 41), (10, 24, 26), (11, 60, 61), (12, 16, 20), (12, 35, 37), (13, 84, 85), (14, 48, 50), (15, 20, 25), (15, 36, 39), (16, 30, 34), (16, 63, 65), (18, 24, 30), (18, 80, 82), (20, 21, 29), (20, 48, 52), (21, 28, 35), (21, 72, 75), (24, 32, 40), (24, 45, 51), (24, 70, 74), (25, 60, 65), (27, 36, 45), (28, 45, 53), (28, 96, 100), (30, 40, 50), (30, 72, 78), (32, 60, 68), (33, 44, 55), (33, 56, 65), (35, 84, 91), (36, 48, 60), (36, 77, 85), (39, 52, 65), (39, 80, 89), (40, 42, 58), (40, 75, 85), (42, 56, 70), (45, 60, 75), (48, 55, 73), (48, 64, 80), (51, 68, 85), (54, 72, 90), (57, 76, 95), (60, 63, 87), (60, 80, 100), (65, 72, 97)]\n"
     ]
    }
   ],
   "source": [
    "print(\"Pythagorean triplets up to\", limit, \"are:\", unique_triplets)"
   ]
  },
  {
   "cell_type": "markdown",
   "id": "f281c6de-fc52-4d96-ad21-a698f0c372e9",
   "metadata": {},
   "source": [
    "33. Develop a program that generates a list of all possible combinations of two lists using list comprehension."
   ]
  },
  {
   "cell_type": "code",
   "execution_count": 13,
   "id": "c0fa5c15-1cba-4a44-96d9-be3080cf7718",
   "metadata": {},
   "outputs": [],
   "source": [
    "list1 = [1, 2, 3, 4, 5, 6]\n",
    "list2 = ['a', 'b', 'c', 'd', 'e', 'f']"
   ]
  },
  {
   "cell_type": "code",
   "execution_count": 14,
   "id": "d7f69ec6-e882-414f-88ee-3acbeca7c142",
   "metadata": {},
   "outputs": [],
   "source": [
    "combinations = [(x, y) for x in list1 for y in list2]"
   ]
  },
  {
   "cell_type": "code",
   "execution_count": 15,
   "id": "4e7fe33c-a526-4f84-8159-70628c8b1deb",
   "metadata": {},
   "outputs": [
    {
     "name": "stdout",
     "output_type": "stream",
     "text": [
      "All possible combinations of [1, 2, 3, 4, 5, 6] and ['a', 'b', 'c', 'd', 'e', 'f'] are:\n",
      "(1, 'a')\n",
      "(1, 'b')\n",
      "(1, 'c')\n",
      "(1, 'd')\n",
      "(1, 'e')\n",
      "(1, 'f')\n",
      "(2, 'a')\n",
      "(2, 'b')\n",
      "(2, 'c')\n",
      "(2, 'd')\n",
      "(2, 'e')\n",
      "(2, 'f')\n",
      "(3, 'a')\n",
      "(3, 'b')\n",
      "(3, 'c')\n",
      "(3, 'd')\n",
      "(3, 'e')\n",
      "(3, 'f')\n",
      "(4, 'a')\n",
      "(4, 'b')\n",
      "(4, 'c')\n",
      "(4, 'd')\n",
      "(4, 'e')\n",
      "(4, 'f')\n",
      "(5, 'a')\n",
      "(5, 'b')\n",
      "(5, 'c')\n",
      "(5, 'd')\n",
      "(5, 'e')\n",
      "(5, 'f')\n",
      "(6, 'a')\n",
      "(6, 'b')\n",
      "(6, 'c')\n",
      "(6, 'd')\n",
      "(6, 'e')\n",
      "(6, 'f')\n"
     ]
    }
   ],
   "source": [
    "print(\"All possible combinations of\", list1, \"and\", list2, \"are:\")\n",
    "for combination in combinations:\n",
    "    print(combination)"
   ]
  },
  {
   "cell_type": "markdown",
   "id": "e920e9b3-d2cf-47b9-88ae-473bc6d4146f",
   "metadata": {},
   "source": [
    "34. Write a program that calculates the mean, median, and mode of a list of numbers using list\r\n",
    "comprehension."
   ]
  },
  {
   "cell_type": "code",
   "execution_count": 23,
   "id": "f1af4028-8c4a-4c7f-8e7a-d503e144594e",
   "metadata": {},
   "outputs": [
    {
     "name": "stdin",
     "output_type": "stream",
     "text": [
      "Enter a list of numbers separated by spaces:  2 4 6 4 8 10 6 12 14 14\n"
     ]
    }
   ],
   "source": [
    "num_list = [float(x) for x in input(\"Enter a list of numbers separated by spaces: \").split()]"
   ]
  },
  {
   "cell_type": "code",
   "execution_count": 24,
   "id": "2ab9eb86-159c-4e7d-ae03-19a69becedee",
   "metadata": {},
   "outputs": [],
   "source": [
    "mean = sum(num_list) / len(num_list)"
   ]
  },
  {
   "cell_type": "code",
   "execution_count": 25,
   "id": "eb0fe984-14ba-4f04-bc11-9044946a9368",
   "metadata": {},
   "outputs": [],
   "source": [
    "sorted_list = sorted(num_list)\n",
    "n = len(sorted_list)\n",
    "median = (sorted_list[n // 2] + sorted_list[(n - 1) // 2]) / 2 if n % 2 == 0 else sorted_list[n // 2]"
   ]
  },
  {
   "cell_type": "code",
   "execution_count": 26,
   "id": "179c5f06-0cdb-48ea-8eab-4e45e4c71d47",
   "metadata": {},
   "outputs": [],
   "source": [
    "num_counts = {num: num_list.count(num) for num in num_list}\n",
    "max_count = max(num_counts.values())\n",
    "mode = [num for num, count in num_counts.items() if count == max_count]"
   ]
  },
  {
   "cell_type": "code",
   "execution_count": 27,
   "id": "7706e540-9770-4619-bc6c-0801e7e21c63",
   "metadata": {},
   "outputs": [
    {
     "name": "stdout",
     "output_type": "stream",
     "text": [
      "Mean: 8.0\n",
      "Median: 7.0\n",
      "Mode: [4.0, 6.0, 14.0]\n"
     ]
    }
   ],
   "source": [
    "print(\"Mean:\", mean)\n",
    "print(\"Median:\", median)\n",
    "print(\"Mode:\", mode)"
   ]
  },
  {
   "cell_type": "markdown",
   "id": "59cbe851-11bf-40fe-82d6-65b1764aa2aa",
   "metadata": {},
   "source": [
    "35. Create a program that generates Pascal's triangle up to a specified number of rows using list\r\n",
    "comprehension."
   ]
  },
  {
   "cell_type": "code",
   "execution_count": 36,
   "id": "ec721fac-b7ba-44d9-934e-a68b90c29d87",
   "metadata": {},
   "outputs": [
    {
     "name": "stdin",
     "output_type": "stream",
     "text": [
      "Enter the number of rows for Pascal's triangle:  5\n"
     ]
    }
   ],
   "source": [
    "num_rows = int(input(\"Enter the number of rows for Pascal's triangle: \"))"
   ]
  },
  {
   "cell_type": "code",
   "execution_count": 39,
   "id": "170c0118-3ee9-4a1e-9435-49c7536cd450",
   "metadata": {},
   "outputs": [],
   "source": [
    "triangle = []\n",
    "for i in range(num_rows):\n",
    "    if i == 0:\n",
    "        triangle.append([1])\n",
    "    else:\n",
    "        prev_row = triangle[i - 1]\n",
    "        new_row = [1] + [prev_row[j - 1] + prev_row[j] for j in range(1, i)] + [1]\n",
    "        triangle.append(new_row)"
   ]
  },
  {
   "cell_type": "code",
   "execution_count": 40,
   "id": "41ed3b00-9baf-4626-90ba-00f481ff617e",
   "metadata": {},
   "outputs": [
    {
     "name": "stdout",
     "output_type": "stream",
     "text": [
      "       1       \n",
      "      1 1      \n",
      "     1 2 1     \n",
      "    1 3 3 1    \n",
      "   1 4 6 4 1   \n"
     ]
    }
   ],
   "source": [
    "for row in triangle:\n",
    "    print(\" \".join(map(str, row)).center(num_rows * 3))"
   ]
  },
  {
   "cell_type": "markdown",
   "id": "398d2348-87cc-4180-8c50-0ba17a41e7b2",
   "metadata": {},
   "source": [
    "36. Develop a program that calculates the sum of the digits of a factorial of numbers from 1 to 5 using list\r\n",
    "comprehension."
   ]
  },
  {
   "cell_type": "code",
   "execution_count": 41,
   "id": "856ffb49-5431-4406-a3f3-32a4c0531453",
   "metadata": {},
   "outputs": [],
   "source": [
    "def factorial(n):\n",
    "    if n == 0:\n",
    "        return 1\n",
    "    else:\n",
    "        result = 1\n",
    "        for i in range(1, n + 1):\n",
    "            result *= i\n",
    "        return result"
   ]
  },
  {
   "cell_type": "code",
   "execution_count": 42,
   "id": "1a01707e-6e67-4c03-8a60-73ee50518b19",
   "metadata": {},
   "outputs": [],
   "source": [
    "factorials = [factorial(n) for n in range(1, 6)]\n",
    "digit_sums = [sum(int(digit) for digit in str(factorial)) for factorial in factorials]"
   ]
  },
  {
   "cell_type": "code",
   "execution_count": 43,
   "id": "8615f38f-14fb-4253-81c6-4e8546d306b5",
   "metadata": {},
   "outputs": [
    {
     "name": "stdout",
     "output_type": "stream",
     "text": [
      "The factorial of 1 is 1, and the sum of its digits is 1\n",
      "The factorial of 2 is 2, and the sum of its digits is 2\n",
      "The factorial of 3 is 6, and the sum of its digits is 6\n",
      "The factorial of 4 is 24, and the sum of its digits is 6\n",
      "The factorial of 5 is 120, and the sum of its digits is 3\n"
     ]
    }
   ],
   "source": [
    "for n, factorial, digit_sum in zip(range(1, 6), factorials, digit_sums):\n",
    "    print(f\"The factorial of {n} is {factorial}, and the sum of its digits is {digit_sum}\")"
   ]
  },
  {
   "cell_type": "markdown",
   "id": "6f6c246d-d129-445f-8a33-c7ac20dee1c6",
   "metadata": {},
   "source": [
    "37. Write a program that finds the longest word in a sentence using list comprehension."
   ]
  },
  {
   "cell_type": "code",
   "execution_count": 46,
   "id": "12bbde87-b84f-4db5-884e-629467bcf449",
   "metadata": {},
   "outputs": [
    {
     "name": "stdin",
     "output_type": "stream",
     "text": [
      "Enter a sentence:  This is my third assignment of fsds\n"
     ]
    }
   ],
   "source": [
    "sentence = input(\"Enter a sentence: \")\n",
    "words = sentence.split()\n",
    "longest_words = [word for word in words if len(word) == max(len(word) for word in words)]"
   ]
  },
  {
   "cell_type": "code",
   "execution_count": 47,
   "id": "0fc7e421-f8ef-41a6-ae72-c5eabecda7f0",
   "metadata": {},
   "outputs": [
    {
     "name": "stdout",
     "output_type": "stream",
     "text": [
      "The longest word is: assignment\n"
     ]
    }
   ],
   "source": [
    "if longest_words:\n",
    "    if len(longest_words) > 1:\n",
    "        print(\"The longest words are:\", \", \".join(longest_words))\n",
    "    else:\n",
    "        print(\"The longest word is:\", longest_words[0])\n",
    "else:\n",
    "    print(\"No words found in the sentence.\")"
   ]
  },
  {
   "cell_type": "markdown",
   "id": "81f2dbd8-cf89-4a49-a3d8-8f77b7b75918",
   "metadata": {},
   "source": [
    "38. Create a program that filters a list of strings to include only those with more than three vowels using list\n",
    "comprehension."
   ]
  },
  {
   "cell_type": "code",
   "execution_count": 48,
   "id": "7309ee31-9b26-4352-a530-4526fc931e0b",
   "metadata": {},
   "outputs": [
    {
     "name": "stdin",
     "output_type": "stream",
     "text": [
      "Enter a list of strings separated by spaces:  Hello world Apple banana Python programming\n"
     ]
    }
   ],
   "source": [
    "strings = input(\"Enter a list of strings separated by spaces: \").split()"
   ]
  },
  {
   "cell_type": "code",
   "execution_count": 49,
   "id": "b87c693c-966d-40e1-8dbe-b44111f47969",
   "metadata": {},
   "outputs": [],
   "source": [
    "def count_vowels(string):\n",
    "    vowels = \"AEIOUaeiou\"\n",
    "    return sum(1 for char in string if char in vowels)"
   ]
  },
  {
   "cell_type": "code",
   "execution_count": 50,
   "id": "e18fd6ec-80d0-4003-9813-bbb9f07f6d45",
   "metadata": {},
   "outputs": [],
   "source": [
    "filtered_strings = [string for string in strings if count_vowels(string) > 3]"
   ]
  },
  {
   "cell_type": "code",
   "execution_count": 51,
   "id": "fd4d1e74-ac2d-4d2b-89ef-eb9b77c939c9",
   "metadata": {},
   "outputs": [
    {
     "name": "stdout",
     "output_type": "stream",
     "text": [
      "No strings found with more than three vowels.\n"
     ]
    }
   ],
   "source": [
    "if filtered_strings:\n",
    "    print(\"Strings with more than three vowels:\", \", \".join(filtered_strings))\n",
    "else:\n",
    "    print(\"No strings found with more than three vowels.\")"
   ]
  },
  {
   "cell_type": "markdown",
   "id": "a32c33c8-7f3b-49dc-a5c8-0b9574bcc6f2",
   "metadata": {},
   "source": [
    "39. Develop a program that calculates the sum of the digits of numbers from 1 to 1000 using list\r\n",
    "comprehension."
   ]
  },
  {
   "cell_type": "code",
   "execution_count": 53,
   "id": "d805ad7a-65fc-45a6-9190-3901d8dc8fab",
   "metadata": {},
   "outputs": [],
   "source": [
    "digit_sums = [sum(map(int, str(num))) for num in range(1, 1001)]"
   ]
  },
  {
   "cell_type": "code",
   "execution_count": 54,
   "id": "92da354a-9425-41be-9afa-d1e0f1ddad1c",
   "metadata": {},
   "outputs": [],
   "source": [
    "total_sum = sum(digit_sums)"
   ]
  },
  {
   "cell_type": "code",
   "execution_count": 55,
   "id": "5e421e16-ee3c-4b53-a60f-0ccc2c5801eb",
   "metadata": {},
   "outputs": [
    {
     "name": "stdout",
     "output_type": "stream",
     "text": [
      "The sum of the digits of numbers from 1 to 1000 is: 13501\n"
     ]
    }
   ],
   "source": [
    "print(\"The sum of the digits of numbers from 1 to 1000 is:\", total_sum)"
   ]
  },
  {
   "cell_type": "markdown",
   "id": "8d192aa3-e185-453e-92dd-1399990a7a25",
   "metadata": {},
   "source": [
    "40. Write a program that generates a list of prime palindromic numbers using list comprehension."
   ]
  },
  {
   "cell_type": "code",
   "execution_count": 56,
   "id": "baad7d9c-1090-456a-b243-bd7462181377",
   "metadata": {},
   "outputs": [],
   "source": [
    "def is_prime(num):\n",
    "    if num < 2:\n",
    "        return False\n",
    "    for i in range(2, int(num**0.5) + 1):\n",
    "        if num % i == 0:\n",
    "            return False\n",
    "    return True"
   ]
  },
  {
   "cell_type": "code",
   "execution_count": 57,
   "id": "85ca0d3e-bee7-439b-9c23-780a7435e815",
   "metadata": {},
   "outputs": [],
   "source": [
    "limit = 1000  \n",
    "prime_numbers = [num for num in range(2, limit) if is_prime(num)]"
   ]
  },
  {
   "cell_type": "code",
   "execution_count": 58,
   "id": "0202241b-41c9-41f1-b396-ed83e8971af4",
   "metadata": {},
   "outputs": [],
   "source": [
    "palindromic_primes = [num for num in prime_numbers if str(num) == str(num)[::-1]]"
   ]
  },
  {
   "cell_type": "code",
   "execution_count": 59,
   "id": "ea71f0d1-5006-4b85-a45a-db530886d508",
   "metadata": {},
   "outputs": [
    {
     "name": "stdout",
     "output_type": "stream",
     "text": [
      "Prime palindromic numbers: [2, 3, 5, 7, 11, 101, 131, 151, 181, 191, 313, 353, 373, 383, 727, 757, 787, 797, 919, 929]\n"
     ]
    }
   ],
   "source": [
    "print(\"Prime palindromic numbers:\", palindromic_primes)"
   ]
  }
 ],
 "metadata": {
  "kernelspec": {
   "display_name": "Python 3 (ipykernel)",
   "language": "python",
   "name": "python3"
  },
  "language_info": {
   "codemirror_mode": {
    "name": "ipython",
    "version": 3
   },
   "file_extension": ".py",
   "mimetype": "text/x-python",
   "name": "python",
   "nbconvert_exporter": "python",
   "pygments_lexer": "ipython3",
   "version": "3.11.5"
  }
 },
 "nbformat": 4,
 "nbformat_minor": 5
}
