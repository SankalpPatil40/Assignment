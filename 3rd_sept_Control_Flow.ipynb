{
 "cells": [
  {
   "cell_type": "markdown",
   "id": "26c168b6",
   "metadata": {},
   "source": [
    "<div style=\"text-align: center;font-size: 25px;\">   \n",
    "Control Flow \n",
    "    <br>\n",
    "Assignment Questions\n",
    "</div>"
   ]
  },
  {
   "cell_type": "markdown",
   "id": "edafaa3e",
   "metadata": {},
   "source": [
    "<div style=\"text-align: center; font-size: 1.5em;\">\n",
    "    Basic If-Else Statements:\n",
    "</div>"
   ]
  },
  {
   "cell_type": "markdown",
   "id": "50a463ff",
   "metadata": {},
   "source": [
    "1. Write a Python program to check if a given number is positive or negative."
   ]
  },
  {
   "cell_type": "code",
   "execution_count": 1,
   "id": "1df2ab5a",
   "metadata": {},
   "outputs": [
    {
     "name": "stdout",
     "output_type": "stream",
     "text": [
      "Enter a number: -3\n"
     ]
    }
   ],
   "source": [
    "number = float(input(\"Enter a number: \"))"
   ]
  },
  {
   "cell_type": "code",
   "execution_count": 2,
   "id": "5292cb40",
   "metadata": {},
   "outputs": [
    {
     "name": "stdout",
     "output_type": "stream",
     "text": [
      "The number is negative.\n"
     ]
    }
   ],
   "source": [
    "if number > 0:\n",
    "    print(\"The number is positive.\")\n",
    "elif number < 0:\n",
    "    print(\"The number is negative.\")\n",
    "else:\n",
    "    print(\"The number is zero.\")"
   ]
  },
  {
   "cell_type": "markdown",
   "id": "9519e26f",
   "metadata": {},
   "source": [
    "2. Create a program that determines if a person is eligible to vote based on their age."
   ]
  },
  {
   "cell_type": "code",
   "execution_count": 3,
   "id": "deeb7db1",
   "metadata": {},
   "outputs": [
    {
     "name": "stdout",
     "output_type": "stream",
     "text": [
      "Enter your age: 20\n"
     ]
    }
   ],
   "source": [
    "age = int(input(\"Enter your age: \"))"
   ]
  },
  {
   "cell_type": "code",
   "execution_count": 4,
   "id": "32715ebf",
   "metadata": {},
   "outputs": [
    {
     "name": "stdout",
     "output_type": "stream",
     "text": [
      "You are eligible to vote!\n"
     ]
    }
   ],
   "source": [
    "if age >= 18:\n",
    "    print(\"You are eligible to vote!\")\n",
    "else:\n",
    "    print(\"You are not eligible to vote. You must be at least 18 years old to vote.\")"
   ]
  },
  {
   "cell_type": "markdown",
   "id": "52116244",
   "metadata": {},
   "source": [
    "3. Develop a program to find the maximum of two numbers using if-else statements."
   ]
  },
  {
   "cell_type": "code",
   "execution_count": 5,
   "id": "eb3e7472",
   "metadata": {},
   "outputs": [
    {
     "name": "stdout",
     "output_type": "stream",
     "text": [
      "Enter the first number: 10\n"
     ]
    }
   ],
   "source": [
    "num1 = float(input(\"Enter the first number: \"))"
   ]
  },
  {
   "cell_type": "code",
   "execution_count": 6,
   "id": "8a7a24c0",
   "metadata": {},
   "outputs": [
    {
     "name": "stdout",
     "output_type": "stream",
     "text": [
      "Enter the second number: 12\n"
     ]
    }
   ],
   "source": [
    "num2 = float(input(\"Enter the second number: \"))"
   ]
  },
  {
   "cell_type": "code",
   "execution_count": 7,
   "id": "d09d7f74",
   "metadata": {},
   "outputs": [],
   "source": [
    "if num1 > num2:\n",
    "    max_num = num1\n",
    "else:\n",
    "    max_num = num2"
   ]
  },
  {
   "cell_type": "code",
   "execution_count": 8,
   "id": "1c01d7e8",
   "metadata": {},
   "outputs": [
    {
     "name": "stdout",
     "output_type": "stream",
     "text": [
      "The maximum number is: 12.0\n"
     ]
    }
   ],
   "source": [
    "print(\"The maximum number is:\", max_num)"
   ]
  },
  {
   "cell_type": "markdown",
   "id": "938dd054",
   "metadata": {},
   "source": [
    "4. Write a Python script to classify a given year as a leap year or not."
   ]
  },
  {
   "cell_type": "code",
   "execution_count": 9,
   "id": "57702aa7",
   "metadata": {},
   "outputs": [
    {
     "name": "stdout",
     "output_type": "stream",
     "text": [
      "Enter a year: 2024\n"
     ]
    }
   ],
   "source": [
    "year = int(input(\"Enter a year: \"))"
   ]
  },
  {
   "cell_type": "code",
   "execution_count": 10,
   "id": "e1a08425",
   "metadata": {},
   "outputs": [
    {
     "name": "stdout",
     "output_type": "stream",
     "text": [
      "2024 is a leap year.\n"
     ]
    }
   ],
   "source": [
    "if (year % 4 == 0 and year % 100 != 0) or (year % 400 == 0):\n",
    "    print(year, \"is a leap year.\")\n",
    "else:\n",
    "    print(year, \"is not a leap year.\")\n",
    "    \n",
    "    ''''A leap year occurs every 4 years, with the exception that years divisible by 100 \n",
    "    are not leap years unless they are also divisible by 400.'''"
   ]
  },
  {
   "cell_type": "markdown",
   "id": "b7dc1c67",
   "metadata": {},
   "source": [
    "5. Create a program that checks whether a character is a vowel or a consonant."
   ]
  },
  {
   "cell_type": "code",
   "execution_count": 11,
   "id": "9a47203f",
   "metadata": {},
   "outputs": [
    {
     "name": "stdout",
     "output_type": "stream",
     "text": [
      "Enter a character: i\n"
     ]
    }
   ],
   "source": [
    "char = input(\"Enter a character: \")"
   ]
  },
  {
   "cell_type": "code",
   "execution_count": 18,
   "id": "a7bbbd75",
   "metadata": {},
   "outputs": [
    {
     "name": "stdout",
     "output_type": "stream",
     "text": [
      "i is a vowel.\n"
     ]
    }
   ],
   "source": [
    "\n",
    "# Make sure the input is a single character\n",
    "if len(char) == 1:\n",
    "    # Convert the character to lowercase for case-insensitive comparison\n",
    "    char = char.lower()\n",
    "\n",
    "    # Check if it's a vowel or a consonant\n",
    "    if char in 'aeiou':\n",
    "        print(char, \"is a vowel.\")\n",
    "    else:\n",
    "        print(char, \"is a consonant.\")\n",
    "else:\n",
    "    print(\"Please enter a single character.\")"
   ]
  },
  {
   "cell_type": "markdown",
   "id": "452ff602",
   "metadata": {},
   "source": [
    "6. Implement a program to determine whether a given number is even or odd."
   ]
  },
  {
   "cell_type": "code",
   "execution_count": 19,
   "id": "e9042e5e",
   "metadata": {},
   "outputs": [
    {
     "name": "stdout",
     "output_type": "stream",
     "text": [
      "Enter a number: 69\n"
     ]
    }
   ],
   "source": [
    "number = int(input(\"Enter a number: \"))"
   ]
  },
  {
   "cell_type": "code",
   "execution_count": 20,
   "id": "253d5123",
   "metadata": {},
   "outputs": [
    {
     "name": "stdout",
     "output_type": "stream",
     "text": [
      "69 is odd.\n"
     ]
    }
   ],
   "source": [
    "if number % 2 == 0:\n",
    "    print(number, \"is even.\")\n",
    "else:\n",
    "    print(number, \"is odd.\")"
   ]
  },
  {
   "cell_type": "markdown",
   "id": "0e58f0c5",
   "metadata": {},
   "source": [
    "7. Write a Python function to calculate the absolute value of a number without using the `abs()` function."
   ]
  },
  {
   "cell_type": "code",
   "execution_count": 1,
   "id": "bf0a6b47",
   "metadata": {},
   "outputs": [],
   "source": [
    "def absolute_value(number):\n",
    "    if number < 0:\n",
    "        return -number\n",
    "    else:\n",
    "        return number"
   ]
  },
  {
   "cell_type": "code",
   "execution_count": 2,
   "id": "46387aa7",
   "metadata": {},
   "outputs": [
    {
     "name": "stdout",
     "output_type": "stream",
     "text": [
      "Enter a number: -21\n",
      "The absolute value of -21.0 is 21.0\n"
     ]
    }
   ],
   "source": [
    "num = float(input(\"Enter a number: \"))\n",
    "result = absolute_value(num)\n",
    "print(f\"The absolute value of {num} is {result}\")"
   ]
  },
  {
   "cell_type": "markdown",
   "id": "4566f82e",
   "metadata": {},
   "source": [
    "8. Develop a program that determines the largest of three given numbers using if-else statements."
   ]
  },
  {
   "cell_type": "code",
   "execution_count": 3,
   "id": "c074ce9c",
   "metadata": {},
   "outputs": [
    {
     "name": "stdout",
     "output_type": "stream",
     "text": [
      "Enter the first number: 3\n",
      "Enter the second number: 6\n",
      "Enter the third number: 9\n"
     ]
    }
   ],
   "source": [
    "num1 = float(input(\"Enter the first number: \"))\n",
    "num2 = float(input(\"Enter the second number: \"))\n",
    "num3 = float(input(\"Enter the third number: \"))"
   ]
  },
  {
   "cell_type": "code",
   "execution_count": 4,
   "id": "586c2775",
   "metadata": {},
   "outputs": [],
   "source": [
    "if num1 >= num2 and num1 >= num3:\n",
    "    largest = num1\n",
    "elif num2 >= num1 and num2 >= num3:\n",
    "    largest = num2\n",
    "else:\n",
    "    largest = num3\n"
   ]
  },
  {
   "cell_type": "code",
   "execution_count": 5,
   "id": "ad69545b",
   "metadata": {},
   "outputs": [
    {
     "name": "stdout",
     "output_type": "stream",
     "text": [
      "The largest number is: 9.0\n"
     ]
    }
   ],
   "source": [
    "print(\"The largest number is:\", largest)"
   ]
  },
  {
   "cell_type": "markdown",
   "id": "cf4a57bb",
   "metadata": {},
   "source": [
    "9. Create a program that checks if a given string is a palindrome."
   ]
  },
  {
   "cell_type": "code",
   "execution_count": 6,
   "id": "07f8c55a",
   "metadata": {},
   "outputs": [
    {
     "name": "stdout",
     "output_type": "stream",
     "text": [
      "Enter a string: TENNET\n"
     ]
    }
   ],
   "source": [
    "string = input(\"Enter a string: \")"
   ]
  },
  {
   "cell_type": "code",
   "execution_count": 7,
   "id": "a70d3b8d",
   "metadata": {},
   "outputs": [
    {
     "name": "stdout",
     "output_type": "stream",
     "text": [
      "It's a palindrome.\n"
     ]
    }
   ],
   "source": [
    "string = string.replace(\" \", \"\").lower()\n",
    "\n",
    "if string == string[::-1]:\n",
    "    print(\"It's a palindrome.\")\n",
    "else:\n",
    "    print(\"It's not a palindrome.\")"
   ]
  },
  {
   "cell_type": "markdown",
   "id": "769d3775",
   "metadata": {},
   "source": [
    "10. Write a Python program to calculate the grade based on a student's score."
   ]
  },
  {
   "cell_type": "code",
   "execution_count": 8,
   "id": "111565a3",
   "metadata": {},
   "outputs": [
    {
     "name": "stdout",
     "output_type": "stream",
     "text": [
      "Enter the student's score: 69\n"
     ]
    }
   ],
   "source": [
    "score = float(input(\"Enter the student's score: \"))"
   ]
  },
  {
   "cell_type": "code",
   "execution_count": 9,
   "id": "cd5a36df",
   "metadata": {},
   "outputs": [],
   "source": [
    "A_grade = 90\n",
    "B_grade = 80\n",
    "C_grade = 70\n",
    "D_grade = 60"
   ]
  },
  {
   "cell_type": "code",
   "execution_count": 10,
   "id": "e5c98214",
   "metadata": {},
   "outputs": [],
   "source": [
    "if score >= A_grade:\n",
    "    grade = 'A'\n",
    "elif score >= B_grade:\n",
    "    grade = 'B'\n",
    "elif score >= C_grade:\n",
    "    grade = 'C'\n",
    "elif score >= D_grade:\n",
    "    grade = 'D'\n",
    "else:\n",
    "    grade = 'F'"
   ]
  },
  {
   "cell_type": "code",
   "execution_count": 11,
   "id": "dbc7f976",
   "metadata": {},
   "outputs": [
    {
     "name": "stdout",
     "output_type": "stream",
     "text": [
      "The student's grade is: D\n"
     ]
    }
   ],
   "source": [
    "print(f\"The student's grade is: {grade}\")"
   ]
  },
  {
   "cell_type": "markdown",
   "id": "1f3c9693",
   "metadata": {},
   "source": [
    "<div style=\"text-align: center; font-size: 1.5em;\">\n",
    "    Nested If-Else Statements:\n",
    "</div>"
   ]
  },
  {
   "cell_type": "markdown",
   "id": "f35d4aa3",
   "metadata": {},
   "source": [
    "11. Write a program to find the largest among three numbers using nested if-else statements."
   ]
  },
  {
   "cell_type": "code",
   "execution_count": 12,
   "id": "92b42611",
   "metadata": {},
   "outputs": [
    {
     "name": "stdout",
     "output_type": "stream",
     "text": [
      "Enter the first number: 10\n",
      "Enter the second number: 30\n",
      "Enter the third number: 25\n"
     ]
    }
   ],
   "source": [
    "num1 = float(input(\"Enter the first number: \"))\n",
    "num2 = float(input(\"Enter the second number: \"))\n",
    "num3 = float(input(\"Enter the third number: \"))"
   ]
  },
  {
   "cell_type": "code",
   "execution_count": 13,
   "id": "9e61d505",
   "metadata": {},
   "outputs": [],
   "source": [
    "if num1 >= num2:\n",
    "    if num1 >= num3:\n",
    "        largest = num1\n",
    "    else:\n",
    "        largest = num3\n",
    "else:\n",
    "    if num2 >= num3:\n",
    "        largest = num2\n",
    "    else:\n",
    "        largest = num3"
   ]
  },
  {
   "cell_type": "code",
   "execution_count": 14,
   "id": "9d575e0f",
   "metadata": {},
   "outputs": [
    {
     "name": "stdout",
     "output_type": "stream",
     "text": [
      "The largest number is 30.0\n"
     ]
    }
   ],
   "source": [
    "print(f\"The largest number is {largest}\")"
   ]
  },
  {
   "cell_type": "markdown",
   "id": "089352f0",
   "metadata": {},
   "source": [
    "12. Implement a program to determine if a triangle is equilateral, isosceles, or scalene."
   ]
  },
  {
   "cell_type": "code",
   "execution_count": 21,
   "id": "8ceb27a7",
   "metadata": {},
   "outputs": [
    {
     "name": "stdout",
     "output_type": "stream",
     "text": [
      "Enter the length of side 1: 6\n",
      "Enter the length of side 2: 6\n",
      "Enter the length of side 3: 7\n"
     ]
    }
   ],
   "source": [
    "side1 = float(input(\"Enter the length of side 1: \"))\n",
    "side2 = float(input(\"Enter the length of side 2: \"))\n",
    "side3 = float(input(\"Enter the length of side 3: \"))"
   ]
  },
  {
   "cell_type": "code",
   "execution_count": 22,
   "id": "f74429a6",
   "metadata": {},
   "outputs": [
    {
     "name": "stdout",
     "output_type": "stream",
     "text": [
      "It's a isosceles triangle.\n"
     ]
    }
   ],
   "source": [
    "# Check if it's a valid triangle\n",
    "if side1 + side2 > side3 and side1 + side3 > side2 and side2 + side3 > side1:\n",
    "    #  equilateral triangle \n",
    "    if side1 == side2 and side2 == side3:\n",
    "        triangle_type = \"equilateral\"\n",
    "    #isosceles triangle\n",
    "    elif side1 == side2 or side1 == side3 or side2 == side3:\n",
    "        triangle_type = \"isosceles\"\n",
    "    # scalene\n",
    "    else:\n",
    "        triangle_type = \"scalene\"\n",
    "    \n",
    "    print(f\"It's a {triangle_type} triangle.\")\n",
    "else:\n",
    "    print(\"It's not a valid triangle.\")"
   ]
  },
  {
   "cell_type": "markdown",
   "id": "082921c2",
   "metadata": {},
   "source": [
    "13. Develop a program that checks if a year is a leap year and also if it is a century year.(same as question )"
   ]
  },
  {
   "cell_type": "code",
   "execution_count": 24,
   "id": "94030321",
   "metadata": {},
   "outputs": [
    {
     "name": "stdout",
     "output_type": "stream",
     "text": [
      "Enter a year: 2024\n"
     ]
    }
   ],
   "source": [
    "year = int(input(\"Enter a year: \"))"
   ]
  },
  {
   "cell_type": "code",
   "execution_count": 25,
   "id": "98b58f6f",
   "metadata": {},
   "outputs": [],
   "source": [
    "is_leap_year = False\n",
    "\n",
    "if year % 4 == 0:\n",
    "    if year % 100 == 0:\n",
    "        if year % 400 == 0:\n",
    "            is_leap_year = True\n",
    "    else:\n",
    "        is_leap_year = True"
   ]
  },
  {
   "cell_type": "code",
   "execution_count": 26,
   "id": "740d1ed4",
   "metadata": {},
   "outputs": [],
   "source": [
    "is_century_year = year % 100 == 0"
   ]
  },
  {
   "cell_type": "code",
   "execution_count": 27,
   "id": "6fb99308",
   "metadata": {},
   "outputs": [
    {
     "name": "stdout",
     "output_type": "stream",
     "text": [
      "2024 is a leap year but not a century year.\n"
     ]
    }
   ],
   "source": [
    "if is_leap_year and is_century_year:\n",
    "    print(f\"{year} is a leap year and a century year.\")\n",
    "elif is_leap_year:\n",
    "    print(f\"{year} is a leap year but not a century year.\")\n",
    "elif is_century_year:\n",
    "    print(f\"{year} is a century year but not a leap year.\")\n",
    "else:\n",
    "    print(f\"{year} is neither a leap year nor a century year.\")"
   ]
  },
  {
   "cell_type": "markdown",
   "id": "616a9650",
   "metadata": {},
   "source": [
    "14. Write a Python script to determine if a number is positive, negative, or zero."
   ]
  },
  {
   "cell_type": "code",
   "execution_count": 28,
   "id": "aca13e27",
   "metadata": {},
   "outputs": [
    {
     "name": "stdout",
     "output_type": "stream",
     "text": [
      "Enter a number: -69\n"
     ]
    }
   ],
   "source": [
    "number = float(input(\"Enter a number: \"))"
   ]
  },
  {
   "cell_type": "code",
   "execution_count": 29,
   "id": "5afdd40c",
   "metadata": {},
   "outputs": [
    {
     "name": "stdout",
     "output_type": "stream",
     "text": [
      "The number is negative.\n"
     ]
    }
   ],
   "source": [
    "if number > 0:\n",
    "    print(\"The number is positive.\")\n",
    "else:\n",
    "    if number < 0:\n",
    "        print(\"The number is negative.\")\n",
    "    else:\n",
    "        print(\"The number is zero.\")"
   ]
  },
  {
   "cell_type": "markdown",
   "id": "bdab1c76",
   "metadata": {},
   "source": [
    "15. Create a program to check if a person is a teenager (between 13 and 19 years old)."
   ]
  },
  {
   "cell_type": "code",
   "execution_count": 30,
   "id": "a86fc6ff",
   "metadata": {},
   "outputs": [
    {
     "name": "stdout",
     "output_type": "stream",
     "text": [
      "Enter your age: 17\n"
     ]
    }
   ],
   "source": [
    "age = int(input(\"Enter your age: \"))"
   ]
  },
  {
   "cell_type": "code",
   "execution_count": 31,
   "id": "5fe03c0d",
   "metadata": {},
   "outputs": [
    {
     "name": "stdout",
     "output_type": "stream",
     "text": [
      "You are a teenager.\n"
     ]
    }
   ],
   "source": [
    "if 13 <= age <= 19:\n",
    "    print(\"You are a teenager.\")\n",
    "else:\n",
    "    print(\"You are not a teenager.\")"
   ]
  },
  {
   "cell_type": "markdown",
   "id": "fb6ea3d2",
   "metadata": {},
   "source": [
    "16. Develop a program that determines the type of angle based on its measure (acute, obtuse, or right)."
   ]
  },
  {
   "cell_type": "code",
   "execution_count": 1,
   "id": "a3b42d4b",
   "metadata": {},
   "outputs": [
    {
     "name": "stdout",
     "output_type": "stream",
     "text": [
      "Enter the angle's measure in degrees: 90\n"
     ]
    }
   ],
   "source": [
    "angle = float(input(\"Enter the angle's measure in degrees: \"))"
   ]
  },
  {
   "cell_type": "code",
   "execution_count": 2,
   "id": "be76dca3",
   "metadata": {},
   "outputs": [],
   "source": [
    "if angle > 0 and angle < 90:\n",
    "    angle_type = \"acute\"\n",
    "elif angle == 90:\n",
    "    angle_type = \"right\"\n",
    "elif angle > 90 and angle < 180:\n",
    "    angle_type = \"obtuse\"\n",
    "else:\n",
    "    angle_type = \"invalid\""
   ]
  },
  {
   "cell_type": "markdown",
   "id": "8d3cd6fe",
   "metadata": {},
   "source": [
    "17. Write a Python program to calculate the roots of a quadratic equation."
   ]
  },
  {
   "cell_type": "code",
   "execution_count": 4,
   "id": "75464ae0",
   "metadata": {},
   "outputs": [
    {
     "name": "stdout",
     "output_type": "stream",
     "text": [
      "Enter the coefficient of x^2: 6\n",
      "Enter the coefficient of x: 11\n",
      "Enter the constant term: -35\n"
     ]
    }
   ],
   "source": [
    "import math\n",
    "a = float(input(\"Enter the coefficient of x^2: \"))\n",
    "b = float(input(\"Enter the coefficient of x: \"))\n",
    "c = float(input(\"Enter the constant term: \"))"
   ]
  },
  {
   "cell_type": "code",
   "execution_count": 5,
   "id": "b829dc97",
   "metadata": {},
   "outputs": [],
   "source": [
    "discriminant = b**2 - 4*a*c"
   ]
  },
  {
   "cell_type": "code",
   "execution_count": 6,
   "id": "5872cbcc",
   "metadata": {},
   "outputs": [
    {
     "name": "stdout",
     "output_type": "stream",
     "text": [
      "The roots are real and distinct: 1.6666666666666667 and -3.5\n"
     ]
    }
   ],
   "source": [
    "if discriminant > 0:\n",
    "    # Two distinct real roots\n",
    "    root1 = (-b + math.sqrt(discriminant)) / (2*a)\n",
    "    root2 = (-b - math.sqrt(discriminant)) / (2*a)\n",
    "    print(f\"The roots are real and distinct: {root1} and {root2}\")\n",
    "elif discriminant == 0:\n",
    "    # One real root (repeated)\n",
    "    root1 = -b / (2*a)\n",
    "    print(f\"The root is real and repeated: {root1}\")\n",
    "else:\n",
    "    # Complex roots\n",
    "    real_part = -b / (2*a)\n",
    "    imaginary_part = math.sqrt(abs(discriminant)) / (2*a)\n",
    "    print(f\"The roots are complex: {real_part} + {imaginary_part}i and {real_part} - {imaginary_part}i\")"
   ]
  },
  {
   "cell_type": "markdown",
   "id": "2c0a42af",
   "metadata": {},
   "source": [
    "18. Implement a program to determine the day of the week based on a user-provided number (1 for Monday, 2\n",
    "for Tuesday, etc.)."
   ]
  },
  {
   "cell_type": "code",
   "execution_count": 7,
   "id": "a1cbb9ff",
   "metadata": {},
   "outputs": [
    {
     "name": "stdout",
     "output_type": "stream",
     "text": [
      "Enter a number (1-7) representing the day of the week: 5\n"
     ]
    }
   ],
   "source": [
    "day_number = int(input(\"Enter a number (1-7) representing the day of the week: \"))"
   ]
  },
  {
   "cell_type": "code",
   "execution_count": 8,
   "id": "61655ef2",
   "metadata": {},
   "outputs": [],
   "source": [
    "days_of_week = [\"Monday\", \"Tuesday\", \"Wednesday\", \"Thursday\", \"Friday\", \"Saturday\", \"Sunday\"]"
   ]
  },
  {
   "cell_type": "code",
   "execution_count": 9,
   "id": "34dd4bf1",
   "metadata": {},
   "outputs": [
    {
     "name": "stdout",
     "output_type": "stream",
     "text": [
      "Day 5 is Friday.\n"
     ]
    }
   ],
   "source": [
    "if 1 <= day_number <= 7:\n",
    "    # Subtract 1 from the day_number to access the correct index in the list\n",
    "    day_name = days_of_week[day_number - 1]\n",
    "    print(f\"Day {day_number} is {day_name}.\")\n",
    "else:\n",
    "    print(\"Invalid input. Please enter a number between 1 and 7.\")"
   ]
  },
  {
   "cell_type": "markdown",
   "id": "2f8ad2dc",
   "metadata": {},
   "source": [
    "19. Create a program that determines if a year is a leap year and also if it is evenly divisible by 400."
   ]
  },
  {
   "cell_type": "code",
   "execution_count": 10,
   "id": "f617a6aa",
   "metadata": {},
   "outputs": [
    {
     "name": "stdout",
     "output_type": "stream",
     "text": [
      "Enter a year: 2024\n",
      "2024 is a leap year and evenly divisible by 400.\n"
     ]
    }
   ],
   "source": [
    "year = int(input(\"Enter a year: \"))\n",
    "if year % 4 == 0 and (year % 100 != 0 or year % 400 == 0):\n",
    "    print(year, \"is a leap year and evenly divisible by 400.\")\n",
    "elif year % 4 == 0:\n",
    "    print(year, \"is a leap year but not evenly divisible by 400.\")\n",
    "else:\n",
    "    print(year, \"is not a leap year.\")"
   ]
  },
  {
   "cell_type": "markdown",
   "id": "edda7891",
   "metadata": {},
   "source": [
    "20. Develop a program that checks if a given number is prime or not using nested if-else statements."
   ]
  },
  {
   "cell_type": "code",
   "execution_count": 12,
   "id": "5d1ddd52",
   "metadata": {},
   "outputs": [
    {
     "name": "stdout",
     "output_type": "stream",
     "text": [
      "Enter a number: 17\n"
     ]
    }
   ],
   "source": [
    "number = int(input(\"Enter a number: \"))"
   ]
  },
  {
   "cell_type": "code",
   "execution_count": 13,
   "id": "f79f5ef9",
   "metadata": {},
   "outputs": [],
   "source": [
    "if number < 2:\n",
    "    is_prime = False\n",
    "else:\n",
    "    is_prime = True\n",
    "    # Check for divisibility by numbers from 2 to the square root of the number\n",
    "    for i in range(2, int(number**0.5) + 1):\n",
    "        if number % i == 0:\n",
    "            is_prime = False\n",
    "            break"
   ]
  },
  {
   "cell_type": "code",
   "execution_count": 14,
   "id": "dd76d738",
   "metadata": {},
   "outputs": [
    {
     "name": "stdout",
     "output_type": "stream",
     "text": [
      "17 is a prime number.\n"
     ]
    }
   ],
   "source": [
    "if is_prime:\n",
    "    print(number, \"is a prime number.\")\n",
    "else:\n",
    "    print(number, \"is not a prime number.\")"
   ]
  },
  {
   "cell_type": "markdown",
   "id": "65480b1d",
   "metadata": {},
   "source": [
    "<div style=\"text-align: center; font-size: 1.5em;\">\n",
    "   Elif Statements:\n",
    "</div>"
   ]
  },
  {
   "cell_type": "markdown",
   "id": "7edf8304",
   "metadata": {},
   "source": [
    "21. Write a Python program to assign grades based on different ranges of scores using elif statements."
   ]
  },
  {
   "cell_type": "code",
   "execution_count": 1,
   "id": "c9a099f2",
   "metadata": {},
   "outputs": [
    {
     "name": "stdout",
     "output_type": "stream",
     "text": [
      "Enter the student's score: 80\n"
     ]
    }
   ],
   "source": [
    "score = float(input(\"Enter the student's score: \"))"
   ]
  },
  {
   "cell_type": "code",
   "execution_count": 2,
   "id": "af20595e",
   "metadata": {},
   "outputs": [],
   "source": [
    "if 90 <= score <= 100:\n",
    "    grade = 'A'\n",
    "elif 80 <= score < 90:\n",
    "    grade = 'B'\n",
    "elif 70 <= score < 80:\n",
    "    grade = 'C'\n",
    "elif 60 <= score < 70:\n",
    "    grade = 'D'\n",
    "elif 0 <= score < 60:\n",
    "    grade = 'F'\n",
    "else:\n",
    "    grade = 'Invalid (score out of range)'"
   ]
  },
  {
   "cell_type": "code",
   "execution_count": 3,
   "id": "306f38df",
   "metadata": {},
   "outputs": [
    {
     "name": "stdout",
     "output_type": "stream",
     "text": [
      "The student's grade is: B\n"
     ]
    }
   ],
   "source": [
    "print(f\"The student's grade is: {grade}\")"
   ]
  },
  {
   "cell_type": "markdown",
   "id": "6c663bc3",
   "metadata": {},
   "source": [
    "22. Implement a program to determine the type of a triangle based on its angles."
   ]
  },
  {
   "cell_type": "code",
   "execution_count": 4,
   "id": "b0066333",
   "metadata": {},
   "outputs": [
    {
     "name": "stdout",
     "output_type": "stream",
     "text": [
      "Enter the first angle in degrees: 60\n",
      "Enter the second angle in degrees: 30\n",
      "Enter the third angle in degrees: 90\n"
     ]
    }
   ],
   "source": [
    "angle1 = float(input(\"Enter the first angle in degrees: \"))\n",
    "angle2 = float(input(\"Enter the second angle in degrees: \"))\n",
    "angle3 = float(input(\"Enter the third angle in degrees: \"))"
   ]
  },
  {
   "cell_type": "code",
   "execution_count": 5,
   "id": "062d5299",
   "metadata": {},
   "outputs": [
    {
     "name": "stdout",
     "output_type": "stream",
     "text": [
      "It's a right triangle.\n"
     ]
    }
   ],
   "source": [
    "if angle1 + angle2 + angle3 == 180:\n",
    "    # Determine the type of triangle based on angles\n",
    "    if angle1 < 90 and angle2 < 90 and angle3 < 90:\n",
    "        triangle_type = \"acute\"\n",
    "    elif angle1 == 90 or angle2 == 90 or angle3 == 90:\n",
    "        triangle_type = \"right\"\n",
    "    else:\n",
    "        triangle_type = \"obtuse\"\n",
    "\n",
    "    print(f\"It's a {triangle_type} triangle.\")\n",
    "else:\n",
    "    print(\"It's not a valid triangle (sum of angles is not 180 degrees).\")"
   ]
  },
  {
   "cell_type": "markdown",
   "id": "8abd9263",
   "metadata": {},
   "source": [
    "23. Develop a program to categorize a given person's BMI into underweight, normal, overweight, or obese using\n",
    "elif statements."
   ]
  },
  {
   "cell_type": "code",
   "execution_count": 6,
   "id": "47db91d2",
   "metadata": {},
   "outputs": [
    {
     "name": "stdout",
     "output_type": "stream",
     "text": [
      "Enter your weight in kilograms: 79\n",
      "Enter your height in feet: 5\n",
      "Enter your height in inches: 11\n"
     ]
    }
   ],
   "source": [
    "weight = float(input(\"Enter your weight in kilograms: \"))\n",
    "height_feet = int(input(\"Enter your height in feet: \"))\n",
    "height_inches = float(input(\"Enter your height in inches: \"))"
   ]
  },
  {
   "cell_type": "code",
   "execution_count": 7,
   "id": "9396e432",
   "metadata": {},
   "outputs": [],
   "source": [
    "height_meters = (height_feet * 0.3048) + (height_inches * 0.0254)\n",
    "bmi = weight / (height_meters ** 2)"
   ]
  },
  {
   "cell_type": "code",
   "execution_count": 8,
   "id": "caeb4fc8",
   "metadata": {},
   "outputs": [],
   "source": [
    "if bmi < 18.5:\n",
    "    category = \"underweight\"\n",
    "elif 18.5 <= bmi < 24.9:\n",
    "    category = \"normal weight\"\n",
    "elif 25 <= bmi < 29.9:\n",
    "    category = \"overweight\"\n",
    "else:\n",
    "    category = \"obese\""
   ]
  },
  {
   "cell_type": "code",
   "execution_count": 9,
   "id": "8ae11e12",
   "metadata": {},
   "outputs": [
    {
     "name": "stdout",
     "output_type": "stream",
     "text": [
      "Your BMI is 24.29, which is categorized as normal weight.\n"
     ]
    }
   ],
   "source": [
    "print(f\"Your BMI is {bmi:.2f}, which is categorized as {category}.\")"
   ]
  },
  {
   "cell_type": "markdown",
   "id": "c4595726",
   "metadata": {},
   "source": [
    "24. Create a program that determines whether a given number is positive, negative, or zero using elif\n",
    "statements."
   ]
  },
  {
   "cell_type": "code",
   "execution_count": 10,
   "id": "6a672545",
   "metadata": {},
   "outputs": [
    {
     "name": "stdout",
     "output_type": "stream",
     "text": [
      "Enter a number: -5\n",
      "The number is negative.\n"
     ]
    }
   ],
   "source": [
    "number = float(input(\"Enter a number: \"))\n",
    "\n",
    "if number > 0:\n",
    "    print(\"The number is positive.\")\n",
    "elif number < 0:\n",
    "    print(\"The number is negative.\")\n",
    "else:\n",
    "    print(\"The number is zero.\")"
   ]
  },
  {
   "cell_type": "markdown",
   "id": "4aeb4a27",
   "metadata": {},
   "source": [
    "25. Write a Python script to determine the type of a character (uppercase, lowercase, or special) using elif\n",
    "statements."
   ]
  },
  {
   "cell_type": "code",
   "execution_count": 11,
   "id": "02bb3958",
   "metadata": {},
   "outputs": [
    {
     "name": "stdout",
     "output_type": "stream",
     "text": [
      "Enter a character: X\n",
      "The character is uppercase.\n"
     ]
    }
   ],
   "source": [
    "char = input(\"Enter a character: \")\n",
    "\n",
    "if char.isupper():\n",
    "    print(\"The character is uppercase.\")\n",
    "elif char.islower():\n",
    "    print(\"The character is lowercase.\")\n",
    "else:\n",
    "    print(\"The character is a special character or not a letter.\")"
   ]
  },
  {
   "cell_type": "markdown",
   "id": "9eb9ab13",
   "metadata": {},
   "source": [
    "26. Implement a program to calculate the discounted price based on different purchase amounts using elif\n",
    "statements."
   ]
  },
  {
   "cell_type": "code",
   "execution_count": 12,
   "id": "47b44fbe",
   "metadata": {},
   "outputs": [
    {
     "name": "stdout",
     "output_type": "stream",
     "text": [
      "Enter the purchase amount: 1000\n"
     ]
    }
   ],
   "source": [
    "purchase_amount = float(input(\"Enter the purchase amount: \"))"
   ]
  },
  {
   "cell_type": "code",
   "execution_count": 13,
   "id": "933814c8",
   "metadata": {},
   "outputs": [],
   "source": [
    "discount_rate = 0.0\n",
    "if purchase_amount >= 1000:\n",
    "    discount_rate = 0.10  \n",
    "elif purchase_amount >= 500:\n",
    "    discount_rate = 0.05"
   ]
  },
  {
   "cell_type": "code",
   "execution_count": 17,
   "id": "05ba05a1",
   "metadata": {},
   "outputs": [
    {
     "name": "stdout",
     "output_type": "stream",
     "text": [
      "Discounted price: rs 900.00\n"
     ]
    }
   ],
   "source": [
    "discounted_price = purchase_amount * (1 - discount_rate)\n",
    "if discount_rate > 0:\n",
    "    print(f\"Discounted price: rs {discounted_price:.2f}\")\n",
    "else:\n",
    "    print(\"No discount applied. Total price: rs {:.2f}\".format(purchase_amount))"
   ]
  },
  {
   "cell_type": "markdown",
   "id": "b45ba571",
   "metadata": {},
   "source": [
    "27. Develop a program to calculate the electricity bill based on different consumption slabs using elif\n",
    "statements."
   ]
  },
  {
   "cell_type": "code",
   "execution_count": 1,
   "id": "47a6f0de",
   "metadata": {},
   "outputs": [
    {
     "name": "stdout",
     "output_type": "stream",
     "text": [
      "Enter the electricity consumption units 112\n"
     ]
    }
   ],
   "source": [
    "consumption = float(input(\"Enter the electricity consumption units \"))"
   ]
  },
  {
   "cell_type": "code",
   "execution_count": 2,
   "id": "1e7e58f0",
   "metadata": {},
   "outputs": [],
   "source": [
    "# Determine the electricity rate based on consumption slabs (using mumbai rates)\n",
    "if consumption <= 100:\n",
    "    rate = 3.36                                                                     # rs 3.36 per unit for the first 100 units\n",
    "    bill = consumption * rate\n",
    "    \n",
    "elif consumption <= 300:\n",
    "    rate = 7.34                                                                     # rs 7.34 per unit for the next 200 units\n",
    "    bill = (100 * 3.36) + ((consumption - 100) * rate)\n",
    "    \n",
    "elif consumption <= 500:\n",
    "    rate = 10.37                                                                    # rs 10.37 per unit for the next 200 units\n",
    "    bill = (100 * 3.36) + (200 * 7.34) + ((consumption - 300) * rate)\n",
    "    \n",
    "elif consumption <= 1000:\n",
    "    rate = 11.86                                                                     # rs 11.86 per unit for the next 500 units\n",
    "    bill = (100 * 3.36) + (200 * 7.34) + (200 * 10.37)+((consumption - 500) * rate)\n",
    "    \n",
    "else:\n",
    "    rate = 11.86                                                                     # rs 11.86 per unit for > 1000 units\n",
    "    bill = (100 * 3.36) + (200 * 7.34) + (200 * 10.37)+  (500 * 11.86)+ ((consumption - 1000) * rate)"
   ]
  },
  {
   "cell_type": "code",
   "execution_count": 3,
   "id": "5db97451",
   "metadata": {},
   "outputs": [
    {
     "name": "stdout",
     "output_type": "stream",
     "text": [
      "Electricity consumption: 112.0 units\n",
      "Electricity bill: rs 424.08\n"
     ]
    }
   ],
   "source": [
    "print(f\"Electricity consumption: {consumption} units\")\n",
    "print(f\"Electricity bill: rs {bill:.2f}\")"
   ]
  },
  {
   "cell_type": "markdown",
   "id": "0aeb1158",
   "metadata": {},
   "source": [
    "28. Create a program to determine the type of quadrilateral based on its angles and sides using elif\n",
    "statements."
   ]
  },
  {
   "cell_type": "code",
   "execution_count": 4,
   "id": "17e34d7d",
   "metadata": {},
   "outputs": [
    {
     "name": "stdout",
     "output_type": "stream",
     "text": [
      "Enter the length of side a: 5\n",
      "Enter the length of side b: 5\n",
      "Enter the length of side c: 5\n",
      "Enter the length of side d: 5\n",
      "Enter the measure of angle A in degrees: 90\n",
      "Enter the measure of angle B in degrees: 90\n",
      "Enter the measure of angle C in degrees: 90\n",
      "Enter the measure of angle D in degrees: 90\n"
     ]
    }
   ],
   "source": [
    "a = float(input(\"Enter the length of side a: \"))\n",
    "b = float(input(\"Enter the length of side b: \"))\n",
    "c = float(input(\"Enter the length of side c: \"))\n",
    "d = float(input(\"Enter the length of side d: \"))\n",
    "A = float(input(\"Enter the measure of angle A in degrees: \"))\n",
    "B = float(input(\"Enter the measure of angle B in degrees: \"))\n",
    "C = float(input(\"Enter the measure of angle C in degrees: \"))\n",
    "D = float(input(\"Enter the measure of angle D in degrees: \"))"
   ]
  },
  {
   "cell_type": "code",
   "execution_count": 5,
   "id": "2b4ecf6c",
   "metadata": {},
   "outputs": [
    {
     "name": "stdout",
     "output_type": "stream",
     "text": [
      "Square\n"
     ]
    }
   ],
   "source": [
    "if a == b == c == d:\n",
    "    if A == B == C == D == 90:\n",
    "        print(\"Square\")\n",
    "    else:\n",
    "        print(\"Rhombus\")\n",
    "elif A == B == C == D == 90:\n",
    "    print(\"Rectangle\")\n",
    "elif A == B == C == D and a != b != c != d:\n",
    "    print(\"Kite\")\n",
    "else:\n",
    "    print(\"Quadrilateral\")"
   ]
  },
  {
   "cell_type": "markdown",
   "id": "f38137d3",
   "metadata": {},
   "source": [
    "29. Write a Python script to determine the season based on a user-provided month using elif statements."
   ]
  },
  {
   "cell_type": "code",
   "execution_count": 6,
   "id": "0886a21c",
   "metadata": {},
   "outputs": [
    {
     "name": "stdout",
     "output_type": "stream",
     "text": [
      "Enter a month: December\n"
     ]
    }
   ],
   "source": [
    "month = input(\"Enter a month: \").lower()"
   ]
  },
  {
   "cell_type": "code",
   "execution_count": 7,
   "id": "fe296c8f",
   "metadata": {},
   "outputs": [
    {
     "name": "stdout",
     "output_type": "stream",
     "text": [
      "The season for December is Winter.\n"
     ]
    }
   ],
   "source": [
    "if month in [\"december\", \"january\", \"february\"]:\n",
    "    season = \"Winter\"\n",
    "elif month in [\"march\", \"april\", \"may\"]:\n",
    "    season = \"Spring\"\n",
    "elif month in [\"june\", \"july\", \"august\"]:\n",
    "    season = \"Summer\"\n",
    "elif month in [\"september\", \"october\", \"november\"]:\n",
    "    season = \"Fall/Autumn\"\n",
    "else:\n",
    "    season = \"Invalid month\"\n",
    "\n",
    "if season != \"Invalid month\":\n",
    "    print(f\"The season for {month.capitalize()} is {season}.\")\n",
    "else:\n",
    "    print(\"Invalid input. Please enter a valid month.\")"
   ]
  },
  {
   "cell_type": "markdown",
   "id": "ae08238c",
   "metadata": {},
   "source": [
    "30. Implement a program to determine the type of a year (leap or common) and month (30 or 31 days) using\n",
    "elif statements."
   ]
  },
  {
   "cell_type": "code",
   "execution_count": 8,
   "id": "20e068c3",
   "metadata": {},
   "outputs": [
    {
     "name": "stdout",
     "output_type": "stream",
     "text": [
      "Enter a year: 2024\n",
      "Enter a month: february\n"
     ]
    }
   ],
   "source": [
    "year = int(input(\"Enter a year: \"))\n",
    "month = input(\"Enter a month: \").lower()"
   ]
  },
  {
   "cell_type": "code",
   "execution_count": 9,
   "id": "9e2a68ca",
   "metadata": {},
   "outputs": [],
   "source": [
    "is_leap_year = (year % 4 == 0 and year % 100 != 0) or (year % 400 == 0)\n",
    "\n",
    "if month in [\"january\", \"march\", \"may\", \"july\", \"august\", \"october\", \"december\"]:\n",
    "    days = 31\n",
    "elif month in [\"april\", \"june\", \"september\", \"november\"]:\n",
    "    days = 30\n",
    "elif month == \"february\":\n",
    "    if is_leap_year:\n",
    "        days = 29\n",
    "    else:\n",
    "        days = 28\n",
    "else:\n",
    "    days = None"
   ]
  },
  {
   "cell_type": "code",
   "execution_count": 10,
   "id": "c36e9bf4",
   "metadata": {},
   "outputs": [
    {
     "name": "stdout",
     "output_type": "stream",
     "text": [
      "Leap year and February has 29 days.\n"
     ]
    }
   ],
   "source": [
    "if is_leap_year:\n",
    "    year_type = \"Leap year\"\n",
    "else:\n",
    "    year_type = \"Common year\"\n",
    "\n",
    "if days is not None:\n",
    "    print(f\"{year_type} and {month.capitalize()} has {days} days.\")\n",
    "else:\n",
    "    print(\"Invalid input. Please enter a valid month and year.\")"
   ]
  },
  {
   "cell_type": "markdown",
   "id": "7ff69d0f",
   "metadata": {},
   "source": [
    "<div style=\"text-align: center; font-size: 1.5em;\">\n",
    "   Basic Level:\n",
    "</div>"
   ]
  },
  {
   "cell_type": "markdown",
   "id": "afbdace1",
   "metadata": {},
   "source": [
    "1. Write a Python program that checks if a given number is positive, negative, or zero."
   ]
  },
  {
   "cell_type": "code",
   "execution_count": 11,
   "id": "89be1fb2",
   "metadata": {},
   "outputs": [
    {
     "name": "stdout",
     "output_type": "stream",
     "text": [
      "Enter a number: -5\n",
      "Negative\n"
     ]
    }
   ],
   "source": [
    "number = float(input(\"Enter a number: \"))\n",
    "\n",
    "if number > 0:\n",
    "    print(\"Positive\")\n",
    "elif number < 0:\n",
    "    print(\"Negative\")\n",
    "else:\n",
    "    print(\"Zero\")"
   ]
  },
  {
   "cell_type": "markdown",
   "id": "4cb72ccb",
   "metadata": {},
   "source": [
    "2. Create a program to determine if a person is eligible to vote based on their age."
   ]
  },
  {
   "cell_type": "code",
   "execution_count": 12,
   "id": "8f18b3d7",
   "metadata": {},
   "outputs": [
    {
     "name": "stdout",
     "output_type": "stream",
     "text": [
      "Enter your age: 20\n",
      "You are eligible to vote.\n"
     ]
    }
   ],
   "source": [
    "age = int(input(\"Enter your age: \"))\n",
    "\n",
    "if age >= 18:\n",
    "    print(\"You are eligible to vote.\")\n",
    "else:\n",
    "    print(\"You are not eligible to vote.\")"
   ]
  },
  {
   "cell_type": "markdown",
   "id": "bcb53848",
   "metadata": {},
   "source": [
    "3. Find the maximum of two given numbers:"
   ]
  },
  {
   "cell_type": "code",
   "execution_count": 13,
   "id": "920cd60a",
   "metadata": {},
   "outputs": [
    {
     "name": "stdout",
     "output_type": "stream",
     "text": [
      "Enter the first number: 3\n",
      "Enter the second number: 10\n",
      "The maximum number is 10.0\n"
     ]
    }
   ],
   "source": [
    "num1 = float(input(\"Enter the first number: \"))\n",
    "num2 = float(input(\"Enter the second number: \"))\n",
    "\n",
    "if num1 > num2:\n",
    "    print(f\"The maximum number is {num1}\")\n",
    "else:\n",
    "    print(f\"The maximum number is {num2}\")\n"
   ]
  },
  {
   "cell_type": "markdown",
   "id": "48ecb43f",
   "metadata": {},
   "source": [
    "4. Calculate the grade of a student based on their exam score:"
   ]
  },
  {
   "cell_type": "code",
   "execution_count": 14,
   "id": "7ae0f3e1",
   "metadata": {},
   "outputs": [
    {
     "name": "stdout",
     "output_type": "stream",
     "text": [
      "Enter the exam score: 85\n",
      "Your grade is B\n"
     ]
    }
   ],
   "source": [
    "score = float(input(\"Enter the exam score: \"))\n",
    "\n",
    "if score >= 90:\n",
    "    grade = 'A'\n",
    "elif score >= 80:\n",
    "    grade = 'B'\n",
    "elif score >= 70:\n",
    "    grade = 'C'\n",
    "elif score >= 60:\n",
    "    grade = 'D'\n",
    "else:\n",
    "    grade = 'F'\n",
    "\n",
    "print(f\"Your grade is {grade}\")"
   ]
  },
  {
   "cell_type": "markdown",
   "id": "5a996d86",
   "metadata": {},
   "source": [
    "5. Check if a year is a leap year or not:"
   ]
  },
  {
   "cell_type": "code",
   "execution_count": 15,
   "id": "b143d00f",
   "metadata": {},
   "outputs": [
    {
     "name": "stdout",
     "output_type": "stream",
     "text": [
      "Enter a year: 2024\n",
      "Leap year\n"
     ]
    }
   ],
   "source": [
    "year = int(input(\"Enter a year: \"))\n",
    "\n",
    "if (year % 4 == 0 and year % 100 != 0) or (year % 400 == 0):\n",
    "    print(\"Leap year\")\n",
    "else:\n",
    "    print(\"Not a leap year\")\n"
   ]
  },
  {
   "cell_type": "markdown",
   "id": "ab46b60c",
   "metadata": {},
   "source": [
    "6. Classify a triangle based on its sides' lengths:"
   ]
  },
  {
   "cell_type": "code",
   "execution_count": 16,
   "id": "7a64403e",
   "metadata": {},
   "outputs": [
    {
     "name": "stdout",
     "output_type": "stream",
     "text": [
      "Enter the length of side a: 4\n",
      "Enter the length of side b: 4\n",
      "Enter the length of side c: 4\n",
      "Equilateral triangle\n"
     ]
    }
   ],
   "source": [
    "a = float(input(\"Enter the length of side a: \"))\n",
    "b = float(input(\"Enter the length of side b: \"))\n",
    "c = float(input(\"Enter the length of side c: \"))\n",
    "\n",
    "if a == b == c:\n",
    "    print(\"Equilateral triangle\")\n",
    "elif a == b or b == c or a == c:\n",
    "    print(\"Isosceles triangle\")\n",
    "else:\n",
    "    print(\"Scalene triangle\")"
   ]
  },
  {
   "cell_type": "markdown",
   "id": "8219a6af",
   "metadata": {},
   "source": [
    "7. Determine the largest of three given numbers:"
   ]
  },
  {
   "cell_type": "code",
   "execution_count": 17,
   "id": "c7eba928",
   "metadata": {},
   "outputs": [
    {
     "name": "stdout",
     "output_type": "stream",
     "text": [
      "Enter the first number: 10\n",
      "Enter the second number: 20\n",
      "Enter the third number: 30\n",
      "The largest number is 30.0\n"
     ]
    }
   ],
   "source": [
    "num1 = float(input(\"Enter the first number: \"))\n",
    "num2 = float(input(\"Enter the second number: \"))\n",
    "num3 = float(input(\"Enter the third number: \"))\n",
    "\n",
    "max_num = max(num1, num2, num3)\n",
    "print(f\"The largest number is {max_num}\")"
   ]
  },
  {
   "cell_type": "markdown",
   "id": "c0a981b0",
   "metadata": {},
   "source": [
    "8. Check whether a character is a vowel or a consonant:"
   ]
  },
  {
   "cell_type": "code",
   "execution_count": 18,
   "id": "56adfd4e",
   "metadata": {},
   "outputs": [
    {
     "name": "stdout",
     "output_type": "stream",
     "text": [
      "Enter a character: I\n",
      "Vowel\n"
     ]
    }
   ],
   "source": [
    "char = input(\"Enter a character: \").lower()\n",
    "\n",
    "if char.isalpha() and len(char) == 1:\n",
    "    if char in 'aeiou':\n",
    "        print(\"Vowel\")\n",
    "    else:\n",
    "        print(\"Consonant\")\n",
    "else:\n",
    "    print(\"Invalid input\")"
   ]
  },
  {
   "cell_type": "markdown",
   "id": "d84192a0",
   "metadata": {},
   "source": [
    "9. Calculate the total cost of a shopping cart based on discounts:"
   ]
  },
  {
   "cell_type": "code",
   "execution_count": 20,
   "id": "d807f177",
   "metadata": {},
   "outputs": [
    {
     "name": "stdout",
     "output_type": "stream",
     "text": [
      "Enter the total price of the items in the cart: 1150\n",
      "Total cost after discount: rs 1035.00\n"
     ]
    }
   ],
   "source": [
    "total_price = float(input(\"Enter the total price of the items in the cart: \"))\n",
    "\n",
    "if total_price >= 1000:\n",
    "    discount = total_price * 0.1\n",
    "else:\n",
    "    discount = 0\n",
    "\n",
    "final_price = total_price - discount\n",
    "print(f\"Total cost after discount: rs {final_price:.2f}\")\n"
   ]
  },
  {
   "cell_type": "markdown",
   "id": "c7be681b",
   "metadata": {},
   "source": [
    "10. Check if a given number is even or odd:"
   ]
  },
  {
   "cell_type": "code",
   "execution_count": 21,
   "id": "ff89f0cb",
   "metadata": {},
   "outputs": [
    {
     "name": "stdout",
     "output_type": "stream",
     "text": [
      "Enter a number: 77\n",
      "Odd\n"
     ]
    }
   ],
   "source": [
    "number = int(input(\"Enter a number: \"))\n",
    "\n",
    "if number % 2 == 0:\n",
    "    print(\"Even\")\n",
    "else:\n",
    "    print(\"Odd\")"
   ]
  },
  {
   "cell_type": "markdown",
   "id": "2398cdab",
   "metadata": {},
   "source": [
    "<div style=\"text-align: center; font-size: 1.5em;\">\n",
    "  Intermediate Level:\n",
    "</div>"
   ]
  },
  {
   "cell_type": "markdown",
   "id": "dfe9311c",
   "metadata": {},
   "source": [
    "11. Calculate the roots of a quadratic equation:"
   ]
  },
  {
   "cell_type": "code",
   "execution_count": 22,
   "id": "ff74eb62",
   "metadata": {},
   "outputs": [
    {
     "name": "stdout",
     "output_type": "stream",
     "text": [
      "Enter the coefficient a: 10\n",
      "Enter the coefficient b: 2\n",
      "Enter the coefficient c: 10\n",
      "The roots are (-0.1-0.99498743710662j) and (-0.1+0.99498743710662j)\n"
     ]
    }
   ],
   "source": [
    "import cmath\n",
    "\n",
    "a = float(input(\"Enter the coefficient a: \"))\n",
    "b = float(input(\"Enter the coefficient b: \"))\n",
    "c = float(input(\"Enter the coefficient c: \"))\n",
    "\n",
    "\n",
    "d = (b**2) - (4*a*c)\n",
    "\n",
    "root1 = (-b - cmath.sqrt(d)) / (2*a)\n",
    "root2 = (-b + cmath.sqrt(d)) / (2*a)\n",
    "\n",
    "print(f\"The roots are {root1} and {root2}\")\n"
   ]
  },
  {
   "cell_type": "markdown",
   "id": "3d587e1e",
   "metadata": {},
   "source": [
    "12. Determine the day of the week based on the day number (1-7):"
   ]
  },
  {
   "cell_type": "code",
   "execution_count": 23,
   "id": "39cdd93a",
   "metadata": {},
   "outputs": [
    {
     "name": "stdout",
     "output_type": "stream",
     "text": [
      "Enter a day number (1-7): 2\n",
      "Day 2 is Monday.\n"
     ]
    }
   ],
   "source": [
    "day_number = int(input(\"Enter a day number (1-7): \"))\n",
    "\n",
    "days_of_week = [\"Sunday\", \"Monday\", \"Tuesday\", \"Wednesday\", \"Thursday\", \"Friday\", \"Saturday\"]\n",
    "\n",
    "if 1 <= day_number <= 7:\n",
    "    day_name = days_of_week[day_number - 1]\n",
    "    print(f\"Day {day_number} is {day_name}.\")\n",
    "else:\n",
    "    print(\"Invalid input. Please enter a day number between 1 and 7.\")\n"
   ]
  },
  {
   "cell_type": "markdown",
   "id": "2d2df656",
   "metadata": {},
   "source": [
    "13. Calculate the factorial of a given number using recursion:"
   ]
  },
  {
   "cell_type": "code",
   "execution_count": 24,
   "id": "c8cc5b6f",
   "metadata": {},
   "outputs": [
    {
     "name": "stdout",
     "output_type": "stream",
     "text": [
      "Enter a number: 6\n",
      "The factorial of 6 is 720\n"
     ]
    }
   ],
   "source": [
    "def factorial(n):\n",
    "    if n == 0:\n",
    "        return 1\n",
    "    else:\n",
    "        return n * factorial(n - 1)\n",
    "\n",
    "num = int(input(\"Enter a number: \"))\n",
    "result = factorial(num)\n",
    "print(f\"The factorial of {num} is {result}\")"
   ]
  },
  {
   "cell_type": "markdown",
   "id": "11c60115",
   "metadata": {},
   "source": [
    "14. Find the largest among three numbers without using the max() function:"
   ]
  },
  {
   "cell_type": "code",
   "execution_count": 25,
   "id": "2c734871",
   "metadata": {},
   "outputs": [
    {
     "name": "stdout",
     "output_type": "stream",
     "text": [
      "Enter the first number: 10\n",
      "Enter the second number: 20\n",
      "Enter the third number: 30\n",
      "The largest number is 30.0\n"
     ]
    }
   ],
   "source": [
    "num1 = float(input(\"Enter the first number: \"))\n",
    "num2 = float(input(\"Enter the second number: \"))\n",
    "num3 = float(input(\"Enter the third number: \"))\n",
    "\n",
    "if num1 >= num2 and num1 >= num3:\n",
    "    largest = num1\n",
    "elif num2 >= num1 and num2 >= num3:\n",
    "    largest = num2\n",
    "else:\n",
    "    largest = num3\n",
    "\n",
    "print(f\"The largest number is {largest}\")"
   ]
  },
  {
   "cell_type": "markdown",
   "id": "66fa76cb",
   "metadata": {},
   "source": [
    "15. Simulate a basic ATM transaction menu:"
   ]
  },
  {
   "cell_type": "code",
   "execution_count": 27,
   "id": "732a7e01",
   "metadata": {},
   "outputs": [],
   "source": [
    "balance = 75000"
   ]
  },
  {
   "cell_type": "code",
   "execution_count": 29,
   "id": "95684507",
   "metadata": {},
   "outputs": [
    {
     "name": "stdout",
     "output_type": "stream",
     "text": [
      "===== ATM Menu =====\n",
      "1. Check Balance\n",
      "2. Deposit Funds\n",
      "3. Withdraw Funds\n",
      "4. Quit\n",
      "Enter your choice (1/2/3/4): 2\n",
      "Enter the amount to deposit (₹): 5000\n",
      "₹5000.0 has been deposited.\n",
      "===== ATM Menu =====\n",
      "1. Check Balance\n",
      "2. Deposit Funds\n",
      "3. Withdraw Funds\n",
      "4. Quit\n",
      "Enter your choice (1/2/3/4): 1\n",
      "Your account balance is ₹80000.0\n",
      "===== ATM Menu =====\n",
      "1. Check Balance\n",
      "2. Deposit Funds\n",
      "3. Withdraw Funds\n",
      "4. Quit\n",
      "Enter your choice (1/2/3/4): 4\n",
      "Thank you for using the ATM. Goodbye!\n"
     ]
    }
   ],
   "source": [
    "while True:\n",
    "    print(\"===== ATM Menu =====\")\n",
    "    print(\"1. Check Balance\")\n",
    "    print(\"2. Deposit Funds\")\n",
    "    print(\"3. Withdraw Funds\")\n",
    "    print(\"4. Quit\")\n",
    "\n",
    "    choice = input(\"Enter your choice (1/2/3/4): \")\n",
    "\n",
    "    if choice == '1':\n",
    "        print(f\"Your account balance is ₹{balance}\")\n",
    "    elif choice == '2':\n",
    "        amount = float(input(\"Enter the amount to deposit (₹): \"))\n",
    "        if amount > 0:\n",
    "            balance += amount\n",
    "            print(f\"₹{amount} has been deposited.\")\n",
    "        else:\n",
    "            print(\"Invalid amount. Please enter a positive number.\")\n",
    "    elif choice == '3':\n",
    "        amount = float(input(\"Enter the amount to withdraw (₹): \"))\n",
    "        if amount > 0 and amount <= balance:\n",
    "            balance -= amount\n",
    "            print(f\"₹{amount} has been withdrawn.\")\n",
    "        elif amount > balance:\n",
    "            print(\"Insufficient funds.\")\n",
    "        else:\n",
    "            print(\"Invalid amount. Please enter a positive number.\")\n",
    "    elif choice == '4':\n",
    "        print(\"Thank you for using the ATM. Goodbye!\")\n",
    "        break\n",
    "    else:\n",
    "        print(\"Invalid choice. Please select a valid option (1/2/3/4).\")"
   ]
  },
  {
   "cell_type": "markdown",
   "id": "bec2b760",
   "metadata": {},
   "source": [
    "16. Check if a given string is a palindrome or not:"
   ]
  },
  {
   "cell_type": "code",
   "execution_count": 31,
   "id": "a8180f7f",
   "metadata": {},
   "outputs": [
    {
     "name": "stdout",
     "output_type": "stream",
     "text": [
      "Enter a string: TENNET\n",
      "The string is a palindrome.\n"
     ]
    }
   ],
   "source": [
    "input_string = input(\"Enter a string: \")\n",
    "\n",
    "cleaned_string = input_string.replace(\" \", \"\").lower()\n",
    "\n",
    "if cleaned_string == cleaned_string[::-1]:\n",
    "    print(\"The string is a palindrome.\")\n",
    "else:\n",
    "    print(\"The string is not a palindrome.\")\n"
   ]
  },
  {
   "cell_type": "markdown",
   "id": "4f8cbf3d",
   "metadata": {},
   "source": [
    "17. Calculate the average of a list of numbers, excluding the smallest and largest values:"
   ]
  },
  {
   "cell_type": "code",
   "execution_count": 33,
   "id": "0f2240da",
   "metadata": {},
   "outputs": [
    {
     "name": "stdout",
     "output_type": "stream",
     "text": [
      "How many numbers do you want to enter? 5\n"
     ]
    }
   ],
   "source": [
    "num_values = int(input(\"How many numbers do you want to enter? \"))"
   ]
  },
  {
   "cell_type": "code",
   "execution_count": 34,
   "id": "5ab91d10",
   "metadata": {},
   "outputs": [],
   "source": [
    "if num_values < 3:\n",
    "    print(\"Please enter at least three numbers.\")\n",
    "else:\n",
    "    number_list = []"
   ]
  },
  {
   "cell_type": "code",
   "execution_count": 35,
   "id": "02b23d12",
   "metadata": {},
   "outputs": [
    {
     "name": "stdout",
     "output_type": "stream",
     "text": [
      "Enter value #1: 4\n",
      "Enter value #2: 1\n",
      "Enter value #3: 10\n",
      "Enter value #4: 64\n",
      "Enter value #5: 91\n"
     ]
    }
   ],
   "source": [
    "for i in range(num_values):\n",
    "        value = float(input(f\"Enter value #{i + 1}: \"))\n",
    "        number_list.append(value)"
   ]
  },
  {
   "cell_type": "code",
   "execution_count": 36,
   "id": "fd0f2dd0",
   "metadata": {},
   "outputs": [],
   "source": [
    "number_list.sort()\n",
    "\n",
    "    \n",
    "number_list = number_list[1:-1]\n",
    "\n",
    "\n",
    "sum_of_values = sum(number_list)\n",
    "\n",
    "    \n",
    "average = sum_of_values / len(number_list)"
   ]
  },
  {
   "cell_type": "code",
   "execution_count": 37,
   "id": "932750c8",
   "metadata": {},
   "outputs": [
    {
     "name": "stdout",
     "output_type": "stream",
     "text": [
      "The average (excluding the smallest and largest values) is: 26.00\n"
     ]
    }
   ],
   "source": [
    "print(f\"The average (excluding the smallest and largest values) is: {average:.2f}\")"
   ]
  },
  {
   "cell_type": "markdown",
   "id": "2bd39745",
   "metadata": {},
   "source": [
    "18. Convert a given temperature from Celsius to Fahrenheit:"
   ]
  },
  {
   "cell_type": "code",
   "execution_count": 38,
   "id": "155658f1",
   "metadata": {},
   "outputs": [
    {
     "name": "stdout",
     "output_type": "stream",
     "text": [
      "Enter temperature in Celsius: 32\n",
      "32.00 degrees Celsius is equal to 89.60 degrees Fahrenheit.\n"
     ]
    }
   ],
   "source": [
    "celsius = float(input(\"Enter temperature in Celsius: \"))\n",
    "fahrenheit = (celsius * 9/5) + 32\n",
    "print(f\"{celsius:.2f} degrees Celsius is equal to {fahrenheit:.2f} degrees Fahrenheit.\")"
   ]
  },
  {
   "cell_type": "markdown",
   "id": "883c6eb8",
   "metadata": {},
   "source": [
    "19. Simulate a basic calculator for addition, subtraction, multiplication, and division:"
   ]
  },
  {
   "cell_type": "code",
   "execution_count": 39,
   "id": "a344891f",
   "metadata": {},
   "outputs": [
    {
     "name": "stdout",
     "output_type": "stream",
     "text": [
      "===== Basic Calculator =====\n",
      "Options:\n",
      "1. Addition\n",
      "2. Subtraction\n",
      "3. Multiplication\n",
      "4. Division\n",
      "5. Quit\n",
      "Enter your choice (1/2/3/4/5): 3\n",
      "Enter first number: 4\n",
      "Enter second number: 7\n",
      "Result:  28.0\n",
      "===== Basic Calculator =====\n",
      "Options:\n",
      "1. Addition\n",
      "2. Subtraction\n",
      "3. Multiplication\n",
      "4. Division\n",
      "5. Quit\n",
      "Enter your choice (1/2/3/4/5): 4\n",
      "Enter first number: 64\n",
      "Enter second number: 4\n",
      "Result:  16.0\n",
      "===== Basic Calculator =====\n",
      "Options:\n",
      "1. Addition\n",
      "2. Subtraction\n",
      "3. Multiplication\n",
      "4. Division\n",
      "5. Quit\n",
      "Enter your choice (1/2/3/4/5): 5\n",
      "Thank you for using the calculator. Goodbye!\n"
     ]
    }
   ],
   "source": [
    "while True:\n",
    "    print(\"===== Basic Calculator =====\")\n",
    "    print(\"Options:\")\n",
    "    print(\"1. Addition\")\n",
    "    print(\"2. Subtraction\")\n",
    "    print(\"3. Multiplication\")\n",
    "    print(\"4. Division\")\n",
    "    print(\"5. Quit\")\n",
    "\n",
    "    choice = input(\"Enter your choice (1/2/3/4/5): \")\n",
    "\n",
    "    if choice == '5':\n",
    "        print(\"Thank you for using the calculator. Goodbye!\")\n",
    "        break\n",
    "\n",
    "    if choice not in ('1', '2', '3', '4'):\n",
    "        print(\"Invalid choice. Please select a valid option (1/2/3/4).\")\n",
    "        continue\n",
    "\n",
    "    num1 = float(input(\"Enter first number: \"))\n",
    "    num2 = float(input(\"Enter second number: \"))\n",
    "\n",
    "    if choice == '1':\n",
    "        result = num1 + num2\n",
    "        print(\"Result: \", result)\n",
    "    elif choice == '2':\n",
    "        result = num1 - num2\n",
    "        print(\"Result: \", result)\n",
    "    elif choice == '3':\n",
    "        result = num1 * num2\n",
    "        print(\"Result: \", result)\n",
    "    elif choice == '4':\n",
    "        if num2 == 0:\n",
    "            print(\"Division by zero is not allowed.\")\n",
    "        else:\n",
    "            result = num1 / num2\n",
    "            print(\"Result: \", result)"
   ]
  },
  {
   "cell_type": "markdown",
   "id": "653bd293",
   "metadata": {},
   "source": [
    "20. Determine the roots of a cubic equation using the Cardano formula:"
   ]
  },
  {
   "cell_type": "markdown",
   "id": "661e497a",
   "metadata": {},
   "source": [
    "<div style=\"text-align: center; font-size: 1.5em;\">\n",
    "  Advanced Level:\n",
    "</div>"
   ]
  },
  {
   "cell_type": "markdown",
   "id": "e99ba847",
   "metadata": {},
   "source": [
    "21. Create a program that calculates the income tax based on the user's income and tax brackets."
   ]
  },
  {
   "cell_type": "code",
   "execution_count": 1,
   "id": "7385310d",
   "metadata": {},
   "outputs": [],
   "source": [
    "tax_brackets = [\n",
    "    (0, 250000, 0.05),\n",
    "    (250001, 500000, 0.1),\n",
    "    (500001, 1000000, 0.2),\n",
    "    (1000001, float('inf'), 0.3)\n",
    "]"
   ]
  },
  {
   "cell_type": "code",
   "execution_count": 4,
   "id": "40596a15",
   "metadata": {},
   "outputs": [
    {
     "name": "stdout",
     "output_type": "stream",
     "text": [
      "Enter your income in INR: 1200000\n"
     ]
    }
   ],
   "source": [
    "income = int(input(\"Enter your income in INR: \"))"
   ]
  },
  {
   "cell_type": "code",
   "execution_count": 5,
   "id": "50df48d5",
   "metadata": {},
   "outputs": [
    {
     "name": "stdout",
     "output_type": "stream",
     "text": [
      "Your income tax in INR is: ₹197499.40\n"
     ]
    }
   ],
   "source": [
    "if income >= 0:\n",
    "    tax = 0\n",
    "    for bracket in tax_brackets:\n",
    "        min_income, max_income, tax_rate = bracket\n",
    "        if income <= min_income:\n",
    "            tax += income * tax_rate\n",
    "            break\n",
    "        elif income <= max_income:\n",
    "            tax += (income - min_income) * tax_rate\n",
    "            break\n",
    "        else:\n",
    "            tax += (max_income - min_income) * tax_rate\n",
    "    print(f\"Your income tax in INR is: ₹{tax:.2f}\")\n",
    "else:\n",
    "    print(\"Invalid input. Please enter a valid income as a number.\")"
   ]
  },
  {
   "cell_type": "markdown",
   "id": "39e32fc3",
   "metadata": {},
   "source": [
    "22. Write a program that simulates a rock-paper-scissors game against the computer."
   ]
  },
  {
   "cell_type": "code",
   "execution_count": 1,
   "id": "35c4f198",
   "metadata": {},
   "outputs": [
    {
     "name": "stdout",
     "output_type": "stream",
     "text": [
      "Enter your choice (rock, paper, or scissors): rock\n",
      "You chose: rock\n",
      "Computer chose: paper\n",
      "Computer wins!\n",
      "---------------\n",
      "Do you want to play again? (yes/no): yes\n",
      "Enter your choice (rock, paper, or scissors): paper\n",
      "You chose: paper\n",
      "Computer chose: paper\n",
      "It's a tie!\n",
      "---------------\n",
      "Do you want to play again? (yes/no): no\n",
      "Thanks for playing!\n"
     ]
    }
   ],
   "source": [
    "import random\n",
    "\n",
    "# Define the choices for the game\n",
    "choices = [\"rock\", \"paper\", \"scissors\"]\n",
    "\n",
    "while True:\n",
    "    # Get the user's choice\n",
    "    user_choice = input(\"Enter your choice (rock, paper, or scissors): \").lower()\n",
    "\n",
    "    # Validate user input\n",
    "    if user_choice not in choices:\n",
    "        print(\"Invalid choice. Please choose rock, paper, or scissors.\")\n",
    "        continue\n",
    "\n",
    "    # Generate the computer's choice\n",
    "    computer_choice = random.choice(choices)\n",
    "\n",
    "    # Display the choices\n",
    "    print(f\"You chose: {user_choice}\")\n",
    "    print(f\"Computer chose: {computer_choice}\")\n",
    "\n",
    "    # Determine the winner\n",
    "    if user_choice == computer_choice:\n",
    "        print(\"It's a tie!\")\n",
    "        print(\"---------------\")\n",
    "    elif (\n",
    "        (user_choice == \"rock\" and computer_choice == \"scissors\") or\n",
    "        (user_choice == \"scissors\" and computer_choice == \"paper\") or\n",
    "        (user_choice == \"paper\" and computer_choice == \"rock\")\n",
    "    ):\n",
    "        print(\"You win!\")\n",
    "        print(\"---------------\")\n",
    "    else:\n",
    "        print(\"Computer wins!\")\n",
    "        print(\"---------------\")\n",
    "\n",
    "    # Ask if the user wants to play again\n",
    "    play_again = input(\"Do you want to play again? (yes/no): \").lower()\n",
    "    if play_again != \"yes\":\n",
    "        break\n",
    "\n",
    "print(\"Thanks for playing!\")"
   ]
  },
  {
   "cell_type": "markdown",
   "id": "473e6bf5",
   "metadata": {},
   "source": [
    "23. Develop a program that generates a random password based on user preferences (length, complexity)."
   ]
  },
  {
   "cell_type": "code",
   "execution_count": 4,
   "id": "417d1166",
   "metadata": {},
   "outputs": [
    {
     "name": "stdout",
     "output_type": "stream",
     "text": [
      "Enter the length of the password: 10\n",
      "Include lowercase letters? (yes/no): yes\n",
      "Include uppercase letters? (yes/no): yes\n",
      "Include digits? (yes/no): yes\n",
      "Include special characters? (yes/no): no\n"
     ]
    }
   ],
   "source": [
    "import random\n",
    "import string\n",
    "\n",
    "# Get user preferences for the password length\n",
    "length = int(input(\"Enter the length of the password: \"))\n",
    "\n",
    "# Get user preferences for including character types\n",
    "use_lowercase = input(\"Include lowercase letters? (yes/no): \").lower() == \"yes\"\n",
    "use_uppercase = input(\"Include uppercase letters? (yes/no): \").lower() == \"yes\"\n",
    "use_digits = input(\"Include digits? (yes/no): \").lower() == \"yes\"\n",
    "use_special_chars = input(\"Include special characters? (yes/no): \").lower() == \"yes\""
   ]
  },
  {
   "cell_type": "code",
   "execution_count": 5,
   "id": "07ed6c01",
   "metadata": {},
   "outputs": [],
   "source": [
    "characters = \"\"\n",
    "\n",
    "if use_lowercase:\n",
    "    characters += string.ascii_lowercase\n",
    "if use_uppercase:\n",
    "    characters += string.ascii_uppercase\n",
    "if use_digits:\n",
    "    characters += string.digits\n",
    "if use_special_chars:\n",
    "    characters += string.punctuation"
   ]
  },
  {
   "cell_type": "code",
   "execution_count": 10,
   "id": "9a18ff48",
   "metadata": {},
   "outputs": [
    {
     "name": "stdout",
     "output_type": "stream",
     "text": [
      "Generated Password: j1yIXaNwn3\n"
     ]
    }
   ],
   "source": [
    "if not characters:\n",
    "    print(\"Please select at least one character type.\")\n",
    "else:\n",
    "    password = ''\n",
    "    for i in range(length):\n",
    "        password += random.choice(characters)\n",
    "    print(f\"Generated Password: {password}\")"
   ]
  },
  {
   "cell_type": "markdown",
   "id": "7fb8336a",
   "metadata": {},
   "source": [
    "24. Create a program that implements a simple text-based adventure game with branching scenarios."
   ]
  },
  {
   "cell_type": "code",
   "execution_count": 12,
   "id": "3213f3a1",
   "metadata": {},
   "outputs": [
    {
     "name": "stdout",
     "output_type": "stream",
     "text": [
      "Welcome to the Text-Based Adventure Game!\n",
      "You find yourself in a forest. You have two paths ahead.\n",
      "Do you want to take the 'left' path or the 'right' path? left\n",
      "You chose the left path.\n",
      "You come across a river. Do you 'swim' across or 'build' a bridge?\n",
      "Enter your choice: build\n",
      "You built a sturdy bridge and crossed the river safely.\n",
      "You find a treasure chest hidden in the forest. You win!\n",
      "Thanks for playing!\n"
     ]
    }
   ],
   "source": [
    "import time\n",
    "\n",
    "print(\"Welcome to the Text-Based Adventure Game!\")\n",
    "print(\"You find yourself in a forest. You have two paths ahead.\")\n",
    "\n",
    "choice1 = input(\"Do you want to take the 'left' path or the 'right' path? \").lower()\n",
    "\n",
    "if choice1 == 'left':\n",
    "    print(\"You chose the left path.\")\n",
    "    print(\"You come across a river. Do you 'swim' across or 'build' a bridge?\")\n",
    "    \n",
    "    choice2 = input(\"Enter your choice: \").lower()\n",
    "    \n",
    "    if choice2 == 'swim':\n",
    "        print(\"You tried to swim across the river but were swept away by the current. Game over!\")\n",
    "    elif choice2 == 'build':\n",
    "        print(\"You built a sturdy bridge and crossed the river safely.\")\n",
    "        print(\"You find a treasure chest hidden in the forest. You win!\")\n",
    "    else:\n",
    "        print(\"Invalid choice. Game over.\")\n",
    "    \n",
    "elif choice1 == 'right':\n",
    "    print(\"You chose the right path.\")\n",
    "    print(\"You encounter a pack of wolves. Do you 'fight' or 'run'?\")\n",
    "    \n",
    "    choice3 = input(\"Enter your choice: \").lower()\n",
    "    \n",
    "    if choice3 == 'fight':\n",
    "        print(\"You bravely fought off the wolves and continue on your journey.\")\n",
    "        print(\"You find a hidden cave with a mysterious artifact. You win!\")\n",
    "    elif choice3 == 'run':\n",
    "        print(\"You tried to run, but the wolves caught up with you. Game over!\")\n",
    "    else:\n",
    "        print(\"Invalid choice. Game over.\")\n",
    "    \n",
    "else:\n",
    "    print(\"Invalid choice. Game over.\")\n",
    "\n",
    "print(\"Thanks for playing!\")"
   ]
  },
  {
   "cell_type": "markdown",
   "id": "43ef7f9f",
   "metadata": {},
   "source": [
    "25. Build a program that solves a linear equation for x, considering different cases."
   ]
  },
  {
   "cell_type": "code",
   "execution_count": 15,
   "id": "d10e531d",
   "metadata": {},
   "outputs": [
    {
     "name": "stdout",
     "output_type": "stream",
     "text": [
      "Linear Equation Solver\n",
      "Enter a linear equation in the form of ax + b = 0\n",
      "Enter the value 'a': 5\n",
      "Enter the value 'b': 3\n"
     ]
    }
   ],
   "source": [
    "print(\"Linear Equation Solver\")\n",
    "print(\"Enter a linear equation in the form of ax + b = 0\")\n",
    "\n",
    "a = float(input(\"Enter the value 'a': \"))\n",
    "b = float(input(\"Enter the value 'b': \"))"
   ]
  },
  {
   "cell_type": "code",
   "execution_count": 16,
   "id": "8a0338de",
   "metadata": {},
   "outputs": [
    {
     "name": "stdout",
     "output_type": "stream",
     "text": [
      "The solution for x is: x = -0.60\n"
     ]
    }
   ],
   "source": [
    "if a == 0:\n",
    "    if b == 0:\n",
    "        print(\"Infinite solutions: Any value of x satisfies the equation.\")\n",
    "    else:\n",
    "        print(\"No solution: The equation has no valid solution.\")\n",
    "else:\n",
    "    x = -b / a\n",
    "    print(f\"The solution for x is: x = {x:.2f}\")"
   ]
  },
  {
   "cell_type": "markdown",
   "id": "836c2b46",
   "metadata": {},
   "source": [
    "26. Write a program that simulates a basic quiz game with multiple-choice questions and scoring."
   ]
  },
  {
   "cell_type": "code",
   "execution_count": 17,
   "id": "e4e089e6",
   "metadata": {},
   "outputs": [],
   "source": [
    "questions = [\n",
    "    {\n",
    "        \"question\": \"What is the capital of France?\",\n",
    "        \"options\": [\"A) Paris\", \"B) Rome\", \"C) London\", \"D) Madrid\"],\n",
    "        \"correct_answer\": \"A\"\n",
    "    },\n",
    "    {\n",
    "        \"question\": \"Which planet is known as the 'Red Planet'?\",\n",
    "        \"options\": [\"A) Venus\", \"B) Mars\", \"C) Jupiter\", \"D) Saturn\"],\n",
    "        \"correct_answer\": \"B\"\n",
    "    },\n",
    "    {\n",
    "        \"question\": \"What is the largest mammal in the world?\",\n",
    "        \"options\": [\"A) Elephant\", \"B) Giraffe\", \"C) Blue Whale\", \"D) Dolphin\"],\n",
    "        \"correct_answer\": \"C\"\n",
    "    }\n",
    "]"
   ]
  },
  {
   "cell_type": "code",
   "execution_count": 19,
   "id": "5b0b42b9",
   "metadata": {},
   "outputs": [],
   "source": [
    "score = 0\n",
    "question_index = 0"
   ]
  },
  {
   "cell_type": "code",
   "execution_count": 20,
   "id": "74af2d1c",
   "metadata": {},
   "outputs": [
    {
     "name": "stdout",
     "output_type": "stream",
     "text": [
      "\n",
      "Question 1: What is the capital of France?\n",
      "A) Paris\n",
      "B) Rome\n",
      "C) London\n",
      "D) Madrid\n",
      "Enter your answer (A/B/C/D): A\n",
      "Correct!\n",
      "\n",
      "Question 2: Which planet is known as the 'Red Planet'?\n",
      "A) Venus\n",
      "B) Mars\n",
      "C) Jupiter\n",
      "D) Saturn\n",
      "Enter your answer (A/B/C/D): B\n",
      "Correct!\n",
      "\n",
      "Question 3: What is the largest mammal in the world?\n",
      "A) Elephant\n",
      "B) Giraffe\n",
      "C) Blue Whale\n",
      "D) Dolphin\n",
      "Enter your answer (A/B/C/D): C\n",
      "Correct!\n"
     ]
    }
   ],
   "source": [
    "while question_index < len(questions):\n",
    "    question = questions[question_index]\n",
    "    print(f\"\\nQuestion {question_index + 1}: {question['question']}\")\n",
    "    for option in question[\"options\"]:\n",
    "        print(option)\n",
    "    \n",
    "    user_answer = input(\"Enter your answer (A/B/C/D): \").upper()\n",
    "    \n",
    "    if user_answer == question[\"correct_answer\"]:\n",
    "        print(\"Correct!\")\n",
    "        score += 1\n",
    "    else:\n",
    "        print(f\"Wrong! The correct answer is {question['correct_answer']}.\")\n",
    "    \n",
    "    question_index += 1"
   ]
  },
  {
   "cell_type": "code",
   "execution_count": 21,
   "id": "5fff88a0",
   "metadata": {},
   "outputs": [
    {
     "name": "stdout",
     "output_type": "stream",
     "text": [
      "\n",
      "Quiz completed! Your score is: 3/3\n"
     ]
    }
   ],
   "source": [
    "print(f\"\\nQuiz completed! Your score is: {score}/{len(questions)}\")"
   ]
  },
  {
   "cell_type": "markdown",
   "id": "a60b69e1",
   "metadata": {},
   "source": [
    "27. Develop a program that determines whether a given year is a prime number or not."
   ]
  },
  {
   "cell_type": "code",
   "execution_count": 22,
   "id": "51608ae5",
   "metadata": {},
   "outputs": [
    {
     "name": "stdout",
     "output_type": "stream",
     "text": [
      "Enter a year: 2023\n"
     ]
    }
   ],
   "source": [
    "year = int(input(\"Enter a year: \"))\n",
    "\n",
    "if year <= 1:\n",
    "    prime = False\n",
    "else:\n",
    "    prime = True\n",
    "    for i in range(2, year):\n",
    "        if year % i == 0:\n",
    "            prime = False\n",
    "            break"
   ]
  },
  {
   "cell_type": "code",
   "execution_count": 23,
   "id": "a29f25af",
   "metadata": {},
   "outputs": [
    {
     "name": "stdout",
     "output_type": "stream",
     "text": [
      "2023 is not a prime year.\n"
     ]
    }
   ],
   "source": [
    "if prime:\n",
    "    print(f\"{year} is a prime year.\")\n",
    "else:\n",
    "    print(f\"{year} is not a prime year.\")"
   ]
  },
  {
   "cell_type": "markdown",
   "id": "7922b531",
   "metadata": {},
   "source": [
    "28. Create a program that sorts three numbers in ascending order using conditional statements."
   ]
  },
  {
   "cell_type": "code",
   "execution_count": 24,
   "id": "2152db38",
   "metadata": {},
   "outputs": [
    {
     "name": "stdout",
     "output_type": "stream",
     "text": [
      "Enter the first number: 3\n",
      "Enter the second number: 1\n",
      "Enter the third number: 7\n"
     ]
    }
   ],
   "source": [
    "num1 = float(input(\"Enter the first number: \"))\n",
    "num2 = float(input(\"Enter the second number: \"))\n",
    "num3 = float(input(\"Enter the third number: \"))"
   ]
  },
  {
   "cell_type": "code",
   "execution_count": 25,
   "id": "0f74b8b0",
   "metadata": {},
   "outputs": [],
   "source": [
    "min_num = 0\n",
    "mid_num = 0\n",
    "max_num = 0"
   ]
  },
  {
   "cell_type": "code",
   "execution_count": 26,
   "id": "d1a55d17",
   "metadata": {},
   "outputs": [],
   "source": [
    "if num1 <= num2 and num1 <= num3:\n",
    "    min_num = num1\n",
    "    if num2 <= num3:\n",
    "        mid_num = num2\n",
    "        max_num = num3\n",
    "    else:\n",
    "        mid_num = num3\n",
    "        max_num = num2\n",
    "elif num2 <= num1 and num2 <= num3:\n",
    "    min_num = num2\n",
    "    if num1 <= num3:\n",
    "        mid_num = num1\n",
    "        max_num = num3\n",
    "    else:\n",
    "        mid_num = num3\n",
    "        max_num = num1\n",
    "else:\n",
    "    min_num = num3\n",
    "    if num1 <= num2:\n",
    "        mid_num = num1\n",
    "        max_num = num2\n",
    "    else:\n",
    "        mid_num = num2\n",
    "        max_num = num1"
   ]
  },
  {
   "cell_type": "code",
   "execution_count": 27,
   "id": "935a2fa9",
   "metadata": {},
   "outputs": [
    {
     "name": "stdout",
     "output_type": "stream",
     "text": [
      "Sorted numbers in ascending order: 1.0, 3.0, 7.0\n"
     ]
    }
   ],
   "source": [
    "print(f\"Sorted numbers in ascending order: {min_num}, {mid_num}, {max_num}\")"
   ]
  },
  {
   "cell_type": "markdown",
   "id": "66e1d26c",
   "metadata": {},
   "source": [
    "29. Build a program that determines the roots of a quartic equation using numerical methods."
   ]
  },
  {
   "cell_type": "code",
   "execution_count": 28,
   "id": "af1ae3c8",
   "metadata": {},
   "outputs": [
    {
     "name": "stdout",
     "output_type": "stream",
     "text": [
      "Enter the coefficient a: 10\n",
      "Enter the coefficient b: 4\n",
      "Enter the coefficient c: 6\n",
      "The roots are (-0.2-0.7483314773547882j) and (-0.2+0.7483314773547882j)\n"
     ]
    }
   ],
   "source": [
    "import cmath\n",
    "\n",
    "a = float(input(\"Enter the coefficient a: \"))\n",
    "b = float(input(\"Enter the coefficient b: \"))\n",
    "c = float(input(\"Enter the coefficient c: \"))\n",
    "\n",
    "\n",
    "d = (b**2) - (4*a*c)\n",
    "\n",
    "root1 = (-b - cmath.sqrt(d)) / (2*a)\n",
    "root2 = (-b + cmath.sqrt(d)) / (2*a)\n",
    "\n",
    "print(f\"The roots are {root1} and {root2}\")"
   ]
  },
  {
   "cell_type": "markdown",
   "id": "fb32f88d",
   "metadata": {},
   "source": [
    "30. Write a program that calculates the BMI (Body Mass Index) and provides health recommendations based\n",
    "on the user's input."
   ]
  },
  {
   "cell_type": "code",
   "execution_count": 1,
   "id": "036b4e41",
   "metadata": {},
   "outputs": [
    {
     "name": "stdout",
     "output_type": "stream",
     "text": [
      "Enter your weight in kilograms: 79\n",
      "Enter your height in feet: 5\n",
      "Enter your height in inches: 11\n"
     ]
    }
   ],
   "source": [
    "weight = float(input(\"Enter your weight in kilograms: \"))\n",
    "\n",
    "height_feet = int(input(\"Enter your height in feet: \"))\n",
    "height_inches = int(input(\"Enter your height in inches: \"))\n",
    "\n",
    "# Convert height to meters\n",
    "height_meters = (height_feet * 0.3048) + (height_inches * 0.0254)"
   ]
  },
  {
   "cell_type": "code",
   "execution_count": 2,
   "id": "b8c7becf",
   "metadata": {},
   "outputs": [
    {
     "name": "stdout",
     "output_type": "stream",
     "text": [
      "Your BMI is: 24.29\n"
     ]
    }
   ],
   "source": [
    "bmi = weight / (height_meters ** 2)\n",
    "\n",
    "print(f\"Your BMI is: {bmi:.2f}\")"
   ]
  },
  {
   "cell_type": "code",
   "execution_count": 3,
   "id": "c4ba8707",
   "metadata": {},
   "outputs": [
    {
     "name": "stdout",
     "output_type": "stream",
     "text": [
      "Your weight is within the healthy range. Keep it up!\n"
     ]
    }
   ],
   "source": [
    "if bmi < 18.5:\n",
    "    print(\"You are underweight. Consider gaining some weight for better health.\")\n",
    "elif 18.5 <= bmi < 24.9:\n",
    "    print(\"Your weight is within the healthy range. Keep it up!\")\n",
    "elif 24.9 <= bmi < 29.9:\n",
    "    print(\"You are overweight. Consider losing some weight for better health.\")\n",
    "else:\n",
    "    print(\"You are obese. It's important to consult with a healthcare professional for guidance on managing your weight.\")"
   ]
  },
  {
   "cell_type": "markdown",
   "id": "5ae00f87",
   "metadata": {},
   "source": [
    "<div style=\"text-align: center; font-size: 1.5em;\">\n",
    "    Challenge Level:\n",
    "</div>"
   ]
  },
  {
   "cell_type": "markdown",
   "id": "770d850b",
   "metadata": {},
   "source": [
    "31. Create a program that validates a password based on complexity rules (length, characters, etc.)."
   ]
  },
  {
   "cell_type": "code",
   "execution_count": 1,
   "id": "5d7d5ec9",
   "metadata": {},
   "outputs": [],
   "source": [
    "min_length = 8                                             #first we define the various charecters\n",
    "has_lowercase = False\n",
    "has_uppercase = False\n",
    "has_digit = False\n",
    "has_special_char = False\n",
    "special_characters = \"!@#$%^&*()_+-=[]{}|;:,.<>?/\\\\\""
   ]
  },
  {
   "cell_type": "code",
   "execution_count": 2,
   "id": "16dd26c1",
   "metadata": {},
   "outputs": [
    {
     "name": "stdout",
     "output_type": "stream",
     "text": [
      "Enter your password: Sank@lp10\n"
     ]
    }
   ],
   "source": [
    "password = input(\"Enter your password: \")"
   ]
  },
  {
   "cell_type": "code",
   "execution_count": 3,
   "id": "526f0ac5",
   "metadata": {},
   "outputs": [],
   "source": [
    "if len(password) < min_length:\n",
    "    print(\"Password is too short. It should have at least 8 characters.\")\n",
    "else:\n",
    "    \n",
    "    for char in password:\n",
    "        if char.islower():\n",
    "            has_lowercase = True\n",
    "        elif char.isupper():\n",
    "            has_uppercase = True\n",
    "        elif char.isdigit():\n",
    "            has_digit = True\n",
    "        elif char in special_characters:\n",
    "            has_special_char = True"
   ]
  },
  {
   "cell_type": "code",
   "execution_count": 6,
   "id": "f497660b",
   "metadata": {},
   "outputs": [
    {
     "name": "stdout",
     "output_type": "stream",
     "text": [
      "Password is valid.\n"
     ]
    }
   ],
   "source": [
    "if has_lowercase and has_uppercase and has_digit and has_special_char:\n",
    "        print(\"Password is valid.\")\n",
    "else:\n",
    "        print(\"Password is invalid. It should contain at least one lowercase letter, one uppercase letter, one digit, and one special character from !@#$%^&*()_+-=[]{}|;:,.<>?/\\\\\")"
   ]
  },
  {
   "cell_type": "markdown",
   "id": "b67690c1",
   "metadata": {},
   "source": [
    "32. Develop a program that performs matrix addition and subtraction based on user input."
   ]
  },
  {
   "cell_type": "code",
   "execution_count": 7,
   "id": "01dbf474",
   "metadata": {},
   "outputs": [
    {
     "name": "stdout",
     "output_type": "stream",
     "text": [
      "Enter the number of rows: 3\n",
      "Enter the number of columns: 3\n"
     ]
    }
   ],
   "source": [
    "rows = int(input(\"Enter the number of rows: \"))\n",
    "cols = int(input(\"Enter the number of columns: \"))"
   ]
  },
  {
   "cell_type": "code",
   "execution_count": 8,
   "id": "e2129f6c",
   "metadata": {},
   "outputs": [],
   "source": [
    "matrix1 = []\n",
    "matrix2 = []"
   ]
  },
  {
   "cell_type": "code",
   "execution_count": 9,
   "id": "5d5e3268",
   "metadata": {},
   "outputs": [
    {
     "name": "stdout",
     "output_type": "stream",
     "text": [
      "Enter elements of the first matrix:\n",
      "Enter element at row 1, column 1: 2\n",
      "Enter element at row 1, column 2: 7\n",
      "Enter element at row 1, column 3: 5\n",
      "Enter element at row 2, column 1: 10\n",
      "Enter element at row 2, column 2: 3\n",
      "Enter element at row 2, column 3: 9\n",
      "Enter element at row 3, column 1: 6\n",
      "Enter element at row 3, column 2: 4\n",
      "Enter element at row 3, column 3: 12\n"
     ]
    }
   ],
   "source": [
    "print(\"Enter elements of the first matrix:\")                                       #taking input in matrix1\n",
    "for i in range(rows):\n",
    "    row = []\n",
    "    for j in range(cols):\n",
    "        element = float(input(f\"Enter element at row {i + 1}, column {j + 1}: \"))\n",
    "        row.append(element)\n",
    "    matrix1.append(row)"
   ]
  },
  {
   "cell_type": "code",
   "execution_count": 10,
   "id": "8f79a09a",
   "metadata": {},
   "outputs": [
    {
     "name": "stdout",
     "output_type": "stream",
     "text": [
      "Enter elements of the second matrix:\n",
      "Enter element at row 1, column 1: 12\n",
      "Enter element at row 1, column 2: 16\n",
      "Enter element at row 1, column 3: 11\n",
      "Enter element at row 2, column 1: 41\n",
      "Enter element at row 2, column 2: 69\n",
      "Enter element at row 2, column 3: 77\n",
      "Enter element at row 3, column 1: 71\n",
      "Enter element at row 3, column 2: 91\n",
      "Enter element at row 3, column 3: 41\n"
     ]
    }
   ],
   "source": [
    "print(\"Enter elements of the second matrix:\")                                     #input in second matrix\n",
    "for i in range(rows):\n",
    "    row = []\n",
    "    for j in range(cols):\n",
    "        element = float(input(f\"Enter element at row {i + 1}, column {j + 1}: \"))\n",
    "        row.append(element)\n",
    "    matrix2.append(row)"
   ]
  },
  {
   "cell_type": "code",
   "execution_count": 11,
   "id": "fe058749",
   "metadata": {},
   "outputs": [],
   "source": [
    "addition_result = []\n",
    "subtraction_result = []\n",
    "\n",
    "# Perform matrix addition and subtraction\n",
    "for i in range(rows):\n",
    "    add_row = []\n",
    "    sub_row = []\n",
    "    for j in range(cols):\n",
    "        add_element = matrix1[i][j] + matrix2[i][j]\n",
    "        sub_element = matrix1[i][j] - matrix2[i][j]\n",
    "        add_row.append(add_element)\n",
    "        sub_row.append(sub_element)\n",
    "    addition_result.append(add_row)\n",
    "    subtraction_result.append(sub_row)"
   ]
  },
  {
   "cell_type": "code",
   "execution_count": 12,
   "id": "b0576ef4",
   "metadata": {},
   "outputs": [
    {
     "name": "stdout",
     "output_type": "stream",
     "text": [
      "\n",
      "Matrix 1:\n",
      "[2.0, 7.0, 5.0]\n",
      "[10.0, 3.0, 9.0]\n",
      "[6.0, 4.0, 12.0]\n",
      "\n",
      "Matrix 2:\n",
      "[12.0, 16.0, 11.0]\n",
      "[41.0, 69.0, 77.0]\n",
      "[71.0, 91.0, 41.0]\n",
      "\n",
      "Matrix Addition:\n",
      "[14.0, 23.0, 16.0]\n",
      "[51.0, 72.0, 86.0]\n",
      "[77.0, 95.0, 53.0]\n",
      "\n",
      "Matrix Subtraction:\n",
      "[-10.0, -9.0, -6.0]\n",
      "[-31.0, -66.0, -68.0]\n",
      "[-65.0, -87.0, -29.0]\n"
     ]
    }
   ],
   "source": [
    "print(\"\\nMatrix 1:\")\n",
    "for row in matrix1:\n",
    "    print(row)\n",
    "\n",
    "print(\"\\nMatrix 2:\")\n",
    "for row in matrix2:\n",
    "    print(row)\n",
    "\n",
    "print(\"\\nMatrix Addition:\")\n",
    "for row in addition_result:\n",
    "    print(row)\n",
    "\n",
    "print(\"\\nMatrix Subtraction:\")\n",
    "for row in subtraction_result:\n",
    "    print(row)"
   ]
  },
  {
   "cell_type": "markdown",
   "id": "c5cf7cf2",
   "metadata": {},
   "source": [
    "33. Write a program that calculates the greatest common divisor (GCD) of two numbers using the Euclidean\n",
    "algorithm."
   ]
  },
  {
   "cell_type": "code",
   "execution_count": 21,
   "id": "e2684054",
   "metadata": {},
   "outputs": [
    {
     "name": "stdout",
     "output_type": "stream",
     "text": [
      "Enter the first number: 50\n",
      "Enter the second number: 25\n"
     ]
    }
   ],
   "source": [
    "num1 = int(input(\"Enter the first number: \"))\n",
    "num2 = int(input(\"Enter the second number: \"))\n",
    "gcd=1"
   ]
  },
  {
   "cell_type": "code",
   "execution_count": 22,
   "id": "3e8637dc",
   "metadata": {},
   "outputs": [
    {
     "name": "stdout",
     "output_type": "stream",
     "text": [
      "GCD of 50 and 25 is 5\n"
     ]
    }
   ],
   "source": [
    "for i in range(1, min(num1, num2)):\n",
    "    if num1 % i == 0 and num2 % i == 0:\n",
    "        gcd = i\n",
    "print(\"GCD of\", num1, \"and\", num2, \"is\", gcd)"
   ]
  },
  {
   "cell_type": "markdown",
   "id": "497dedb3",
   "metadata": {},
   "source": [
    "34. Build a program that performs matrix multiplication using nested loops and conditional statements."
   ]
  },
  {
   "cell_type": "code",
   "execution_count": 23,
   "id": "756d822b",
   "metadata": {},
   "outputs": [
    {
     "name": "stdout",
     "output_type": "stream",
     "text": [
      "Enter the number of rows for matrix A: 3\n",
      "Enter the number of columns for matrix A: 4\n",
      "Enter the number of rows for matrix B: 4\n",
      "Enter the number of columns for matrix B: 3\n"
     ]
    }
   ],
   "source": [
    "rows1 = int(input(\"Enter the number of rows for matrix A: \"))\n",
    "cols1 = int(input(\"Enter the number of columns for matrix A: \"))\n",
    "rows2 = int(input(\"Enter the number of rows for matrix B: \"))\n",
    "cols2 = int(input(\"Enter the number of columns for matrix B: \"))"
   ]
  },
  {
   "cell_type": "code",
   "execution_count": 28,
   "id": "bf5b30fd",
   "metadata": {},
   "outputs": [
    {
     "name": "stdout",
     "output_type": "stream",
     "text": [
      "Enter elements for matrix A:\n",
      "Enter element at row 1, column 1: 3\n",
      "Enter element at row 1, column 2: 5\n",
      "Enter element at row 1, column 3: 1\n",
      "Enter element at row 1, column 4: 2\n",
      "Enter element at row 2, column 1: 4\n",
      "Enter element at row 2, column 2: 9\n",
      "Enter element at row 2, column 3: 12\n",
      "Enter element at row 2, column 4: 14\n",
      "Enter element at row 3, column 1: 20\n",
      "Enter element at row 3, column 2: 17\n",
      "Enter element at row 3, column 3: 5\n",
      "Enter element at row 3, column 4: 99\n",
      "Enter elements for matrix B:\n",
      "Enter element at row 1, column 1: 51\n",
      "Enter element at row 1, column 2: 9\n",
      "Enter element at row 1, column 3: 3\n",
      "Enter element at row 2, column 1: 44\n",
      "Enter element at row 2, column 2: 16\n",
      "Enter element at row 2, column 3: 19\n",
      "Enter element at row 3, column 1: 75\n",
      "Enter element at row 3, column 2: 91\n",
      "Enter element at row 3, column 3: 42\n",
      "Enter element at row 4, column 1: 64\n",
      "Enter element at row 4, column 2: 61\n",
      "Enter element at row 4, column 3: 52\n",
      "\n",
      "Result of matrix multiplication (C = A * B):\n",
      "576.0\t320.0\t250.0\t\n",
      "2396.0\t2126.0\t1415.0\t\n",
      "8479.0\t6946.0\t5741.0\t\n"
     ]
    }
   ],
   "source": [
    "if cols1 != rows2:\n",
    "    print(\"Matrix multiplication is not possible. The number of columns in matrix A must be equal to the number of rows in matrix B.\")\n",
    "else:\n",
    "    # Initialize matrices A and B\n",
    "    matrixA = []\n",
    "    matrixB = []\n",
    "\n",
    "    # Input elements for matrix A\n",
    "    print(\"Enter elements for matrix A:\")\n",
    "    for i in range(rows1):\n",
    "        row = []\n",
    "        for j in range(cols1):\n",
    "            element = float(input(f\"Enter element at row {i + 1}, column {j + 1}: \"))\n",
    "            row.append(element)\n",
    "        matrixA.append(row)\n",
    "\n",
    "    # Input elements for matrix B\n",
    "    print(\"Enter elements for matrix B:\")\n",
    "    for i in range(rows2):\n",
    "        row = []\n",
    "        for j in range(cols2):\n",
    "            element = float(input(f\"Enter element at row {i + 1}, column {j + 1}: \"))\n",
    "            row.append(element)\n",
    "        matrixB.append(row)\n",
    "\n",
    "    # Initialize the result matrix C with zeros\n",
    "    matrixC = [[0 for _ in range(cols2)] for _ in range(rows1)]\n",
    "\n",
    "    # Perform matrix multiplication\n",
    "    for i in range(rows1):\n",
    "        for j in range(cols2):\n",
    "            for k in range(cols1):\n",
    "                matrixC[i][j] += matrixA[i][k] * matrixB[k][j]\n",
    "\n",
    "    # Print the result matrix C\n",
    "    print(\"\\nResult of matrix multiplication (C = A * B):\")\n",
    "    for i in range(rows1):\n",
    "        for j in range(cols2):\n",
    "            print(matrixC[i][j], end=\"\\t\")\n",
    "        print()"
   ]
  },
  {
   "cell_type": "markdown",
   "id": "f5b27509",
   "metadata": {},
   "source": [
    "35. Create a program that simulates a basic text-based tic-tac-toe game against the computer."
   ]
  },
  {
   "cell_type": "code",
   "execution_count": 29,
   "id": "ae09191e",
   "metadata": {},
   "outputs": [],
   "source": [
    "import random\n",
    "\n",
    "# Initialize the tic-tac-toe board\n",
    "board = [[' ' for _ in range(3)] for _ in range(3)]\n",
    "\n",
    "# Function to print the tic-tac-toe board\n",
    "def print_board(board):\n",
    "    for row in board:\n",
    "        print(\" | \".join(row))\n",
    "        print(\"-\" * 9)"
   ]
  },
  {
   "cell_type": "code",
   "execution_count": 30,
   "id": "3a513bf8",
   "metadata": {},
   "outputs": [
    {
     "name": "stdout",
     "output_type": "stream",
     "text": [
      "Welcome to Tic-Tac-Toe!\n",
      "  |   |  \n",
      "---------\n",
      "  |   |  \n",
      "---------\n",
      "  |   |  \n",
      "---------\n",
      "Enter row and column (e.g., 1 2): 2 2\n",
      "  |   |  \n",
      "---------\n",
      "  | X |  \n",
      "---------\n",
      "  |   |  \n",
      "---------\n",
      "  |   |  \n",
      "---------\n",
      "  | X |  \n",
      "---------\n",
      "  | O |  \n",
      "---------\n",
      "Enter row and column (e.g., 1 2): 1 1\n",
      "X |   |  \n",
      "---------\n",
      "  | X |  \n",
      "---------\n",
      "  | O |  \n",
      "---------\n",
      "X | O |  \n",
      "---------\n",
      "  | X |  \n",
      "---------\n",
      "  | O |  \n",
      "---------\n",
      "Enter row and column (e.g., 1 2): 3 3\n",
      "X | O |  \n",
      "---------\n",
      "  | X |  \n",
      "---------\n",
      "  | O | X\n",
      "---------\n",
      "Player X wins! Congratulations!\n"
     ]
    }
   ],
   "source": [
    "current_player = 'X'\n",
    "computer_player = 'O'\n",
    "\n",
    "print(\"Welcome to Tic-Tac-Toe!\")\n",
    "while True:\n",
    "    print_board(board)\n",
    "    \n",
    "    if current_player == 'X':\n",
    "        # Player's turn\n",
    "        row, col = map(int, input(\"Enter row and column (e.g., 1 2): \").split())\n",
    "        row -= 1\n",
    "        col -= 1\n",
    "    else:\n",
    "        # Computer's turn\n",
    "        row, col = random.randint(0, 2), random.randint(0, 2)\n",
    "\n",
    "    if board[row][col] == ' ':\n",
    "        board[row][col] = current_player\n",
    "    else:\n",
    "        print(\"Invalid move. Try again.\")\n",
    "        continue\n",
    "\n",
    "    # Check for a win\n",
    "    win = False\n",
    "    for i in range(3):\n",
    "        if all(board[i][j] == current_player for j in range(3)) or all(board[j][i] == current_player for j in range(3)):\n",
    "            win = True\n",
    "            break\n",
    "    if all(board[i][i] == current_player for i in range(3)) or all(board[i][2 - i] == current_player for i in range(3)):\n",
    "        win = True\n",
    "\n",
    "    if win:\n",
    "        print_board(board)\n",
    "        print(f\"Player {current_player} wins! Congratulations!\")\n",
    "        break\n",
    "\n",
    "    # Check for a draw\n",
    "    draw = all(board[i][j] != ' ' for i in range(3) for j in range(3))\n",
    "\n",
    "    if draw:\n",
    "        print_board(board)\n",
    "        print(\"It's a draw! The game is tied.\")\n",
    "        break\n",
    "\n",
    "    current_player = 'O' if current_player == 'X' else 'X'"
   ]
  },
  {
   "cell_type": "markdown",
   "id": "ee544e0c",
   "metadata": {},
   "source": [
    "36. Write a program that generates Fibonacci numbers up to a specified term using iterative methods."
   ]
  },
  {
   "cell_type": "code",
   "execution_count": 31,
   "id": "7fa026b7",
   "metadata": {},
   "outputs": [
    {
     "name": "stdout",
     "output_type": "stream",
     "text": [
      "Enter the number of Fibonacci terms to generate: 10\n"
     ]
    }
   ],
   "source": [
    "n = int(input(\"Enter the number of Fibonacci terms to generate: \"))"
   ]
  },
  {
   "cell_type": "code",
   "execution_count": 32,
   "id": "ae48f61a",
   "metadata": {},
   "outputs": [],
   "source": [
    "fibonacci_sequence = [0, 1]"
   ]
  },
  {
   "cell_type": "code",
   "execution_count": 33,
   "id": "db10787f",
   "metadata": {},
   "outputs": [],
   "source": [
    "while len(fibonacci_sequence) < n:\n",
    "    next_term = fibonacci_sequence[-1] + fibonacci_sequence[-2]\n",
    "    fibonacci_sequence.append(next_term)"
   ]
  },
  {
   "cell_type": "code",
   "execution_count": 34,
   "id": "3953d120",
   "metadata": {},
   "outputs": [
    {
     "name": "stdout",
     "output_type": "stream",
     "text": [
      "Fibonacci Sequence:\n",
      "0, 1, 1, 2, 3, 5, 8, 13, 21, 34, "
     ]
    }
   ],
   "source": [
    "print(\"Fibonacci Sequence:\")\n",
    "for term in fibonacci_sequence:\n",
    "    print(term, end=\", \")"
   ]
  },
  {
   "cell_type": "markdown",
   "id": "f91a089e",
   "metadata": {},
   "source": [
    "38. Create a program that generates a calendar for a given month and year using conditional statements."
   ]
  },
  {
   "cell_type": "code",
   "execution_count": 35,
   "id": "54425ce6",
   "metadata": {},
   "outputs": [
    {
     "name": "stdout",
     "output_type": "stream",
     "text": [
      "Enter the year: 2023\n",
      "Enter the month (1-12): 9\n"
     ]
    }
   ],
   "source": [
    "import calendar\n",
    "\n",
    "# Input month and year from the user\n",
    "year = int(input(\"Enter the year: \"))\n",
    "month = int(input(\"Enter the month (1-12): \"))"
   ]
  },
  {
   "cell_type": "code",
   "execution_count": 36,
   "id": "90bfb4d5",
   "metadata": {},
   "outputs": [
    {
     "name": "stdout",
     "output_type": "stream",
     "text": [
      "\n",
      "Calendar:\n",
      "   September 2023\n",
      "Mo Tu We Th Fr Sa Su\n",
      "             1  2  3\n",
      " 4  5  6  7  8  9 10\n",
      "11 12 13 14 15 16 17\n",
      "18 19 20 21 22 23 24\n",
      "25 26 27 28 29 30\n",
      "\n"
     ]
    }
   ],
   "source": [
    "if month < 1 or month > 12:\n",
    "    print(\"Invalid month. Please enter a month between 1 and 12.\")\n",
    "else:\n",
    "    # Generate and print the calendar\n",
    "    cal = calendar.month(year, month)                              #using function from the package calendar\n",
    "    print(\"\\nCalendar:\")\n",
    "    print(cal)"
   ]
  },
  {
   "cell_type": "markdown",
   "id": "e7bda6dc",
   "metadata": {},
   "source": [
    "39. Build a program that simulates a basic text-based blackjack game against the computer."
   ]
  },
  {
   "cell_type": "code",
   "execution_count": 37,
   "id": "059dcf6c",
   "metadata": {},
   "outputs": [],
   "source": [
    "import random\n",
    "\n",
    "# Initialize the deck of cards\n",
    "suits = ['Hearts', 'Diamonds', 'Clubs', 'Spades']\n",
    "ranks = ['2', '3', '4', '5', '6', '7', '8', '9', '10', 'J', 'Q', 'K', 'A']\n",
    "deck = [(rank, suit) for rank in ranks for suit in suits]                    #used list comprehension to generate all possible comvinations of rank and suite"
   ]
  },
  {
   "cell_type": "code",
   "execution_count": 38,
   "id": "5f3dc7d6",
   "metadata": {},
   "outputs": [],
   "source": [
    "# Function to calculate the total value of a hand\n",
    "def calculate_hand_value(hand):\n",
    "    total_value = 0\n",
    "    num_aces = 0\n",
    "\n",
    "    for card in hand:\n",
    "        rank = card[0]\n",
    "        if rank in ['K', 'Q', 'J']:\n",
    "            total_value += 10\n",
    "        elif rank == 'A':\n",
    "            total_value += 11\n",
    "            num_aces += 1\n",
    "        else:\n",
    "            total_value += int(rank)\n",
    "\n",
    "    # Adjust for aces\n",
    "    while num_aces > 0 and total_value > 21:\n",
    "        total_value -= 10\n",
    "        num_aces -= 1\n",
    "\n",
    "    return total_value"
   ]
  },
  {
   "cell_type": "code",
   "execution_count": 39,
   "id": "b129bbc5",
   "metadata": {},
   "outputs": [],
   "source": [
    "def display_hands(player_hand, computer_hand, hide_first_card):\n",
    "    print(\"Player's Hand:\", player_hand)\n",
    "    \n",
    "    if hide_first_card:\n",
    "        print(\"Computer's Hand: [?]\", end=\" \")\n",
    "    else:\n",
    "        print(\"Computer's Hand:\", computer_hand)"
   ]
  },
  {
   "cell_type": "code",
   "execution_count": 41,
   "id": "f6ef716d",
   "metadata": {},
   "outputs": [
    {
     "name": "stdout",
     "output_type": "stream",
     "text": [
      "Player's Hand: [('K', 'Spades'), ('4', 'Clubs')]\n",
      "Computer's Hand: [?] \n",
      "Do you want to 'hit' or 'stand'? stand\n",
      "Player's Hand: [('K', 'Spades'), ('4', 'Clubs')]\n",
      "Computer's Hand: [('10', 'Diamonds'), ('3', 'Clubs'), ('4', 'Hearts')]\n",
      "\n",
      "Computer wins!\n"
     ]
    }
   ],
   "source": [
    "# Deal two initial cards to the player and the computer\n",
    "player_hand = [deck.pop(random.randint(0, len(deck) - 1)), deck.pop(random.randint(0, len(deck) - 1))]\n",
    "computer_hand = [deck.pop(random.randint(0, len(deck) - 1)), deck.pop(random.randint(0, len(deck) - 1))]\n",
    "\n",
    "# Display initial hands with one of the computer's cards hidden\n",
    "display_hands(player_hand, computer_hand, True)\n",
    "\n",
    "# Player's turn\n",
    "while calculate_hand_value(player_hand) < 21:\n",
    "    action = input(\"\\nDo you want to 'hit' or 'stand'? \").strip().lower()\n",
    "    \n",
    "    if action == 'hit':\n",
    "        player_hand.append(deck.pop(random.randint(0, len(deck) - 1)))\n",
    "        display_hands(player_hand, computer_hand, True)\n",
    "    elif action == 'stand':\n",
    "        break\n",
    "    else:\n",
    "        print(\"Invalid input. Please enter 'hit' or 'stand'.\")\n",
    "\n",
    "# Computer's turn\n",
    "while calculate_hand_value(computer_hand) < 17:\n",
    "    computer_hand.append(deck.pop(random.randint(0, len(deck) - 1)))\n",
    "\n",
    "# Display final hands\n",
    "display_hands(player_hand, computer_hand, False)\n",
    "\n",
    "# Determine the winner\n",
    "player_value = calculate_hand_value(player_hand)\n",
    "computer_value = calculate_hand_value(computer_hand)\n",
    "\n",
    "if player_value > 21:\n",
    "    print(\"\\nPlayer busts. Computer wins!\")\n",
    "elif computer_value > 21:\n",
    "    print(\"\\nComputer busts. Player wins!\")\n",
    "elif player_value > computer_value:\n",
    "    print(\"\\nPlayer wins!\")\n",
    "elif computer_value > player_value:\n",
    "    print(\"\\nComputer wins!\")\n",
    "else:\n",
    "    print(\"\\nIt's a tie!\")"
   ]
  },
  {
   "cell_type": "markdown",
   "id": "b5f790d0",
   "metadata": {},
   "source": [
    "40. Write a program that generates the prime factors of a given number using trial division."
   ]
  },
  {
   "cell_type": "code",
   "execution_count": 43,
   "id": "69937958",
   "metadata": {},
   "outputs": [
    {
     "name": "stdout",
     "output_type": "stream",
     "text": [
      "Enter a positive integer: 64\n",
      "Prime factors of 64 are: 2 2 2 2 2 2 \n"
     ]
    }
   ],
   "source": [
    "num = int(input(\"Enter a positive integer: \"))\n",
    "\n",
    "print(f\"Prime factors of {num} are:\", end=\" \")\n",
    "\n",
    "divisor = 2\n",
    "\n",
    "while num > 1:\n",
    "    while num % divisor == 0:\n",
    "        print(divisor, end=\" \")\n",
    "        num //= divisor\n",
    "    divisor += 1\n",
    "\n",
    "print()"
   ]
  },
  {
   "cell_type": "code",
   "execution_count": null,
   "id": "7ee822e8",
   "metadata": {},
   "outputs": [],
   "source": []
  }
 ],
 "metadata": {
  "kernelspec": {
   "display_name": "Python 3 (ipykernel)",
   "language": "python",
   "name": "python3"
  },
  "language_info": {
   "codemirror_mode": {
    "name": "ipython",
    "version": 3
   },
   "file_extension": ".py",
   "mimetype": "text/x-python",
   "name": "python",
   "nbconvert_exporter": "python",
   "pygments_lexer": "ipython3",
   "version": "3.9.13"
  }
 },
 "nbformat": 4,
 "nbformat_minor": 5
}
