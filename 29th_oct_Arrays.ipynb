{
 "cells": [
  {
   "cell_type": "markdown",
   "id": "e7859065-b3d0-49bd-9f21-a12efdaa5c06",
   "metadata": {},
   "source": [
    "<div style=\"text-align: center; font-size: 35px;\">\n",
    "    Array Assignment\n",
    "</div>"
   ]
  },
  {
   "cell_type": "markdown",
   "id": "95aa5f02-e2af-4f38-a88b-03883058c512",
   "metadata": {},
   "source": [
    "1. Given an array, check if it contains any duplicates or not.\n",
    "<br>\r\n",
    "arr = [1, 2, 4, 2, 5, 9]\r\n",
    "Output = True"
   ]
  },
  {
   "cell_type": "code",
   "execution_count": 2,
   "id": "135ab880-184a-4f0c-89bb-90904ea28f8b",
   "metadata": {},
   "outputs": [],
   "source": [
    "arr = [1, 2, 4, 2, 5, 9]"
   ]
  },
  {
   "cell_type": "code",
   "execution_count": 3,
   "id": "6bd80f10-92c6-4b84-b9aa-87821549ef7b",
   "metadata": {},
   "outputs": [],
   "source": [
    "def has_duplicates(arr):\n",
    "    arr.sort()\n",
    "    for i in range(1, len(arr)):                 #First i sort the array and if any two adjacent elements are equal, then there are duplicates.\n",
    "        if arr[i] == arr[i - 1]:\n",
    "            return True\n",
    "    return False"
   ]
  },
  {
   "cell_type": "code",
   "execution_count": 4,
   "id": "82f423e6-6691-45a2-bf24-3cb4f5023854",
   "metadata": {},
   "outputs": [
    {
     "name": "stdout",
     "output_type": "stream",
     "text": [
      "True\n"
     ]
    }
   ],
   "source": [
    "output = has_duplicates(arr)\n",
    "print(output)"
   ]
  },
  {
   "cell_type": "markdown",
   "id": "46587ec4-5d49-4786-87ed-a0862fa69301",
   "metadata": {},
   "source": [
    "2. Given an array and an integer k, rotate the array to the right by k steps.\r\n",
    "arr = [1, 2, 3, 4, 5, 6, 7] k = 3\r\n",
    "Output = [5, 6, 7, 1, 2, 3,]4]"
   ]
  },
  {
   "cell_type": "code",
   "execution_count": 1,
   "id": "d3205af1-87e0-48ce-af70-7ea3ef9c2bde",
   "metadata": {},
   "outputs": [],
   "source": [
    "arr = [1, 2, 3, 4, 5, 6, 7]"
   ]
  },
  {
   "cell_type": "code",
   "execution_count": 2,
   "id": "6397282c-81a9-45ea-840b-dae6c9c2b56f",
   "metadata": {},
   "outputs": [
    {
     "name": "stdin",
     "output_type": "stream",
     "text": [
      "Enter the value of k 3\n"
     ]
    }
   ],
   "source": [
    "k=int(input(\"Enter the value of k\"))"
   ]
  },
  {
   "cell_type": "code",
   "execution_count": 3,
   "id": "759ef566-ddf7-413b-8eeb-01c10b384f51",
   "metadata": {},
   "outputs": [],
   "source": [
    "def rotate_array(arr, k):\n",
    "                                                        \n",
    "    k = k % len(arr)\n",
    "\n",
    "                                                        # Rotate the array using slicing and concatenation\n",
    "    rotated_arr = arr[-k:] + arr[:-k]\n",
    "\n",
    "    return rotated_arr"
   ]
  },
  {
   "cell_type": "code",
   "execution_count": 4,
   "id": "36717d27-86a9-4a3b-be27-3fa33cc2d6e9",
   "metadata": {},
   "outputs": [
    {
     "name": "stdout",
     "output_type": "stream",
     "text": [
      "[5, 6, 7, 1, 2, 3, 4]\n"
     ]
    }
   ],
   "source": [
    "result = rotate_array(arr, k)\n",
    "print(result)"
   ]
  },
  {
   "cell_type": "markdown",
   "id": "d03c43ea-2fa6-4bfc-8f72-04be2d42824f",
   "metadata": {},
   "source": [
    "3. Reverse the given array in-place, means without using any extra data structure.\n",
    "arr = [2, 4, 5, 7, 9, 12]\n",
    "Output = [12, 9, 7, 5, 4, 2]"
   ]
  },
  {
   "cell_type": "code",
   "execution_count": 5,
   "id": "600bb40d-097a-4558-bbdb-4ad25796deb4",
   "metadata": {},
   "outputs": [],
   "source": [
    "arr = [2, 4, 5, 7, 9, 12]"
   ]
  },
  {
   "cell_type": "code",
   "execution_count": 6,
   "id": "125b0bed-1d4b-4bc7-8606-20cecdeaf593",
   "metadata": {},
   "outputs": [],
   "source": [
    "def reverse_array_in_place(arr):\n",
    "    start_index = 0\n",
    "    end_index = len(arr) - 1\n",
    "\n",
    "    while start_index < end_index:\n",
    "        # Swap elements at start_index and end_index\n",
    "        arr[start_index], arr[end_index] = arr[end_index], arr[start_index]\n",
    "\n",
    "        # Move indices towards the center\n",
    "        start_index += 1\n",
    "        end_index -= 1"
   ]
  },
  {
   "cell_type": "code",
   "execution_count": 7,
   "id": "2f2b4901-ca10-4226-be2b-0f02d4d1d85d",
   "metadata": {},
   "outputs": [
    {
     "name": "stdout",
     "output_type": "stream",
     "text": [
      "[12, 9, 7, 5, 4, 2]\n"
     ]
    }
   ],
   "source": [
    "reverse_array_in_place(arr)\n",
    "print(arr)"
   ]
  },
  {
   "cell_type": "markdown",
   "id": "df1e357b-77e6-4e99-8aa9-8c6f6bf7b63e",
   "metadata": {},
   "source": [
    "4. Given an array of integers, find the maximum element in an array\r\n",
    "arr = [10, 5, 20, 8, 15]\r\n",
    "Output = 20"
   ]
  },
  {
   "cell_type": "code",
   "execution_count": 8,
   "id": "dcd43b03-876d-48f8-b8bd-b617688653aa",
   "metadata": {},
   "outputs": [],
   "source": [
    "arr = [10, 5, 20, 8, 15]"
   ]
  },
  {
   "cell_type": "code",
   "execution_count": 11,
   "id": "81681f40-81ac-44d8-86b9-734aa30fd83b",
   "metadata": {},
   "outputs": [],
   "source": [
    "def find_max_element(arr):\n",
    "    max_element = arr[0]  \n",
    "\n",
    "                                                  # Iterate through the array to find the maximum element\n",
    "    for num in arr:\n",
    "        if num > max_element:\n",
    "            max_element = num\n",
    "\n",
    "    return max_element"
   ]
  },
  {
   "cell_type": "code",
   "execution_count": 12,
   "id": "223cd444-639a-4f3f-92b5-101db547046d",
   "metadata": {},
   "outputs": [
    {
     "name": "stdout",
     "output_type": "stream",
     "text": [
      "20\n"
     ]
    }
   ],
   "source": [
    "result = find_max_element(arr)\n",
    "print(result)"
   ]
  },
  {
   "cell_type": "markdown",
   "id": "23f250dc-d71b-4127-8138-6296ce07c420",
   "metadata": {},
   "source": [
    "5. Given a sorted array, remove the duplicate element without using any extra data structure.\r\n",
    "arr = [1, 1, 2, 2, 2, 3, 3, 4, 4, 4, 5, 5]\r\n",
    "Output = [1, 2, 3, 4, 5]"
   ]
  },
  {
   "cell_type": "code",
   "execution_count": 19,
   "id": "5165f2c5-ffbf-46df-83ce-841c7207a525",
   "metadata": {},
   "outputs": [],
   "source": [
    "arr = [1, 1, 2, 2, 2, 3, 3, 4, 4, 4, 5, 5]"
   ]
  },
  {
   "cell_type": "code",
   "execution_count": 20,
   "id": "1a6ca203-2e1f-4e57-803e-0dc0222c8574",
   "metadata": {},
   "outputs": [],
   "source": [
    "def remove_duplicates(arr):\n",
    "\n",
    "                                                             # Initialize index for the next unique element\n",
    "    unique_index = 1\n",
    "\n",
    "                                                            # Iterate through the array to find and remove duplicates\n",
    "    for i in range(1, len(arr)):\n",
    "        if arr[i] != arr[i - 1]:\n",
    "                                                            # Update the array in-place by removing duplicates\n",
    "            arr[unique_index] = arr[i]\n",
    "            unique_index += 1\n",
    "\n",
    "    return arr[:unique_index]"
   ]
  },
  {
   "cell_type": "code",
   "execution_count": 21,
   "id": "76ed6251-7a1a-42a4-96e0-12212a4fd230",
   "metadata": {},
   "outputs": [
    {
     "name": "stdout",
     "output_type": "stream",
     "text": [
      "[1, 2, 3, 4, 5]\n"
     ]
    }
   ],
   "source": [
    "result = remove_duplicates(arr)\n",
    "print(result)"
   ]
  },
  {
   "cell_type": "code",
   "execution_count": null,
   "id": "0945d223-4b0f-4ecf-9803-33f8c16ed1fa",
   "metadata": {},
   "outputs": [],
   "source": []
  }
 ],
 "metadata": {
  "kernelspec": {
   "display_name": "Python 3 (ipykernel)",
   "language": "python",
   "name": "python3"
  },
  "language_info": {
   "codemirror_mode": {
    "name": "ipython",
    "version": 3
   },
   "file_extension": ".py",
   "mimetype": "text/x-python",
   "name": "python",
   "nbconvert_exporter": "python",
   "pygments_lexer": "ipython3",
   "version": "3.11.5"
  }
 },
 "nbformat": 4,
 "nbformat_minor": 5
}
