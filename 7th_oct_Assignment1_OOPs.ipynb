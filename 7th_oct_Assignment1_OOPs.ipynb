{
 "cells": [
  {
   "cell_type": "markdown",
   "id": "f649cdbb-177b-409e-9588-c9fcff7a0307",
   "metadata": {},
   "source": [
    "<div style=\"text-align: center; font-size: 35px;\">\n",
    "    OOPs Assignment\n",
    "</div>"
   ]
  },
  {
   "cell_type": "markdown",
   "id": "1610bdca-aa37-4157-b101-5feaa424136a",
   "metadata": {},
   "source": [
    "Problem 1: Bank Account Create a class representing a bank account with attributes like account number, account holder name, and balance. Implement methods to deposit and withdraw money from the account."
   ]
  },
  {
   "cell_type": "code",
   "execution_count": 2,
   "id": "4d442fec-5ae3-4a6f-98ae-1869305eda22",
   "metadata": {},
   "outputs": [],
   "source": [
    "class BankAccount:\n",
    "    def __init__(self, account_number, account_holder_name, balance=0):\n",
    "        self.account_number = account_number\n",
    "        self.account_holder_name = account_holder_name\n",
    "        self.balance = balance\n",
    "\n",
    "    def deposit(self, amount_in_inr):\n",
    "        if amount_in_inr > 0:\n",
    "            self.balance += amount_in_inr\n",
    "            return f\"Deposited ₹{amount_in_inr}. New balance: ₹{self.balance}\"\n",
    "        else:\n",
    "            return \"Invalid deposit amount.\"\n",
    "\n",
    "    def withdraw(self, amount_in_inr):\n",
    "        if amount_in_inr > 0 and amount_in_inr <= self.balance:\n",
    "            self.balance -= amount_in_inr\n",
    "            return f\"Withdrew ₹{amount_in_inr}. New balance: ₹{self.balance}\"\n",
    "        elif amount_in_inr > self.balance:\n",
    "            return \"Insufficient funds.\"\n",
    "        else:\n",
    "            return \"Invalid withdrawal amount.\"\n",
    "\n",
    "    def get_balance(self):\n",
    "        return f\"Account balance for {self.account_holder_name}: ₹{self.balance}\""
   ]
  },
  {
   "cell_type": "code",
   "execution_count": 4,
   "id": "d5a78e8c-8e48-4046-b762-f9257f7895d3",
   "metadata": {},
   "outputs": [
    {
     "name": "stdout",
     "output_type": "stream",
     "text": [
      "Deposited ₹1000. New balance: ₹1000\n",
      "Withdrew ₹500. New balance: ₹500\n",
      "Account balance for Sankalp Patil: ₹500\n"
     ]
    }
   ],
   "source": [
    "account = BankAccount(\"123456\", \"Sankalp Patil\")\n",
    "print(account.deposit(1000))  # Deposit ₹1000\n",
    "print(account.withdraw(500))  # Withdraw ₹500\n",
    "print(account.get_balance())  # Get the balance"
   ]
  },
  {
   "cell_type": "markdown",
   "id": "7cb611dc-bdd1-4f55-8e8a-40a30ba7377e",
   "metadata": {},
   "source": [
    "Problem 2: Employee Management Create a class representing an employee with attributes like employee ID, name, and salary. Implement methods to calculate the yearly bonus and display employee details."
   ]
  },
  {
   "cell_type": "code",
   "execution_count": 1,
   "id": "2975f498-32ef-45d5-93ec-f31bb984c119",
   "metadata": {},
   "outputs": [],
   "source": [
    "class Employee:\n",
    "    def __init__(self, employee_id, name, salary_in_inr):\n",
    "        self.employee_id = employee_id\n",
    "        self.name = name\n",
    "        self.salary_in_inr = salary_in_inr\n",
    "\n",
    "    def calculate_yearly_bonus(self, bonus_percentage):\n",
    "        bonus_inr = (bonus_percentage / 100) * self.salary_in_inr\n",
    "        return bonus_inr\n",
    "\n",
    "    def display_employee_details(self):\n",
    "        return f\"Employee ID: {self.employee_id}\\nName: {self.name}\\nSalary: ₹{self.salary_in_inr}\""
   ]
  },
  {
   "cell_type": "code",
   "execution_count": 4,
   "id": "a6f7f3d4-d850-4cda-9106-bc53dde1a62c",
   "metadata": {},
   "outputs": [
    {
     "name": "stdout",
     "output_type": "stream",
     "text": [
      "Employee ID: 1\n",
      "Name: Sankalp Patil\n",
      "Salary: ₹500000\n",
      "Yearly Bonus: ₹50000.00\n"
     ]
    }
   ],
   "source": [
    "\n",
    "employee = Employee(1, \"Sankalp Patil\", 500000)  \n",
    "print(employee.display_employee_details())  \n",
    "bonus_percentage = 10                                               # 10% bonus\n",
    "yearly_bonus = employee.calculate_yearly_bonus(bonus_percentage)\n",
    "print(f\"Yearly Bonus: ₹{yearly_bonus:.2f}\")"
   ]
  },
  {
   "cell_type": "markdown",
   "id": "9074f3d7-61ed-4e33-86c4-932e4be04ac6",
   "metadata": {},
   "source": [
    "Problem 3: Vehicle Rental Create a class representing a vehicle rental system. Implement methods to rent a vehicle, return a vehicle, and display available vehicles."
   ]
  },
  {
   "cell_type": "code",
   "execution_count": 5,
   "id": "2f2d2f59-7fda-4f71-8e78-b4e58b11d7db",
   "metadata": {},
   "outputs": [],
   "source": [
    "class VehicleRentalSystem:\n",
    "    def __init__(self):\n",
    "        self.available_vehicles = {}  # A dictionary to store available vehicles\n",
    "\n",
    "    def add_vehicle(self, vehicle_id, vehicle_name):\n",
    "        self.available_vehicles[vehicle_id] = vehicle_name\n",
    "        return f\"Added {vehicle_name} (ID: {vehicle_id}) to the available vehicles.\"\n",
    "\n",
    "    def rent_vehicle(self, vehicle_id):\n",
    "        if vehicle_id in self.available_vehicles:\n",
    "            vehicle_name = self.available_vehicles.pop(vehicle_id)\n",
    "            return f\"Rented {vehicle_name} (ID: {vehicle_id}).\"\n",
    "        else:\n",
    "            return \"Vehicle not available for rent.\"\n",
    "\n",
    "    def return_vehicle(self, vehicle_id, vehicle_name):\n",
    "        if vehicle_id not in self.available_vehicles:\n",
    "            self.available_vehicles[vehicle_id] = vehicle_name\n",
    "            return f\"Returned {vehicle_name} (ID: {vehicle_id}).\"\n",
    "        else:\n",
    "            return \"Invalid return. Vehicle already available.\"\n",
    "\n",
    "    def display_available_vehicles(self):\n",
    "        if self.available_vehicles:\n",
    "            return \"Available Vehicles:\\n\" + \"\\n\".join(f\"ID: {k}, Name: {v}\" for k, v in self.available_vehicles.items())\n",
    "        else:\n",
    "            return \"No vehicles available for rent.\""
   ]
  },
  {
   "cell_type": "code",
   "execution_count": 6,
   "id": "34462522-c2cc-4578-9af7-1647d51a72dc",
   "metadata": {},
   "outputs": [
    {
     "name": "stdout",
     "output_type": "stream",
     "text": [
      "Added Car (ID: 1) to the available vehicles.\n",
      "Added Bike (ID: 2) to the available vehicles.\n",
      "Added Scooter (ID: 3) to the available vehicles.\n",
      "Available Vehicles:\n",
      "ID: 1, Name: Car\n",
      "ID: 2, Name: Bike\n",
      "ID: 3, Name: Scooter\n",
      "Rented Bike (ID: 2).\n",
      "Available Vehicles:\n",
      "ID: 1, Name: Car\n",
      "ID: 3, Name: Scooter\n",
      "Returned Bike (ID: 2).\n",
      "Available Vehicles:\n",
      "ID: 1, Name: Car\n",
      "ID: 3, Name: Scooter\n",
      "ID: 2, Name: Bike\n"
     ]
    }
   ],
   "source": [
    "rental_system = VehicleRentalSystem()\n",
    "\n",
    "print(rental_system.add_vehicle(1, \"Car\"))\n",
    "print(rental_system.add_vehicle(2, \"Bike\"))\n",
    "print(rental_system.add_vehicle(3, \"Scooter\"))\n",
    "\n",
    "print(rental_system.display_available_vehicles())\n",
    "\n",
    "print(rental_system.rent_vehicle(2))\n",
    "\n",
    "print(rental_system.display_available_vehicles())\n",
    "\n",
    "print(rental_system.return_vehicle(2, \"Bike\"))\n",
    "\n",
    "print(rental_system.display_available_vehicles())"
   ]
  },
  {
   "cell_type": "markdown",
   "id": "59b25fd5-d564-4718-a62a-22543f610950",
   "metadata": {},
   "source": [
    "Problem 4: Library Catalog Create classes representing a library and a book. Implement methods to add books to the library, borrow books, and display available books."
   ]
  },
  {
   "cell_type": "code",
   "execution_count": 9,
   "id": "44de45e9-f9f0-46e4-8774-e500f4626f5d",
   "metadata": {},
   "outputs": [],
   "source": [
    "class Book:\n",
    "    def __init__(self, book_id, title, author):\n",
    "        self.book_id = book_id\n",
    "        self.title = title\n",
    "        self.author = author\n",
    "        self.is_available = True\n",
    "\n",
    "    def __str__(self):\n",
    "        return f\"Book ID: {self.book_id}\\nTitle: {self.title}\\nAuthor: {self.author}\\nStatus: {'Available' if self.is_available else 'Not Available'}\"\n",
    "\n",
    "class Library:\n",
    "    def __init__(self):\n",
    "        self.catalog = {}\n",
    "\n",
    "    def add_book(self, book_id, title, author):\n",
    "        book = Book(book_id, title, author)\n",
    "        self.catalog[book_id] = book\n",
    "        return f\"Added book: {title} by {author} (ID: {book_id}) to the library catalog.\"\n",
    "\n",
    "    def borrow_book(self, book_id):\n",
    "        if book_id in self.catalog:\n",
    "            book = self.catalog[book_id]\n",
    "            if book.is_available:\n",
    "                book.is_available = False\n",
    "                return f\"Borrowed book: {book.title} by {book.author} (ID: {book_id}).\"\n",
    "            else:\n",
    "                return f\"Book {book.title} by {book.author} (ID: {book_id}) is already checked out.\"\n",
    "        else:\n",
    "            return \"Book not found in the library catalog.\"\n",
    "\n",
    "    def display_available_books(self):\n",
    "        available_books = [book for book in self.catalog.values() if book.is_available]\n",
    "        if available_books:\n",
    "            return \"Available Books:\\n\" + \"\\n\".join(str(book) for book in available_books)\n",
    "        else:\n",
    "            return \"No books are currently available.\""
   ]
  },
  {
   "cell_type": "code",
   "execution_count": 11,
   "id": "44e15ea7-e8bb-4d34-992c-ad18735c2ff8",
   "metadata": {},
   "outputs": [
    {
     "name": "stdout",
     "output_type": "stream",
     "text": [
      "Added book: The Great Gatsby by F. Scott Fitzgerald (ID: 1) to the library catalog.\n",
      "Added book: To Kill a Mockingbird by Harper Lee (ID: 2) to the library catalog.\n",
      "Added book: 1984 by George Orwell (ID: 3) to the library catalog.\n",
      "Available Books:\n",
      "Book ID: 1\n",
      "Title: The Great Gatsby\n",
      "Author: F. Scott Fitzgerald\n",
      "Status: Available\n",
      "Book ID: 2\n",
      "Title: To Kill a Mockingbird\n",
      "Author: Harper Lee\n",
      "Status: Available\n",
      "Book ID: 3\n",
      "Title: 1984\n",
      "Author: George Orwell\n",
      "Status: Available\n",
      "Borrowed book: To Kill a Mockingbird by Harper Lee (ID: 2).\n",
      "Available Books:\n",
      "Book ID: 1\n",
      "Title: The Great Gatsby\n",
      "Author: F. Scott Fitzgerald\n",
      "Status: Available\n",
      "Book ID: 3\n",
      "Title: 1984\n",
      "Author: George Orwell\n",
      "Status: Available\n",
      "Book To Kill a Mockingbird by Harper Lee (ID: 2) is already checked out.\n",
      "Available Books:\n",
      "Book ID: 1\n",
      "Title: The Great Gatsby\n",
      "Author: F. Scott Fitzgerald\n",
      "Status: Available\n",
      "Book ID: 3\n",
      "Title: 1984\n",
      "Author: George Orwell\n",
      "Status: Available\n"
     ]
    }
   ],
   "source": [
    "library = Library()\n",
    "print(library.add_book(1, \"The Great Gatsby\", \"F. Scott Fitzgerald\"))\n",
    "print(library.add_book(2, \"To Kill a Mockingbird\", \"Harper Lee\"))\n",
    "print(library.add_book(3, \"1984\", \"George Orwell\"))\n",
    "\n",
    "print(library.display_available_books())\n",
    "\n",
    "print(library.borrow_book(2))\n",
    "\n",
    "print(library.display_available_books())\n",
    "\n",
    "print(library.borrow_book(2))\n",
    "\n",
    "print(library.display_available_books())"
   ]
  },
  {
   "cell_type": "markdown",
   "id": "f663227a-9b23-4fde-a630-d93189cb13e6",
   "metadata": {},
   "source": [
    "Problem 5: Product Inventory Create classes representing a product and an inventory system. Implement methods to add products to the inventory, update product quantity, and display available products."
   ]
  },
  {
   "cell_type": "code",
   "execution_count": 4,
   "id": "49d8fed9-3a62-4ca2-98ae-dadde5e83455",
   "metadata": {},
   "outputs": [],
   "source": [
    "class Product:\n",
    "    def __init__(self, product_id, name, price, quantity):\n",
    "        self.product_id = product_id\n",
    "        self.name = name\n",
    "        self.price = price\n",
    "        self.quantity = quantity\n",
    "\n",
    "    def __str__(self):\n",
    "        return f\"Product ID: {self.product_id}, Name: {self.name}, Price: Rs{self.price}, Quantity: {self.quantity}\""
   ]
  },
  {
   "cell_type": "code",
   "execution_count": 5,
   "id": "7e363976-5a5f-431c-941a-f49fe930cf16",
   "metadata": {},
   "outputs": [],
   "source": [
    "class Inventory:\n",
    "    def __init__(self):\n",
    "        self.products = {}\n",
    "\n",
    "    def add_product(self, product):\n",
    "        if product.product_id in self.products:\n",
    "            print(f\"Product with ID {product.product_id} already exists in inventory.\")\n",
    "        else:\n",
    "            self.products[product.product_id] = product\n",
    "            print(f\"Product added to inventory: {product.name}\")\n",
    "\n",
    "    def update_quantity(self, product_id, new_quantity):\n",
    "        if product_id in self.products:\n",
    "            product = self.products[product_id]\n",
    "            product.quantity = new_quantity\n",
    "            print(f\"Quantity for {product.name} updated to {new_quantity}.\")\n",
    "        else:\n",
    "            print(f\"Product with ID {product_id} not found in inventory.\")\n",
    "\n",
    "    def display_available_products(self):\n",
    "        print(\"Available Products:\")\n",
    "        for product in self.products.values():\n",
    "            if product.quantity > 0:\n",
    "                print(product)"
   ]
  },
  {
   "cell_type": "code",
   "execution_count": 7,
   "id": "75311e0f-7318-4386-ab6d-2b645173d2db",
   "metadata": {},
   "outputs": [
    {
     "name": "stdout",
     "output_type": "stream",
     "text": [
      "Product added to inventory: Laptop\n",
      "Product added to inventory: Phone\n",
      "Quantity for Laptop updated to 5.\n",
      "Product with ID 3 not found in inventory.\n",
      "Available Products:\n",
      "Product ID: 1, Name: Laptop, Price: Rs50000, Quantity: 5\n",
      "Product ID: 2, Name: Phone, Price: Rs12000, Quantity: 15\n"
     ]
    }
   ],
   "source": [
    "inventory = Inventory()\n",
    "\n",
    "product1 = Product(1, \"Laptop\", 50000, 10)\n",
    "product2 = Product(2, \"Phone\", 12000, 15)\n",
    "\n",
    "inventory.add_product(product1)\n",
    "inventory.add_product(product2)\n",
    "\n",
    "inventory.update_quantity(1, 5)\n",
    "inventory.update_quantity(3, 20)\n",
    "\n",
    "inventory.display_available_products()"
   ]
  },
  {
   "cell_type": "markdown",
   "id": "3208e751-3c12-4a35-a984-d406c57aca1a",
   "metadata": {},
   "source": [
    "Problem 6: Shape Calculation Create a class representing a shape with attributes like length, width, and height. Implement methods to calculate the area and perimeter of the shape."
   ]
  },
  {
   "cell_type": "code",
   "execution_count": 8,
   "id": "73a182d2-7566-4b2f-a020-4d8e55a12569",
   "metadata": {},
   "outputs": [],
   "source": [
    "class Shape:\n",
    "    def __init__(self, length, width, height=None):\n",
    "        self.length = length\n",
    "        self.width = width\n",
    "        self.height = height\n",
    "\n",
    "    def calculate_area(self):\n",
    "        raise NotImplementedError(\"Subclasses must implement this method\")\n",
    "\n",
    "    def calculate_perimeter(self):\n",
    "        raise NotImplementedError(\"Subclasses must implement this method\")"
   ]
  },
  {
   "cell_type": "code",
   "execution_count": 9,
   "id": "21188f01-7a75-4e3f-8ecd-bcfce67e167c",
   "metadata": {},
   "outputs": [],
   "source": [
    "class Rectangle(Shape):\n",
    "    def calculate_area(self):\n",
    "        return self.length * self.width\n",
    "\n",
    "    def calculate_perimeter(self):\n",
    "        return 2 * (self.length + self.width)\n",
    "\n",
    "class Triangle(Shape):\n",
    "    def calculate_area(self):\n",
    "        if self.height is not None:\n",
    "            return 0.5 * self.length * self.height\n",
    "        else:\n",
    "            raise ValueError(\"Height must be provided for a triangle\")\n",
    "\n",
    "    def calculate_perimeter(self):\n",
    "        return self.length + self.width + (2 * (self.height or 0))"
   ]
  },
  {
   "cell_type": "code",
   "execution_count": 11,
   "id": "ab5302ab-9b03-4d30-a287-1dbde76cd946",
   "metadata": {},
   "outputs": [
    {
     "name": "stdout",
     "output_type": "stream",
     "text": [
      "Rectangle:\n",
      "Area: 20\n",
      "Perimeter: 18\n",
      "\n",
      "Triangle:\n",
      "Area: 7.5\n",
      "Perimeter: 17\n"
     ]
    }
   ],
   "source": [
    "rectangle = Rectangle(5, 4)\n",
    "triangle = Triangle(3, 4, 5)\n",
    "\n",
    "print(\"Rectangle:\")\n",
    "print(f\"Area: {rectangle.calculate_area()}\")\n",
    "print(f\"Perimeter: {rectangle.calculate_perimeter()}\")\n",
    "\n",
    "print(\"\\nTriangle:\")\n",
    "print(f\"Area: {triangle.calculate_area()}\")\n",
    "print(f\"Perimeter: {triangle.calculate_perimeter()}\")"
   ]
  },
  {
   "cell_type": "markdown",
   "id": "b64733aa-0ed2-47ca-8026-04e6200f4b22",
   "metadata": {},
   "source": [
    "Problem 7: Student Management Create a class representing a student with attributes like student ID, name, and grades. Implement methods to calculate the average grade and display student details."
   ]
  },
  {
   "cell_type": "code",
   "execution_count": 12,
   "id": "5ec40239-a1d2-4445-a0f9-03675a4138e5",
   "metadata": {},
   "outputs": [],
   "source": [
    "class Student:\n",
    "    def __init__(self, student_id, name):\n",
    "        self.student_id = student_id\n",
    "        self.name = name\n",
    "        self.grades = []\n",
    "\n",
    "    def add_grade(self, grade):\n",
    "        self.grades.append(grade)\n",
    "\n",
    "    def calculate_average_grade(self):\n",
    "        if len(self.grades) == 0:\n",
    "            return 0  # Avoid division by zero\n",
    "        total = sum(self.grades)\n",
    "        return total / len(self.grades)\n",
    "\n",
    "    def display_student_details(self):\n",
    "        print(f\"Student ID: {self.student_id}\")\n",
    "        print(f\"Name: {self.name}\")\n",
    "        print(\"Grades:\", self.grades)\n",
    "        print(f\"Average Grade: {self.calculate_average_grade()}\")"
   ]
  },
  {
   "cell_type": "code",
   "execution_count": 14,
   "id": "d0041e59-cc84-4ad9-a034-35cf3abad09b",
   "metadata": {},
   "outputs": [
    {
     "name": "stdout",
     "output_type": "stream",
     "text": [
      "Student ID: 1\n",
      "Name: Sankalp Patil\n",
      "Grades: [90, 85, 92]\n",
      "Average Grade: 89.0\n",
      "\n",
      "Student ID: 2\n",
      "Name: Priyanka Sawkare\n",
      "Grades: [78, 88, 95]\n",
      "Average Grade: 87.0\n"
     ]
    }
   ],
   "source": [
    "student1 = Student(1, \"Sankalp Patil\")\n",
    "student1.add_grade(90)\n",
    "student1.add_grade(85)\n",
    "student1.add_grade(92)\n",
    "\n",
    "student2 = Student(2, \"Priyanka Sawkare\")\n",
    "student2.add_grade(78)\n",
    "student2.add_grade(88)\n",
    "student2.add_grade(95)\n",
    "\n",
    "student1.display_student_details()\n",
    "print()\n",
    "student2.display_student_details()"
   ]
  },
  {
   "cell_type": "markdown",
   "id": "31627a01-fefc-4102-8cf9-291a66db3409",
   "metadata": {},
   "source": [
    "Problem 8: Email Management Create a class representing an email with attributes like sender, recipient, and subject. Implement methods to send an email and display email details."
   ]
  },
  {
   "cell_type": "markdown",
   "id": "bc880c54-c03c-4970-93ce-71b52f9c7aba",
   "metadata": {},
   "source": [
    "class Email:\n",
    "    def __init__(self, sender, recipient, subject, message):\n",
    "        self.sender = sender\n",
    "        self.recipient = recipient\n",
    "        self.subject = subject\n",
    "        self.message = message\n",
    "        self.sent = False\n",
    "\n",
    "    def send_email(self):\n",
    "        # Implement the logic to send the email here (e.g., using SMTP, API, etc.)\n",
    "        # In this example, we'll just print a message indicating the email was sent.\n",
    "        print(f\"Email sent from {self.sender} to {self.recipient}.\")\n",
    "        self.sent = True\n",
    "\n",
    "    def display_email_details(self):\n",
    "        print(\"Email Details:\")\n",
    "        print(f\"Sender: {self.sender}\")\n",
    "        print(f\"Recipient: {self.recipient}\")\n",
    "        print(f\"Subject: {self.subject}\")\n",
    "        print(\"Message:\")\n",
    "        print(self.message)\n",
    "        if self.sent:\n",
    "            print(\"Status: Sent\")\n",
    "        else:\n",
    "            print(\"Status: Draft\")"
   ]
  },
  {
   "cell_type": "code",
   "execution_count": 16,
   "id": "55c6e683-8fc9-4639-9f3f-97aa27b65ee7",
   "metadata": {},
   "outputs": [
    {
     "name": "stdout",
     "output_type": "stream",
     "text": [
      "Email Details:\n",
      "Sender: sender@example.com\n",
      "Recipient: recipient@example.com\n",
      "Subject: Hello\n",
      "Message:\n",
      "This is the email message.\n",
      "Status: Draft\n",
      "\n",
      "Email sent from sender@example.com to recipient@example.com.\n",
      "Email Details:\n",
      "Sender: sender@example.com\n",
      "Recipient: recipient@example.com\n",
      "Subject: Hello\n",
      "Message:\n",
      "This is the email message.\n",
      "Status: Sent\n"
     ]
    }
   ],
   "source": [
    "email = Email(\"sender@example.com\", \"recipient@example.com\", \"Hello\", \"This is the email message.\")\n",
    "\n",
    "email.display_email_details()  # Display email details (status: Draft)\n",
    "print()\n",
    "\n",
    "email.send_email()  # Send the email\n",
    "email.display_email_details()  # Display email details (status: Sent)"
   ]
  },
  {
   "cell_type": "markdown",
   "id": "9f64cd3c-f744-4f95-9b49-11e8e88e2104",
   "metadata": {},
   "source": [
    "Problem 9: Social Media Profile Create a class representing a social media profile with attributes like username and posts. Implement methods to add posts, display posts, and search for posts by keyword."
   ]
  },
  {
   "cell_type": "code",
   "execution_count": 17,
   "id": "d2aa4cf6-408f-4681-9f42-f9d77490ea42",
   "metadata": {},
   "outputs": [],
   "source": [
    "class SocialMediaProfile:\n",
    "    def __init__(self, username):\n",
    "        self.username = username\n",
    "        self.posts = []\n",
    "\n",
    "    def add_post(self, post_text):\n",
    "        self.posts.append(post_text)\n",
    "\n",
    "    def display_posts(self):\n",
    "        print(f\"Posts by {self.username}:\")\n",
    "        for i, post in enumerate(self.posts, start=1):\n",
    "            print(f\"{i}. {post}\")\n",
    "\n",
    "    def search_posts(self, keyword):\n",
    "        matching_posts = [post for post in self.posts if keyword in post]\n",
    "        if matching_posts:\n",
    "            print(f\"Posts by {self.username} containing the keyword '{keyword}':\")\n",
    "            for i, post in enumerate(matching_posts, start=1):\n",
    "                print(f\"{i}. {post}\")\n",
    "        else:\n",
    "            print(f\"No posts by {self.username} contain the keyword '{keyword}'.\")"
   ]
  },
  {
   "cell_type": "code",
   "execution_count": 19,
   "id": "4d03fd6c-e6c1-4e82-add0-a2779f6824d7",
   "metadata": {},
   "outputs": [
    {
     "name": "stdout",
     "output_type": "stream",
     "text": [
      "Posts by Sankalp Patil:\n",
      "1. Hello, this is my first post on social media!\n",
      "2. Enjoying a beautiful day outdoors.\n",
      "3. I love coding in Python. #programming\n",
      "Posts by Sankalp Patil containing the keyword 'coding':\n",
      "1. I love coding in Python. #programming\n"
     ]
    }
   ],
   "source": [
    "profile = SocialMediaProfile(\"Sankalp Patil\")\n",
    "\n",
    "profile.add_post(\"Hello, this is my first post on social media!\")\n",
    "profile.add_post(\"Enjoying a beautiful day outdoors.\")\n",
    "profile.add_post(\"I love coding in Python. #programming\")\n",
    "\n",
    "profile.display_posts()\n",
    "\n",
    "keyword = \"coding\"\n",
    "profile.search_posts(keyword)"
   ]
  },
  {
   "cell_type": "markdown",
   "id": "63e02b60-b1f9-4011-bf43-f9c5e46d5082",
   "metadata": {},
   "source": [
    "Problem 10: ToDo List Create a class representing a ToDo list with attributes like tasks and due dates. Implement methods to add tasks, mark tasks as completed, and display pending tasks."
   ]
  },
  {
   "cell_type": "code",
   "execution_count": 20,
   "id": "2f28a265-94bb-40b5-b050-31a69ddca5e2",
   "metadata": {},
   "outputs": [],
   "source": [
    "class ToDoList:\n",
    "    def __init__(self):\n",
    "        self.tasks = {}  # Use a dictionary to store tasks with due dates\n",
    "\n",
    "    def add_task(self, task, due_date):\n",
    "        self.tasks[task] = due_date\n",
    "\n",
    "    def mark_task_as_completed(self, task):\n",
    "        if task in self.tasks:\n",
    "            del self.tasks[task]\n",
    "            print(f\"Task '{task}' marked as completed.\")\n",
    "        else:\n",
    "            print(f\"Task '{task}' not found in the To-Do list.\")\n",
    "\n",
    "    def display_pending_tasks(self):\n",
    "        if not self.tasks:\n",
    "            print(\"No pending tasks in the To-Do list.\")\n",
    "        else:\n",
    "            print(\"Pending Tasks:\")\n",
    "            for task, due_date in self.tasks.items():\n",
    "                print(f\"- {task} (Due on: {due_date})\")"
   ]
  },
  {
   "cell_type": "code",
   "execution_count": 21,
   "id": "9915c338-6bf0-4e86-a521-5231067ed6c2",
   "metadata": {},
   "outputs": [
    {
     "name": "stdout",
     "output_type": "stream",
     "text": [
      "Pending Tasks:\n",
      "- Buy groceries (Due on: 2023-11-01)\n",
      "- Finish project report (Due on: 2023-10-25)\n",
      "- Call the client (Due on: 2023-10-28)\n",
      "Task 'Buy groceries' marked as completed.\n",
      "Pending Tasks:\n",
      "- Finish project report (Due on: 2023-10-25)\n",
      "- Call the client (Due on: 2023-10-28)\n"
     ]
    }
   ],
   "source": [
    "to_do_list = ToDoList()\n",
    "\n",
    "to_do_list.add_task(\"Buy groceries\", \"2023-11-01\")\n",
    "to_do_list.add_task(\"Finish project report\", \"2023-10-25\")\n",
    "to_do_list.add_task(\"Call the client\", \"2023-10-28\")\n",
    "\n",
    "to_do_list.display_pending_tasks()\n",
    "\n",
    "task_to_complete = \"Buy groceries\"\n",
    "to_do_list.mark_task_as_completed(task_to_complete)\n",
    "\n",
    "to_do_list.display_pending_tasks()"
   ]
  },
  {
   "cell_type": "code",
   "execution_count": null,
   "id": "4e156813-5537-40f7-97da-48a41854c34e",
   "metadata": {},
   "outputs": [],
   "source": []
  }
 ],
 "metadata": {
  "kernelspec": {
   "display_name": "Python 3 (ipykernel)",
   "language": "python",
   "name": "python3"
  },
  "language_info": {
   "codemirror_mode": {
    "name": "ipython",
    "version": 3
   },
   "file_extension": ".py",
   "mimetype": "text/x-python",
   "name": "python",
   "nbconvert_exporter": "python",
   "pygments_lexer": "ipython3",
   "version": "3.11.5"
  }
 },
 "nbformat": 4,
 "nbformat_minor": 5
}
